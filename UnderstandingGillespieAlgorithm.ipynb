{
 "cells": [
  {
   "cell_type": "markdown",
   "metadata": {},
   "source": [
    "# GUI"
   ]
  },
  {
   "cell_type": "code",
   "execution_count": null,
   "metadata": {},
   "outputs": [],
   "source": [
    "%matplotlib widget\n",
    "\n",
    "import ipywidgets as widgets\n",
    "from ipywidgets import GridspecLayout, Label, FloatText, HTMLMath\n",
    "from ipywidgets import interactive_output, fixed\n",
    "\n",
    "from translocation_model import TranslocationModel"
   ]
  },
  {
   "cell_type": "code",
   "execution_count": null,
   "metadata": {},
   "outputs": [],
   "source": [
    "def update_model_parameters(\n",
    "        models: TranslocationModel | list[TranslocationModel],\n",
    "        **kwargs,\n",
    ") -> None:\n",
    "    \"\"\"Update the parameters of the given model(s).\n",
    "\n",
    "    Typically called by an interactive_output widget:\n",
    "    interactive_output(update_model_parameters, \n",
    "                       {'models': fixed(models), \n",
    "                       **parameters})\n",
    "    where parameters is a dictionary {parameter_name: parameter_widget}.\n",
    "    The parameters key must match the name of the corresponding parameters in \n",
    "    the model.\n",
    "\n",
    "    Args:\n",
    "        models: A TranslocationModel or a list of TranslocationModels.\n",
    "        kwargs: A dictionary {parameter_name: parameter_value} of parameters to\n",
    "            update.\n",
    "    \"\"\"\n",
    "    if isinstance(models, TranslocationModel):\n",
    "        models = [models]\n",
    "    for model in models:\n",
    "        for key, value in kwargs.items():\n",
    "            if key in vars(model):\n",
    "                setattr(model, key, value)\n",
    "\n",
    "def add_parameter(\n",
    "        grid: GridspecLayout,\n",
    "        row: int,\n",
    "        col: int,\n",
    "        symbol: str,\n",
    "        desc: str,\n",
    "        value: float = 1.0,\n",
    "        is_constrained: bool = False\n",
    ") -> None:\n",
    "    \"\"\"Add a parameter to the given grid.\n",
    "\n",
    "    The parameter has a symbol, a value, and a description. If the parameter is\n",
    "    not constrained, the value is a FloatText widget. If the parameter is\n",
    "    constrained, the value is a Label widget.\n",
    "\n",
    "    Args:\n",
    "        grid: A GridspecLayout.\n",
    "        row: The row to add the parameter to.\n",
    "        col: The column to add the parameter to.\n",
    "        symbol: The LaTeX symbol of the parameter.\n",
    "        desc: A description of the parameter.\n",
    "        value: The initial value of the parameter.\n",
    "        is_constrained: Whether the parameter is constrained by other parameters\n",
    "            in the model. If yes, the parameter is displayed as a label rather\n",
    "            than a float text.\n",
    "    \"\"\"\n",
    "    if is_constrained:\n",
    "        parameter = Label(value=str(value))\n",
    "    else:\n",
    "        parameter = FloatText(value=value)\n",
    "    grid[row, col] = HTMLMath(value=symbol)\n",
    "    grid[row, col+1] = parameter\n",
    "    grid[row, col+2] = Label(value=desc)\n",
    "    return parameter\n",
    "        \n",
    "def add_general_parameters(\n",
    "        grid: GridspecLayout, \n",
    "        parameters: dict[str, FloatText | Label],\n",
    "        row: int = 0, \n",
    "        col: int = 0\n",
    "):\n",
    "    \"\"\"Add write/read interface for general parameters to the given grid.\n",
    "\n",
    "    Add inplace the parameters to the given grid and the {symbol: widget_value} \n",
    "    parameters dictionary.\n",
    "    \n",
    "    The grid is a 9x3 grid of widgets starting at the given row and column and\n",
    "    expanding downwards and to the right. Each parameter row contains a symbol, \n",
    "    a value, and a description. \n",
    "    The rows are:\n",
    "    0: \"General physical parameters\"\n",
    "    1: ATP/ADP concentration ratio (ATP_ADP_ratio)\n",
    "    2: Equilibrium ATP/ADP concentration ratio (equilibrium_ATP_ADP_ratio)\n",
    "    3: Protomer-ATP dissociation constant (K_d_ATP)\n",
    "    4: Protomer-ADP dissociation constant (K_d_ADP)\n",
    "    5: Effective ADP->ATP exchange rate (k_DT)\n",
    "    6: Effective ATP->ADP exchange rate (k_TD) (constrained by ATP<->ADP \n",
    "        exchange model)\n",
    "    7: ATP hydrolysis rate (k_h)\n",
    "    8: ATP synthesis rate (k_s)\n",
    "    \"\"\"\n",
    "    grid[row, col] = Label(value=\"General Physical Parameters\")\n",
    "\n",
    "    ATP_ADP_ratio = add_parameter(\n",
    "        grid, row + 1, col, r\"\\frac{[\\text{ATP}]}{[\\text{ADP}]}\", \n",
    "        \"ATP/ADP concentration ratio\")\n",
    "    \n",
    "    equilibrium_ATP_ADP_ratio = add_parameter(\n",
    "        grid, row + 2, col, \n",
    "        r\"\\frac{[\\text{ATP}]}{[\\text{ADP}]}\\Bigr|_\\text{eq.}\", \n",
    "        \"Equilibrium ATP/ADP concentration ratio\")\n",
    "    \n",
    "    K_d_ATP = add_parameter(\n",
    "        grid, row + 3, col, r\"K_d^\\text{ATP}\", \n",
    "        \"Protomer-ATP dissociation constant\")\n",
    "    \n",
    "    K_d_ADP = add_parameter(\n",
    "        grid, row + 4, col, r\"K_d^\\text{ADP}\", \n",
    "        \"Protomer-ADP dissociation constant\")\n",
    "    \n",
    "    k_DT = add_parameter(\n",
    "        grid, row + 5, col, r\"k_{DT}\", \"Effective ADP->ATP exchange rate\")\n",
    "    \n",
    "    def compute_k_TD():\n",
    "        return k_DT.value * K_d_ATP.value / K_d_ADP.value / ATP_ADP_ratio.value\n",
    "    k_TD = add_parameter(\n",
    "        grid, row + 6, col, r\"k_{TD}\", \n",
    "        \"Effective ATP->ADP exchange rate (constrained by ATP<->ADP exchange \"\\\n",
    "            \"model)\",\n",
    "        value=compute_k_TD(), is_constrained=True)\n",
    "    def change_k_TD(_): \n",
    "        k_TD.value = str(compute_k_TD())\n",
    "    k_DT.observe(change_k_TD, names='value')\n",
    "    K_d_ATP.observe(change_k_TD, names='value')\n",
    "    K_d_ADP.observe(change_k_TD, names='value')\n",
    "    ATP_ADP_ratio.observe(change_k_TD, names='value')\n",
    "\n",
    "    k_h = add_parameter(grid, row + 7, col, r\"k_h\", \"ATP hydrolysis rate\")\n",
    "\n",
    "    k_s = add_parameter(grid, row + 8, col, r\"k_s\", \"ATP synthesis rate\")\n",
    "\n",
    "    parameters.update({\n",
    "        \"ATP_ADP_ratio\": ATP_ADP_ratio,\n",
    "        \"equilibrium_ATP_ADP_ratio\": equilibrium_ATP_ADP_ratio,\n",
    "        \"K_d_ATP\": K_d_ATP,\n",
    "        \"K_d_ADP\": K_d_ADP,\n",
    "        \"k_DT\": k_DT,\n",
    "        \"k_TD\": k_TD,\n",
    "        \"k_h\": k_h,\n",
    "        \"k_s\": k_s,\n",
    "    })\n"
   ]
  },
  {
   "cell_type": "code",
   "execution_count": null,
   "metadata": {},
   "outputs": [],
   "source": [
    "def add_SC2R_parameters(\n",
    "        grid: GridspecLayout, \n",
    "        parameters: dict[str, FloatText | Label],\n",
    "        row: int = 0, \n",
    "        col: int = 0\n",
    ") -> dict[str, FloatText | Label]:\n",
    "    \"\"\"Add write/read interface for SC2R parameters to the given grid.\n",
    "\n",
    "    Add inplace the parameters to the given grid and the {symbol: widget_value}\n",
    "    parameters dictionary.\n",
    "\n",
    "    The parameters dictionary must contain the general parameters.\n",
    "\n",
    "    The gris is a 3x3 grid of widgets starting at the given row and column and\n",
    "    expanding downwards and to the right. Each parameter row contains a symbol, \n",
    "    a value, and a description.\n",
    "    The rows are:\n",
    "    0: \"SC2R parameters\"\n",
    "    1: Translocation up rate (k_up)\n",
    "    2: Translocation down rate (k_down) (constrained by the detailed balance)\n",
    "    \"\"\"\n",
    "    grid[row, col] = Label(\n",
    "        value=\"Sequential Clockwise/2-Residue Step Model Physical Parameters\")\n",
    "    \n",
    "    k_up = add_parameter(\n",
    "        grid, row + 1, col, r\"k_\\uparrow\", \"Translocation up rate\")\n",
    "    \n",
    "    def compute_k_down():\n",
    "        return (\n",
    "            parameters[\"k_h\"].value * k_up.value * parameters[\"k_DT\"].value\n",
    "            / (parameters[\"k_s\"].value * float(parameters[\"k_TD\"].value)) # Because k_TD is a Label\n",
    "            * (parameters[\"equilibrium_ATP_ADP_ratio\"].value \n",
    "               / parameters[\"ATP_ADP_ratio\"].value)\n",
    "        )\n",
    "    k_down = add_parameter(\n",
    "        grid, row + 2, col, r\"k_\\downarrow\", \n",
    "        \"Translocation down rate (constrained by the detailed balance)\",\n",
    "        value=compute_k_down(), is_constrained=True)\n",
    "    def change_k_down(_):\n",
    "        k_down.value = str(compute_k_down())\n",
    "    k_up.observe(change_k_down, names='value')\n",
    "    parameters['ATP_ADP_ratio'].observe(change_k_down, names='value')\n",
    "    parameters['equilibrium_ATP_ADP_ratio'].observe(change_k_down, \n",
    "                                                    names='value')\n",
    "    parameters['k_h'].observe(change_k_down, names='value')\n",
    "    parameters['k_s'].observe(change_k_down, names='value')\n",
    "    parameters['k_DT'].observe(change_k_down, names='value')\n",
    "\n",
    "    parameters.update({\n",
    "        \"k_up\": k_up,\n",
    "        \"k_down\": k_down,\n",
    "    })"
   ]
  },
  {
   "cell_type": "code",
   "execution_count": null,
   "metadata": {},
   "outputs": [],
   "source": [
    "def add_disc_spiral_parameters(\n",
    "    grid: GridspecLayout,\n",
    "    parameters: dict[str, FloatText | Label],\n",
    "    row: int = 0,\n",
    "    col: int = 0\n",
    ") -> dict[str, FloatText | Label]:\n",
    "    \"\"\"Add write/read interface for Disc-Spiral parameters to the given grid.\n",
    "\n",
    "    Add inplace the parameters to the given grid and the {symbol: widget_value}\n",
    "    parameters dictionary.\n",
    "\n",
    "    The parameters dictionary must contain the general parameters.\n",
    "\n",
    "    The gris is a 8x3 grid of widgets starting at the given row and column and\n",
    "    expanding downwards and to the right. Each parameter row contains a symbol, \n",
    "    a value, and a description.\n",
    "    The rows are:\n",
    "    k_[extended/flat]_to_[flat/extended]_[up/down]\n",
    "    0: \"Disc-Spiral Model\"\n",
    "    1: Number of protomers (n_protomers)\n",
    "    2: Effective ATP hydrolysis rate (k_h_bar)\n",
    "    3: Spiral->disc up translocation rate (k_extended_to_flat_up)\n",
    "    4: Disc->spiral down translocation rate (k_flat_to_extended_down)\n",
    "    5: Effective disc->spiral down translocation rate (k_flat_to_extended_down_bar)\n",
    "    6: Disc->spiral up translocation rate (k_flat_to_extended_up)\n",
    "    7: Spiral->disc down translocation rate (k_extended_to_flat_down) (\n",
    "        constrained by the detailed balance)\n",
    "    \"\"\"\n",
    "    grid[row, col] = Label(\n",
    "        value=\"Disc-Spiral Model Physical Parameters\")\n",
    "    \n",
    "    n_protomers = add_parameter(\n",
    "        grid, row + 1, col, r\"n_\\text{protomers}\", \"Number of protomers\")\n",
    "    \n",
    "    def compute_k_h_bar(): \n",
    "        return n_protomers.value * parameters[\"k_h\"].value\n",
    "    k_h_bar = add_parameter(\n",
    "        grid, row + 2, col, r\"\\bar{k}_h\", \"Effective ATP hydrolysis rate\", \n",
    "        value=compute_k_h_bar(), is_constrained=True)\n",
    "    def change_k_h_bar(_):\n",
    "        k_h_bar.value = str(compute_k_h_bar())\n",
    "    n_protomers.observe(change_k_h_bar, names='value')\n",
    "    parameters['k_h'].observe(change_k_h_bar, names='value')\n",
    "\n",
    "    k_extended_to_flat_up = add_parameter(\n",
    "        grid, row + 3, col, r\"k_↱\", \"Spiral->disc up translocation rate\")\n",
    "    \n",
    "    k_flat_to_extended_down = add_parameter(\n",
    "        grid, row + 4, col, r\"k_⤵\", \"Disc->spiral down translocation rate\")\n",
    "    \n",
    "    def compute_k_flat_to_extended_down_bar():\n",
    "        return n_protomers.value * k_flat_to_extended_down.value\n",
    "    k_flat_to_extended_down_bar = add_parameter(\n",
    "        grid, row + 5, col, r\"\\bar{k}_⤵\", \n",
    "        \"Effective disc->spiral down translocation rate\", \n",
    "        value=compute_k_flat_to_extended_down_bar(), is_constrained=True)\n",
    "    def change_k_flat_to_extended_down_bar(_):\n",
    "        k_flat_to_extended_down_bar.value = str(\n",
    "            compute_k_flat_to_extended_down_bar())\n",
    "    n_protomers.observe(change_k_flat_to_extended_down_bar, names='value')\n",
    "    k_flat_to_extended_down.observe(change_k_flat_to_extended_down_bar,\n",
    "                                    names='value')\n",
    "\n",
    "    k_flat_to_extended_up = add_parameter(\n",
    "        grid, row + 6, col, r\"k_⤴\", \"Disc->spiral up translocation rate\")\n",
    "    \n",
    "    def compute_k_extended_to_flat_down():\n",
    "        return ((parameters[\"k_h\"].value * k_flat_to_extended_up.value \n",
    "                 * parameters[\"k_DT\"].value * k_extended_to_flat_up.value)\n",
    "                / (parameters[\"k_s\"].value * float(parameters[\"k_TD\"].value) \n",
    "                   * k_flat_to_extended_down.value)\n",
    "                * (parameters[\"equilibrium_ATP_ADP_ratio\"].value \n",
    "                   / parameters[\"ATP_ADP_ratio\"].value))\n",
    "    k_extended_to_flat_down = add_parameter(\n",
    "        grid, row + 7, col, r\"k_↳\", \n",
    "        \"Spiral->disc down translocation rate (constrained by the detailed \"\\\n",
    "            \"balance)\",\n",
    "        value=compute_k_extended_to_flat_down(), is_constrained=True)\n",
    "    def change_k_extended_to_flat_down(_):\n",
    "        k_extended_to_flat_down.value = str(compute_k_extended_to_flat_down())\n",
    "    parameters['k_h'].observe(change_k_extended_to_flat_down, names='value')\n",
    "    parameters['k_s'].observe(change_k_extended_to_flat_down, names='value')\n",
    "    parameters['k_DT'].observe(change_k_extended_to_flat_down, names='value')\n",
    "    k_extended_to_flat_up.observe(change_k_extended_to_flat_down, names='value')\n",
    "    k_flat_to_extended_down.observe(change_k_extended_to_flat_down,\n",
    "                                    names='value')\n",
    "    k_flat_to_extended_up.observe(change_k_extended_to_flat_down, names='value')\n",
    "    parameters['ATP_ADP_ratio'].observe(change_k_extended_to_flat_down, \n",
    "                                        names='value')\n",
    "    parameters['equilibrium_ATP_ADP_ratio'].observe(\n",
    "        change_k_extended_to_flat_down, names='value')\n",
    "    \n",
    "    parameters.update({\n",
    "        \"n_protomers\": n_protomers,\n",
    "        \"k_h_bar\": k_h_bar,\n",
    "        \"k_extended_to_flat_up\": k_extended_to_flat_up,\n",
    "        \"k_flat_to_extended_down\": k_flat_to_extended_down,\n",
    "        \"k_flat_to_extended_down_bar\": k_flat_to_extended_down_bar,\n",
    "        \"k_flat_to_extended_up\": k_flat_to_extended_up,\n",
    "        \"k_extended_to_flat_down\": k_extended_to_flat_down,\n",
    "    })\n",
    "    "
   ]
  },
  {
   "cell_type": "code",
   "execution_count": null,
   "metadata": {},
   "outputs": [],
   "source": [
    "\"\"\"gui = GridspecLayout(20, 3)\n",
    "parameters = {}\n",
    "add_general_parameters(gui, parameters)\n",
    "add_SC2R_parameters(gui, parameters, row=9)\n",
    "add_disc_spiral_parameters(gui, parameters, row=12)\"\"\""
   ]
  },
  {
   "cell_type": "markdown",
   "metadata": {},
   "source": [
    "# Test interactive plot"
   ]
  },
  {
   "cell_type": "code",
   "execution_count": null,
   "metadata": {},
   "outputs": [],
   "source": [
    "%matplotlib widget\n",
    "\n",
    "from translocation_model import TranslocationModel, SC2R1Loop\n",
    "import matplotlib.pyplot as plt"
   ]
  },
  {
   "cell_type": "code",
   "execution_count": null,
   "metadata": {},
   "outputs": [],
   "source": [
    "a = widgets.IntSlider()\n",
    "b = widgets.IntSlider()\n",
    "c = widgets.IntSlider()\n",
    "ui = widgets.HBox([a, b, c])\n",
    "def f(a, b, c):\n",
    "    print((a, b, c))\n",
    "\n",
    "out = widgets.interactive_output(f, {'a': a, 'b': b, 'c': c})\n",
    "\n",
    "display(ui, out)"
   ]
  },
  {
   "cell_type": "code",
   "execution_count": null,
   "metadata": {},
   "outputs": [],
   "source": [
    "%matplotlib widget\n",
    "import ipywidgets as widgets \n",
    "import matplotlib.pyplot as plt\n",
    "\n",
    "out = widgets.Output(layout=widgets.Layout(height='300px'))\n",
    "\n",
    "#fig, ax = plt.subplots()\n",
    "\n",
    "def f(change):\n",
    "    with out:\n",
    "        # This works!!!\n",
    "        plt.close()\n",
    "        fig, ax = plt.subplots()\n",
    "\n",
    "        #plt.cla()\n",
    "\n",
    "        ax.plot([0, 1],[0, 10])\n",
    "        ax.set_title(change['new'])\n",
    "        out.clear_output()  # Required, otherwise output area stays the same but plots get added\n",
    "        # display(fig)  # Doesn't work as a replacement of plt.show()\n",
    "        plt.show()  # If not here, multiple plots are shown!\n",
    "\n",
    "w = widgets.IntSlider(min=0, max=10, value=5)\n",
    "w.observe(f, names=\"value\")\n",
    "display(w, out)"
   ]
  },
  {
   "cell_type": "code",
   "execution_count": null,
   "metadata": {},
   "outputs": [],
   "source": [
    "%matplotlib widget\n",
    "import ipywidgets as widgets \n",
    "import matplotlib.pyplot as plt\n",
    "from ipywidgets import interactive_output, fixed\n",
    "\n",
    "# out = widgets.Output(layout=widgets.Layout(height='300px'))\n",
    "\n",
    "#fig, ax = plt.subplots()\n",
    "\n",
    "def f(change):\n",
    "    with out:\n",
    "        # This works!!!\n",
    "        plt.close()\n",
    "        fig, ax = plt.subplots()\n",
    "\n",
    "        #plt.cla()\n",
    "\n",
    "        ax.plot([0, 1],[0, 10])\n",
    "        ax.set_title(change)\n",
    "        out.clear_output()  # Required, otherwise output area stays the same but plots get added\n",
    "        # display(fig)  # Doesn't work as a replacement of plt.show()\n",
    "        plt.show()  # If not here, multiple plots are shown!\n",
    "\n",
    "w = widgets.IntSlider(min=0, max=10, value=5)\n",
    "#w.observe(f, names=\"value\")\n",
    "out = interactive_output(f, {'change': w})\n",
    "display(w, out)"
   ]
  },
  {
   "cell_type": "code",
   "execution_count": 7,
   "metadata": {},
   "outputs": [
    {
     "data": {
      "application/vnd.jupyter.widget-view+json": {
       "model_id": "8bc8f3ff0d4a4b49a9a439e40ffaa345",
       "version_major": 2,
       "version_minor": 0
      },
      "text/plain": [
       "IntSlider(value=5, max=10)"
      ]
     },
     "metadata": {},
     "output_type": "display_data"
    },
    {
     "data": {
      "application/vnd.jupyter.widget-view+json": {
       "model_id": "3ca92a08d07d4e11a18842678eefc318",
       "version_major": 2,
       "version_minor": 0
      },
      "text/plain": [
       "Output()"
      ]
     },
     "metadata": {},
     "output_type": "display_data"
    },
    {
     "name": "stderr",
     "output_type": "stream",
     "text": [
      "No such comm: 767350dec0044d4ba7c985ee2e1c4111\n"
     ]
    }
   ],
   "source": [
    "%matplotlib widget\n",
    "import ipywidgets as widgets \n",
    "import matplotlib.pyplot as plt\n",
    "from ipywidgets import interactive_output, fixed\n",
    "\n",
    "# out = widgets.Output(layout=widgets.Layout(height='300px'))\n",
    "\n",
    "#fig, ax = plt.subplots()\n",
    "\n",
    "def f(change):\n",
    "    with out:\n",
    "        # This works!!!\n",
    "        plt.close(1)\n",
    "        fig = plt.figure(1)\n",
    "        ax = fig.add_subplot(111)\n",
    "        #fig, ax = plt.subplots()\n",
    "\n",
    "        #plt.cla()\n",
    "\n",
    "        ax.plot([0, 1],[0, 10])\n",
    "        ax.set_title(change)\n",
    "        out.clear_output()  # Required, otherwise output area stays the same but plots get added\n",
    "        # display(fig)  # Doesn't work as a replacement of plt.show()\n",
    "        plt.show()  # If not here, multiple plots are shown!\n",
    "\n",
    "w = widgets.IntSlider(min=0, max=10, value=5)\n",
    "#w.observe(f, names=\"value\")\n",
    "out = interactive_output(f, {'change': w})\n",
    "display(w, out)"
   ]
  },
  {
   "cell_type": "code",
   "execution_count": 5,
   "metadata": {},
   "outputs": [
    {
     "data": {
      "application/vnd.jupyter.widget-view+json": {
       "model_id": "245220c8a04f46c29c3b79b8cce7b476",
       "version_major": 2,
       "version_minor": 0
      },
      "text/plain": [
       "IntSlider(value=5, max=10)"
      ]
     },
     "metadata": {},
     "output_type": "display_data"
    },
    {
     "data": {
      "application/vnd.jupyter.widget-view+json": {
       "model_id": "92616359e52a4ef9ab350603944b3122",
       "version_major": 2,
       "version_minor": 0
      },
      "text/plain": [
       "Output()"
      ]
     },
     "metadata": {},
     "output_type": "display_data"
    }
   ],
   "source": [
    "%matplotlib widget\n",
    "import ipywidgets as widgets \n",
    "import matplotlib.pyplot as plt\n",
    "from ipywidgets import interactive_output, fixed\n",
    "\n",
    "# out = widgets.Output(layout=widgets.Layout(height='300px'))\n",
    "\n",
    "#fig, ax = plt.subplots()\n",
    "\n",
    "def f2(change):\n",
    "    with out2:\n",
    "        # This works!!!\n",
    "        plt.close(2)\n",
    "        fig = plt.figure(2)\n",
    "        ax = fig.add_subplot(111)\n",
    "        #fig, ax = plt.subplots()\n",
    "\n",
    "        #plt.cla()\n",
    "\n",
    "        ax.plot([0, 1],[0, 10])\n",
    "        ax.set_title(change)\n",
    "        out2.clear_output()  # Required, otherwise output area stays the same but plots get added\n",
    "        # display(fig)  # Doesn't work as a replacement of plt.show()\n",
    "        plt.show()  # If not here, multiple plots are shown!\n",
    "\n",
    "w2 = widgets.IntSlider(min=0, max=10, value=5)\n",
    "#w.observe(f, names=\"value\")\n",
    "out2 = interactive_output(f2, {'change': w2})\n",
    "display(w2, out2)"
   ]
  },
  {
   "cell_type": "markdown",
   "metadata": {},
   "source": [
    "# Imports"
   ]
  },
  {
   "cell_type": "code",
   "execution_count": null,
   "metadata": {},
   "outputs": [],
   "source": [
    "%matplotlib widget"
   ]
  },
  {
   "cell_type": "code",
   "execution_count": null,
   "metadata": {},
   "outputs": [],
   "source": [
    "from translocation_model import (SC2R1Loop, SC2R2Loops, DiscSpiral, \n",
    "                                 DefectiveSC2R, DefectiveDiscSpiral)\n",
    "\n",
    "import numpy as np\n",
    "import pandas as pd\n",
    "import networkx as nx\n",
    "import matplotlib.pyplot as plt"
   ]
  },
  {
   "cell_type": "code",
   "execution_count": null,
   "metadata": {},
   "outputs": [],
   "source": [
    "savefig = False # Indicate if we want to save the figures"
   ]
  },
  {
   "cell_type": "markdown",
   "metadata": {},
   "source": [
    "# Simple Gillespie trajectories"
   ]
  },
  {
   "cell_type": "markdown",
   "metadata": {},
   "source": [
    "## Spiraling in Control: Sequential Clockwise/2-Residue Step\n",
    "\n"
   ]
  },
  {
   "cell_type": "markdown",
   "metadata": {},
   "source": [
    "### 1 loop\n",
    "\n",
    "![](SC_2R_1_loop_kinetic_scheme.jpg)"
   ]
  },
  {
   "cell_type": "code",
   "execution_count": null,
   "metadata": {},
   "outputs": [],
   "source": [
    "SC_2R_1_loop = SC2R1Loop()\n",
    "trajectories = SC_2R_1_loop.gillespie(n_simulations=5, \n",
    "    cumulative_sums=['position', 'ATP'])\n",
    "ax = SC_2R_1_loop.plot_position_evolution(\n",
    "    list(trajectory[['timestamp', 'position']] for trajectory in trajectories),\n",
    "    time_unit=r\"$1/k_\\uparrow$\", \n",
    "    position_unit=\"Residues\", \n",
    "    kinetic_scheme_image_path=\"SC_2R_1_loop_kinetic_scheme.jpg\",\n",
    "    title=\"Sequential Clockwise/2-Residue Step, 1 loop\"\n",
    ")\n",
    "plt.show()"
   ]
  },
  {
   "cell_type": "markdown",
   "metadata": {},
   "source": [
    "### 2 loops\n",
    "\n",
    "![](SC_2R_2_different_loops_kinetic_scheme.jpg)\n",
    "\n",
    "TODO create image"
   ]
  },
  {
   "cell_type": "code",
   "execution_count": null,
   "metadata": {},
   "outputs": [],
   "source": [
    "SC_2R_2_loops = SC2R2Loops()\n",
    "trajectories = SC_2R_2_loops.gillespie(n_simulations=5,\n",
    "    cumulative_sums=['position', 'ATP'])\n",
    "ax = SC_2R_2_loops.plot_position_evolution(\n",
    "    list(trajectory[['timestamp', 'position']] for trajectory in trajectories),\n",
    "    time_unit=r\"$1/k_\\uparrow$\", \n",
    "    position_unit=\"Residues\", \n",
    "    kinetic_scheme_image_path=\"SC_2R_2_different_loops_kinetic_scheme.jpg\",\n",
    "    title=\"Sequential Clockwise/2-Residue Step, 2 loops\"\n",
    ")\n",
    "plt.show()"
   ]
  },
  {
   "cell_type": "markdown",
   "metadata": {},
   "source": [
    "## Disc-Spiral model\n",
    "\n",
    "![](Disc_spiral_kinetic_scheme.jpg)"
   ]
  },
  {
   "cell_type": "code",
   "execution_count": null,
   "metadata": {},
   "outputs": [],
   "source": [
    "disc_spiral = DiscSpiral()\n",
    "trajectories = disc_spiral.gillespie(n_simulations=5,\n",
    "    cumulative_sums={'position': 'displacement', 'ATP': 'ATP'})\n",
    "ax = disc_spiral.plot_position_evolution(\n",
    "    list(trajectory[['timestamp', 'position']] for trajectory in trajectories),\n",
    "    time_unit=r\"$1/k_⤴$\", \n",
    "    position_unit=\"Residues\", \n",
    "    kinetic_scheme_image_path=\"Disc_spiral_kinetic_scheme.jpg\",\n",
    "    title=\"Disc Spiral/2(N-1)-Residue Step\"\n",
    ")\n",
    "plt.show()"
   ]
  },
  {
   "cell_type": "markdown",
   "metadata": {},
   "source": [
    "# Experiments"
   ]
  },
  {
   "cell_type": "markdown",
   "metadata": {},
   "source": [
    "## Relation between ATP/ADP concentrations ratio and velocity"
   ]
  },
  {
   "cell_type": "code",
   "execution_count": null,
   "metadata": {},
   "outputs": [],
   "source": [
    "models = [SC2R1Loop(), SC2R2Loops(), DiscSpiral()]\n",
    "ratios = np.logspace(-3, 5, 100) * SC_2R_1_loop.equilibrium_ATP_ADP_ratio\n",
    "velocities = {model: [] for model in models}\n",
    "for ratio in ratios:\n",
    "    for model in models:\n",
    "        model.ATP_ADP_ratio = ratio\n",
    "        velocities[model].append(model.average_velocity())\n",
    "\n",
    "for model in models:\n",
    "    plt.plot(ratios, velocities[model], label=model.__class__.__name__)\n",
    "plt.xscale('log')\n",
    "plt.xlabel(\"ATP/ADP ratio\")\n",
    "plt.ylabel(\"Average velocity\")\n",
    "plt.legend()\n",
    "plt.show()"
   ]
  },
  {
   "cell_type": "markdown",
   "metadata": {},
   "source": [
    "## Sequential Clockwise/2-Residue Step, comparison between 1 and 2 loops"
   ]
  },
  {
   "cell_type": "code",
   "execution_count": null,
   "metadata": {},
   "outputs": [],
   "source": [
    "# 1 loop and 2 loops models\n",
    "SC_2R_1_loop = SC2R1Loop()\n",
    "SC_2R_2_loops = SC2R2Loops()\n",
    "\n",
    "ATP_ADP_ratios = np.logspace(-1, 1, 10)\n",
    "for ATP_ADP_ratio in ATP_ADP_ratios:\n",
    "    print(\"ATP/ADP:\", ATP_ADP_ratio)\n",
    "    SC_2R_1_loop.ATP_ADP_ratio = ATP_ADP_ratio\n",
    "    SC_2R_2_loops.ATP_ADP_ratio = ATP_ADP_ratio\n",
    "    print({node: attributes['probability']() \n",
    "           for node, attributes \n",
    "           in SC_2R_1_loop.kinetic_scheme.nodes(data=True)})\n",
    "    print({node: attributes['probability']() \n",
    "           for node, attributes \n",
    "           in SC_2R_2_loops.kinetic_scheme.nodes(data=True)})\n",
    "\n"
   ]
  },
  {
   "cell_type": "markdown",
   "metadata": {},
   "source": [
    "## Add potential"
   ]
  },
  {
   "cell_type": "code",
   "execution_count": null,
   "metadata": {},
   "outputs": [],
   "source": [
    "# If positive, potential increases when chaperone goes up, i.e. it favors going\n",
    "# down.\n",
    "potential_over_temperature = 0.1\n",
    "SC_2R_1_loop = SC2R1Loop()\n",
    "for _, _, attributes in SC_2R_1_loop.kinetic_scheme.edges(data=True):\n",
    "    if 'position' in attributes and attributes['position'] > 0:\n",
    "        old_rate = attributes['rate']\n",
    "        attributes['rate'] = (\n",
    "            lambda old_rate=old_rate: \n",
    "                old_rate() * np.exp(-potential_over_temperature))\n",
    "    elif 'position' in attributes and attributes['position'] < 0:\n",
    "        old_rate = attributes['rate']\n",
    "        attributes['rate'] = (\n",
    "            lambda old_rate=old_rate: \n",
    "                old_rate() * np.exp(potential_over_temperature))\n",
    "\n",
    "SC_2R_1_loop_position = SC_2R_1_loop.gillespie(\n",
    "    n_steps=1000, \n",
    "    n_simulations=1, \n",
    "    cumulative_sums={'position': 'displacement'})\n",
    "\n",
    "ax = SC_2R_1_loop.plot_position_evolution(\n",
    "    SC_2R_1_loop_position[['timestamp', 'position']],\n",
    "    time_unit=r\"a.u.\", \n",
    "    position_unit=\"Residues\", \n",
    "    kinetic_scheme_image_path=\"SC_2R_1_loop_kinetic_scheme.jpg\",\n",
    "    title=\"Sequential Clockwise/2-Residue Step, 1 loop\"\n",
    ")"
   ]
  },
  {
   "cell_type": "markdown",
   "metadata": {},
   "source": [
    "## Defective protomer"
   ]
  },
  {
   "cell_type": "code",
   "execution_count": null,
   "metadata": {},
   "outputs": [],
   "source": [
    "sc2r = SC2R1Loop()\n",
    "defective_sc2r = DefectiveSC2R()\n",
    "disc_spiral = DiscSpiral()\n",
    "defective_disc_spiral = DefectiveDiscSpiral()\n",
    "\n",
    "defect_factors = np.logspace(-3, 0, 100)\n",
    "velocities = {\n",
    "    'SC2R': [],\n",
    "    'Disc spiral': [],\n",
    "    'Defective SC2R': [],\n",
    "    'Defective disc spiral': [],\n",
    "}\n",
    "for defect_factor in defect_factors:\n",
    "    defective_sc2r.defect_factor = defect_factor\n",
    "    defective_disc_spiral.defect_factor = defect_factor\n",
    "    velocities['SC2R'].append(sc2r.average_velocity())\n",
    "    velocities['Disc spiral'].append(disc_spiral.average_velocity())\n",
    "    velocities['Defective SC2R'].append(defective_sc2r.average_velocity())\n",
    "    velocities['Defective disc spiral'].append(\n",
    "        defective_disc_spiral.average_velocity())\n",
    "\n",
    "fig, ax = plt.subplots()\n",
    "for model in velocities:\n",
    "    ax.plot(defect_factors, velocities[model], label=model)\n",
    "ax.axvline(1, color='k', linestyle='--')\n",
    "ax.set_xscale('log')\n",
    "ax.set_xlabel(\"Defect factor\")\n",
    "ax.set_ylabel(\"Average velocity\")\n",
    "ax.legend()\n",
    "plt.show()\n",
    "# print max velocity\n",
    "print(\"Max velocity for SC2R:\", max(velocities['SC2R']))\n",
    "print(\"Max velocity for Disc spiral:\", max(velocities['Disc spiral']))\n",
    "print(\"Max velocity for Defective SC2R:\", max(velocities['Defective SC2R']))\n",
    "print(\"Max velocity for Defective disc spiral:\", \n",
    "      max(velocities['Defective disc spiral']))\n"
   ]
  },
  {
   "cell_type": "markdown",
   "metadata": {},
   "source": [
    "# Test interactivity"
   ]
  },
  {
   "cell_type": "code",
   "execution_count": null,
   "metadata": {},
   "outputs": [],
   "source": [
    "import mpl_interactions.ipyplot as iplt\n",
    "import matplotlib.pyplot as plt\n",
    "import numpy as np\n",
    "\n",
    "x = np.linspace(0, np.pi, 100)\n",
    "tau = np.linspace(0.5, 10, 100)\n",
    "\n",
    "def f1(x, tau, beta):\n",
    "    return np.sin(x * tau) * x * beta\n",
    "def f2(x, tau, beta):\n",
    "    return np.sin(x * beta) * x * tau\n",
    "\n",
    "\n",
    "fig, ax = plt.subplots()\n",
    "controls = iplt.plot(x, f1, tau=tau, beta=(1, 10, 100), label=\"f1\")\n",
    "iplt.plot(x, f2, controls=controls, label=\"f2\")\n",
    "_ = plt.legend()\n",
    "plt.show()"
   ]
  },
  {
   "cell_type": "code",
   "execution_count": null,
   "metadata": {},
   "outputs": [],
   "source": [
    "from ipywidgets import interact, interactive, fixed, interact_manual\n",
    "import ipywidgets as widgets\n",
    "from IPython.display import display"
   ]
  },
  {
   "cell_type": "code",
   "execution_count": null,
   "metadata": {},
   "outputs": [],
   "source": [
    "sc2r = SC2R1Loop()\n",
    "box = widgets.FloatText(\n",
    "    value=1,\n",
    "    description=r'\\(k_\\uparrow\\):',\n",
    "    #disabled=False\n",
    ")\n",
    "slider = widgets.FloatSlider(\n",
    "    value=1,\n",
    "    min=0,\n",
    "    max=10.0,\n",
    "    step=0.1,\n",
    "    description=r'slider',\n",
    "    disabled=False,\n",
    "    continuous_update=False,\n",
    "    orientation='horizontal',\n",
    "    readout=True,\n",
    "    readout_format='.1f',\n",
    ")\n",
    "def update_k_up(k_up: float):\n",
    "    sc2r.k_up = k_up\n",
    "    box.value = sc2r.k_up\n",
    "interact(update_k_up, k_up=slider)\n",
    "#out = widgets.HBox([box])\n",
    "display(slider)\n",
    "#display(out)\n",
    "display(box)"
   ]
  },
  {
   "cell_type": "code",
   "execution_count": null,
   "metadata": {},
   "outputs": [],
   "source": [
    "from ipywidgets import GridspecLayout, Button, Layout\n",
    "def create_expanded_button(description, button_style):\n",
    "    return Button(description=description, button_style=button_style, layout=Layout(height='auto', width='auto'))\n",
    "\n",
    "grid = GridspecLayout(4, 3, height='300px')\n",
    "grid[:3, 1:] = create_expanded_button('One', 'success')\n",
    "grid[:, 0] = create_expanded_button('Two', 'info')\n",
    "grid[3, 1] = create_expanded_button('Three', 'warning')\n",
    "grid[3, 2] = create_expanded_button('Four', 'danger')\n",
    "grid"
   ]
  },
  {
   "cell_type": "code",
   "execution_count": null,
   "metadata": {},
   "outputs": [],
   "source": [
    "from ipywidgets import GridspecLayout, FloatText, Label, HTMLMath\n",
    "from ipywidgets import Label\n",
    "\n",
    "def add_parameter(\n",
    "        grid: GridspecLayout,\n",
    "        row: int,\n",
    "        symbol: str,\n",
    "        desc: str,\n",
    "        value: float = 1.0\n",
    "):\n",
    "    grid[row, 0] = HTMLMath(value=symbol)\n",
    "    grid[row, 1] = FloatText(value=value)\n",
    "    grid[row, 2] = Label(value=desc)\n",
    "\n",
    "grid = GridspecLayout(8, 3, height='300px')\n",
    "grid[0, :] = Label(value=\"General physical parameters\")\n",
    "add_parameter(grid, 1, r\"$\\frac{[\\text{ATP}]}{[\\text{ADP}]}\\Bigr|_\\text{eq.}$\",\n",
    "              \"Equilibrium ATP/ADP concentration ratio\")\n",
    "add_parameter(grid, 2, r\"$K_d^\\text{ATP}$\", \n",
    "              \"Protomer-ATP dissociation constant\")\n",
    "add_parameter(grid, 3, r\"$K_d^\\text{ADP}$\",\n",
    "              \"Protomer-ADP dissociation constant\")\n",
    "add_parameter(grid, 4, r\"$k_{DT}$\", \"Effective ADP->ATP exchange rate\")\n",
    "add_parameter(grid, 5, r\"$k_{TD}$\", \"Effective ATP->ADP exchange rate\")\n",
    "add_parameter(grid, 6, r\"$k_h$\", \"ATP hydrolysis rate\")\n",
    "add_parameter(grid, 7, r\"$k_s$\", \"ATP synthesis rate\")\n",
    "display(grid)\n",
    "\n",
    "\n",
    "display(widgets.Box([Label(value=str(grid[2, 1].value))]))\n",
    "display(widgets.Box([Label(value=\"test\")]))\n"
   ]
  },
  {
   "cell_type": "code",
   "execution_count": null,
   "metadata": {},
   "outputs": [],
   "source": [
    "# Get FloatText widget, not value\n",
    "for e in grid.children:\n",
    "    print(e)"
   ]
  },
  {
   "cell_type": "code",
   "execution_count": null,
   "metadata": {},
   "outputs": [],
   "source": [
    "a = widgets.IntSlider()\n",
    "b = grid.children[2] # widgets.IntSlider()\n",
    "x = widgets.IntSlider()\n",
    "ui = widgets.HBox([a, b, x])\n",
    "def f(a, b, c):\n",
    "    print((a, b, c))\n",
    "    print(a + b + c)\n",
    "\n",
    "out = widgets.interactive_output(f, {'a': a, 'b': b, 'c': x})\n",
    "\n",
    "display(ui, out)"
   ]
  }
 ],
 "metadata": {
  "kernelspec": {
   "display_name": "Python 3",
   "language": "python",
   "name": "python3"
  },
  "language_info": {
   "codemirror_mode": {
    "name": "ipython",
    "version": 3
   },
   "file_extension": ".py",
   "mimetype": "text/x-python",
   "name": "python",
   "nbconvert_exporter": "python",
   "pygments_lexer": "ipython3",
   "version": "3.11.7"
  }
 },
 "nbformat": 4,
 "nbformat_minor": 2
}
