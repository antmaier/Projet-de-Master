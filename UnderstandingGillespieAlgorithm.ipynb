{
 "cells": [
  {
   "cell_type": "markdown",
   "metadata": {},
   "source": [
    "# GUI"
   ]
  },
  {
   "cell_type": "code",
   "execution_count": null,
   "metadata": {},
   "outputs": [],
   "source": [
    "%matplotlib widget\n",
    "\n",
    "import ipywidgets as widgets\n",
    "from ipywidgets import GridspecLayout, Label, FloatText, HTMLMath\n",
    "from ipywidgets import interactive_output, fixed\n",
    "\n",
    "from translocation_model import TranslocationModel"
   ]
  },
  {
   "cell_type": "code",
   "execution_count": null,
   "metadata": {},
   "outputs": [],
   "source": [
    "def update_model_parameters(\n",
    "        models: TranslocationModel | list[TranslocationModel],\n",
    "        **kwargs,\n",
    ") -> None:\n",
    "    \"\"\"Update the parameters of the given model(s).\n",
    "\n",
    "    Typically called by an interactive_output widget:\n",
    "    interactive_output(update_model_parameters, \n",
    "                       {'models': fixed(models), \n",
    "                       **parameters})\n",
    "    where parameters is a dictionary {parameter_name: parameter_widget}.\n",
    "    The parameters key must match the name of the corresponding parameters in \n",
    "    the model.\n",
    "\n",
    "    Args:\n",
    "        models: A TranslocationModel or a list of TranslocationModels.\n",
    "        kwargs: A dictionary {parameter_name: parameter_value} of parameters to\n",
    "            update.\n",
    "    \"\"\"\n",
    "    if isinstance(models, TranslocationModel):\n",
    "        models = [models]\n",
    "    for model in models:\n",
    "        for key, value in kwargs.items():\n",
    "            if key in vars(model):\n",
    "                setattr(model, key, value)\n",
    "\n",
    "def add_parameter(\n",
    "        grid: GridspecLayout,\n",
    "        row: int,\n",
    "        col: int,\n",
    "        symbol: str,\n",
    "        desc: str,\n",
    "        value: float = 1.0,\n",
    "        is_constrained: bool = False\n",
    ") -> None:\n",
    "    \"\"\"Add a parameter to the given grid.\n",
    "\n",
    "    The parameter has a symbol, a value, and a description. If the parameter is\n",
    "    not constrained, the value is a FloatText widget. If the parameter is\n",
    "    constrained, the value is a Label widget.\n",
    "\n",
    "    Args:\n",
    "        grid: A GridspecLayout.\n",
    "        row: The row to add the parameter to.\n",
    "        col: The column to add the parameter to.\n",
    "        symbol: The LaTeX symbol of the parameter.\n",
    "        desc: A description of the parameter.\n",
    "        value: The initial value of the parameter.\n",
    "        is_constrained: Whether the parameter is constrained by other parameters\n",
    "            in the model. If yes, the parameter is displayed as a label rather\n",
    "            than a float text.\n",
    "    \"\"\"\n",
    "    if is_constrained:\n",
    "        parameter = Label(value=str(value))\n",
    "    else:\n",
    "        parameter = FloatText(value=value)\n",
    "    grid[row, col] = HTMLMath(value=symbol)\n",
    "    grid[row, col+1] = parameter\n",
    "    grid[row, col+2] = Label(value=desc)\n",
    "    return parameter\n",
    "        \n",
    "def add_general_parameters(\n",
    "        grid: GridspecLayout, \n",
    "        parameters: dict[str, FloatText | Label],\n",
    "        row: int = 0, \n",
    "        col: int = 0\n",
    "):\n",
    "    \"\"\"Add write/read interface for general parameters to the given grid.\n",
    "\n",
    "    Add inplace the parameters to the given grid and the {symbol: widget_value} \n",
    "    parameters dictionary.\n",
    "    \n",
    "    The grid is a 9x3 grid of widgets starting at the given row and column and\n",
    "    expanding downwards and to the right. Each parameter row contains a symbol, \n",
    "    a value, and a description. \n",
    "    The rows are:\n",
    "    0: \"General physical parameters\"\n",
    "    1: ATP/ADP concentration ratio (ATP_ADP_ratio)\n",
    "    2: Equilibrium ATP/ADP concentration ratio (equilibrium_ATP_ADP_ratio)\n",
    "    3: Protomer-ATP dissociation constant (K_d_ATP)\n",
    "    4: Protomer-ADP dissociation constant (K_d_ADP)\n",
    "    5: Effective ADP->ATP exchange rate (k_DT)\n",
    "    6: Effective ATP->ADP exchange rate (k_TD) (constrained by ATP<->ADP \n",
    "        exchange model)\n",
    "    7: ATP hydrolysis rate (k_h)\n",
    "    8: ATP synthesis rate (k_s)\n",
    "    \"\"\"\n",
    "    grid[row, col] = Label(value=\"General Physical Parameters\")\n",
    "\n",
    "    ATP_ADP_ratio = add_parameter(\n",
    "        grid, row + 1, col, r\"\\frac{[\\text{ATP}]}{[\\text{ADP}]}\", \n",
    "        \"ATP/ADP concentration ratio\")\n",
    "    \n",
    "    equilibrium_ATP_ADP_ratio = add_parameter(\n",
    "        grid, row + 2, col, \n",
    "        r\"\\frac{[\\text{ATP}]}{[\\text{ADP}]}\\Bigr|_\\text{eq.}\", \n",
    "        \"Equilibrium ATP/ADP concentration ratio\")\n",
    "    \n",
    "    K_d_ATP = add_parameter(\n",
    "        grid, row + 3, col, r\"K_d^\\text{ATP}\", \n",
    "        \"Protomer-ATP dissociation constant\")\n",
    "    \n",
    "    K_d_ADP = add_parameter(\n",
    "        grid, row + 4, col, r\"K_d^\\text{ADP}\", \n",
    "        \"Protomer-ADP dissociation constant\")\n",
    "    \n",
    "    k_DT = add_parameter(\n",
    "        grid, row + 5, col, r\"k_{DT}\", \"Effective ADP->ATP exchange rate\")\n",
    "    \n",
    "    def compute_k_TD():\n",
    "        return k_DT.value * K_d_ATP.value / K_d_ADP.value / ATP_ADP_ratio.value\n",
    "    k_TD = add_parameter(\n",
    "        grid, row + 6, col, r\"k_{TD}\", \n",
    "        \"Effective ATP->ADP exchange rate (constrained by ATP<->ADP exchange \"\\\n",
    "            \"model)\",\n",
    "        value=compute_k_TD(), is_constrained=True)\n",
    "    def change_k_TD(_): \n",
    "        k_TD.value = str(compute_k_TD())\n",
    "    k_DT.observe(change_k_TD, names='value')\n",
    "    K_d_ATP.observe(change_k_TD, names='value')\n",
    "    K_d_ADP.observe(change_k_TD, names='value')\n",
    "    ATP_ADP_ratio.observe(change_k_TD, names='value')\n",
    "\n",
    "    k_h = add_parameter(grid, row + 7, col, r\"k_h\", \"ATP hydrolysis rate\")\n",
    "\n",
    "    k_s = add_parameter(grid, row + 8, col, r\"k_s\", \"ATP synthesis rate\")\n",
    "\n",
    "    parameters.update({\n",
    "        \"ATP_ADP_ratio\": ATP_ADP_ratio,\n",
    "        \"equilibrium_ATP_ADP_ratio\": equilibrium_ATP_ADP_ratio,\n",
    "        \"K_d_ATP\": K_d_ATP,\n",
    "        \"K_d_ADP\": K_d_ADP,\n",
    "        \"k_DT\": k_DT,\n",
    "        \"k_TD\": k_TD,\n",
    "        \"k_h\": k_h,\n",
    "        \"k_s\": k_s,\n",
    "    })\n"
   ]
  },
  {
   "cell_type": "code",
   "execution_count": null,
   "metadata": {},
   "outputs": [],
   "source": [
    "def add_SC2R_parameters(\n",
    "        grid: GridspecLayout, \n",
    "        parameters: dict[str, FloatText | Label],\n",
    "        row: int = 0, \n",
    "        col: int = 0\n",
    ") -> dict[str, FloatText | Label]:\n",
    "    \"\"\"Add write/read interface for SC2R parameters to the given grid.\n",
    "\n",
    "    Add inplace the parameters to the given grid and the {symbol: widget_value}\n",
    "    parameters dictionary.\n",
    "\n",
    "    The parameters dictionary must contain the general parameters.\n",
    "\n",
    "    The gris is a 3x3 grid of widgets starting at the given row and column and\n",
    "    expanding downwards and to the right. Each parameter row contains a symbol, \n",
    "    a value, and a description.\n",
    "    The rows are:\n",
    "    0: \"SC2R parameters\"\n",
    "    1: Translocation up rate (k_up)\n",
    "    2: Translocation down rate (k_down) (constrained by the detailed balance)\n",
    "    \"\"\"\n",
    "    grid[row, col] = Label(\n",
    "        value=\"Sequential Clockwise/2-Residue Step Model Physical Parameters\")\n",
    "    \n",
    "    k_up = add_parameter(\n",
    "        grid, row + 1, col, r\"k_\\uparrow\", \"Translocation up rate\")\n",
    "    \n",
    "    def compute_k_down():\n",
    "        return (\n",
    "            parameters[\"k_h\"].value * k_up.value * parameters[\"k_DT\"].value\n",
    "            / (parameters[\"k_s\"].value * float(parameters[\"k_TD\"].value)) # Because k_TD is a Label\n",
    "            * (parameters[\"equilibrium_ATP_ADP_ratio\"].value \n",
    "               / parameters[\"ATP_ADP_ratio\"].value)\n",
    "        )\n",
    "    k_down = add_parameter(\n",
    "        grid, row + 2, col, r\"k_\\downarrow\", \n",
    "        \"Translocation down rate (constrained by the detailed balance)\",\n",
    "        value=compute_k_down(), is_constrained=True)\n",
    "    def change_k_down(_):\n",
    "        k_down.value = str(compute_k_down())\n",
    "    k_up.observe(change_k_down, names='value')\n",
    "    parameters['ATP_ADP_ratio'].observe(change_k_down, names='value')\n",
    "    parameters['equilibrium_ATP_ADP_ratio'].observe(change_k_down, \n",
    "                                                    names='value')\n",
    "    parameters['k_h'].observe(change_k_down, names='value')\n",
    "    parameters['k_s'].observe(change_k_down, names='value')\n",
    "    parameters['k_DT'].observe(change_k_down, names='value')\n",
    "\n",
    "    parameters.update({\n",
    "        \"k_up\": k_up,\n",
    "        \"k_down\": k_down,\n",
    "    })"
   ]
  },
  {
   "cell_type": "code",
   "execution_count": null,
   "metadata": {},
   "outputs": [],
   "source": [
    "def add_disc_spiral_parameters(\n",
    "    grid: GridspecLayout,\n",
    "    parameters: dict[str, FloatText | Label],\n",
    "    row: int = 0,\n",
    "    col: int = 0\n",
    ") -> dict[str, FloatText | Label]:\n",
    "    \"\"\"Add write/read interface for Disc-Spiral parameters to the given grid.\n",
    "\n",
    "    Add inplace the parameters to the given grid and the {symbol: widget_value}\n",
    "    parameters dictionary.\n",
    "\n",
    "    The parameters dictionary must contain the general parameters.\n",
    "\n",
    "    The gris is a 8x3 grid of widgets starting at the given row and column and\n",
    "    expanding downwards and to the right. Each parameter row contains a symbol, \n",
    "    a value, and a description.\n",
    "    The rows are:\n",
    "    k_[extended/flat]_to_[flat/extended]_[up/down]\n",
    "    0: \"Disc-Spiral Model\"\n",
    "    1: Number of protomers (n_protomers)\n",
    "    2: Effective ATP hydrolysis rate (k_h_bar)\n",
    "    3: Spiral->disc up translocation rate (k_extended_to_flat_up)\n",
    "    4: Disc->spiral down translocation rate (k_flat_to_extended_down)\n",
    "    5: Effective disc->spiral down translocation rate (k_flat_to_extended_down_bar)\n",
    "    6: Disc->spiral up translocation rate (k_flat_to_extended_up)\n",
    "    7: Spiral->disc down translocation rate (k_extended_to_flat_down) (\n",
    "        constrained by the detailed balance)\n",
    "    \"\"\"\n",
    "    grid[row, col] = Label(\n",
    "        value=\"Disc-Spiral Model Physical Parameters\")\n",
    "    \n",
    "    n_protomers = add_parameter(\n",
    "        grid, row + 1, col, r\"n_\\text{protomers}\", \"Number of protomers\")\n",
    "    \n",
    "    def compute_k_h_bar(): \n",
    "        return n_protomers.value * parameters[\"k_h\"].value\n",
    "    k_h_bar = add_parameter(\n",
    "        grid, row + 2, col, r\"\\bar{k}_h\", \"Effective ATP hydrolysis rate\", \n",
    "        value=compute_k_h_bar(), is_constrained=True)\n",
    "    def change_k_h_bar(_):\n",
    "        k_h_bar.value = str(compute_k_h_bar())\n",
    "    n_protomers.observe(change_k_h_bar, names='value')\n",
    "    parameters['k_h'].observe(change_k_h_bar, names='value')\n",
    "\n",
    "    k_extended_to_flat_up = add_parameter(\n",
    "        grid, row + 3, col, r\"k_↱\", \"Spiral->disc up translocation rate\")\n",
    "    \n",
    "    k_flat_to_extended_down = add_parameter(\n",
    "        grid, row + 4, col, r\"k_⤵\", \"Disc->spiral down translocation rate\")\n",
    "    \n",
    "    def compute_k_flat_to_extended_down_bar():\n",
    "        return n_protomers.value * k_flat_to_extended_down.value\n",
    "    k_flat_to_extended_down_bar = add_parameter(\n",
    "        grid, row + 5, col, r\"\\bar{k}_⤵\", \n",
    "        \"Effective disc->spiral down translocation rate\", \n",
    "        value=compute_k_flat_to_extended_down_bar(), is_constrained=True)\n",
    "    def change_k_flat_to_extended_down_bar(_):\n",
    "        k_flat_to_extended_down_bar.value = str(\n",
    "            compute_k_flat_to_extended_down_bar())\n",
    "    n_protomers.observe(change_k_flat_to_extended_down_bar, names='value')\n",
    "    k_flat_to_extended_down.observe(change_k_flat_to_extended_down_bar,\n",
    "                                    names='value')\n",
    "\n",
    "    k_flat_to_extended_up = add_parameter(\n",
    "        grid, row + 6, col, r\"k_⤴\", \"Disc->spiral up translocation rate\")\n",
    "    \n",
    "    def compute_k_extended_to_flat_down():\n",
    "        return ((parameters[\"k_h\"].value * k_flat_to_extended_up.value \n",
    "                 * parameters[\"k_DT\"].value * k_extended_to_flat_up.value)\n",
    "                / (parameters[\"k_s\"].value * float(parameters[\"k_TD\"].value) \n",
    "                   * k_flat_to_extended_down.value)\n",
    "                * (parameters[\"equilibrium_ATP_ADP_ratio\"].value \n",
    "                   / parameters[\"ATP_ADP_ratio\"].value))\n",
    "    k_extended_to_flat_down = add_parameter(\n",
    "        grid, row + 7, col, r\"k_↳\", \n",
    "        \"Spiral->disc down translocation rate (constrained by the detailed \"\\\n",
    "            \"balance)\",\n",
    "        value=compute_k_extended_to_flat_down(), is_constrained=True)\n",
    "    def change_k_extended_to_flat_down(_):\n",
    "        k_extended_to_flat_down.value = str(compute_k_extended_to_flat_down())\n",
    "    parameters['k_h'].observe(change_k_extended_to_flat_down, names='value')\n",
    "    parameters['k_s'].observe(change_k_extended_to_flat_down, names='value')\n",
    "    parameters['k_DT'].observe(change_k_extended_to_flat_down, names='value')\n",
    "    k_extended_to_flat_up.observe(change_k_extended_to_flat_down, names='value')\n",
    "    k_flat_to_extended_down.observe(change_k_extended_to_flat_down,\n",
    "                                    names='value')\n",
    "    k_flat_to_extended_up.observe(change_k_extended_to_flat_down, names='value')\n",
    "    parameters['ATP_ADP_ratio'].observe(change_k_extended_to_flat_down, \n",
    "                                        names='value')\n",
    "    parameters['equilibrium_ATP_ADP_ratio'].observe(\n",
    "        change_k_extended_to_flat_down, names='value')\n",
    "    \n",
    "    parameters.update({\n",
    "        \"n_protomers\": n_protomers,\n",
    "        \"k_h_bar\": k_h_bar,\n",
    "        \"k_extended_to_flat_up\": k_extended_to_flat_up,\n",
    "        \"k_flat_to_extended_down\": k_flat_to_extended_down,\n",
    "        \"k_flat_to_extended_down_bar\": k_flat_to_extended_down_bar,\n",
    "        \"k_flat_to_extended_up\": k_flat_to_extended_up,\n",
    "        \"k_extended_to_flat_down\": k_extended_to_flat_down,\n",
    "    })\n",
    "    "
   ]
  },
  {
   "cell_type": "code",
   "execution_count": null,
   "metadata": {},
   "outputs": [],
   "source": [
    "\"\"\"gui = GridspecLayout(20, 3)\n",
    "parameters = {}\n",
    "add_general_parameters(gui, parameters)\n",
    "add_SC2R_parameters(gui, parameters, row=9)\n",
    "add_disc_spiral_parameters(gui, parameters, row=12)\"\"\""
   ]
  },
  {
   "cell_type": "markdown",
   "metadata": {},
   "source": [
    "# Test interactive plot"
   ]
  },
  {
   "cell_type": "code",
   "execution_count": null,
   "metadata": {},
   "outputs": [],
   "source": [
    "%matplotlib widget\n",
    "\n",
    "from translocation_model import TranslocationModel, SC2R1Loop\n",
    "import matplotlib.pyplot as plt"
   ]
  },
  {
   "cell_type": "code",
   "execution_count": null,
   "metadata": {},
   "outputs": [],
   "source": [
    "a = widgets.IntSlider()\n",
    "b = widgets.IntSlider()\n",
    "c = widgets.IntSlider()\n",
    "ui = widgets.HBox([a, b, c])\n",
    "def f(a, b, c):\n",
    "    print((a, b, c))\n",
    "\n",
    "out = widgets.interactive_output(f, {'a': a, 'b': b, 'c': c})\n",
    "\n",
    "display(ui, out)"
   ]
  },
  {
   "cell_type": "code",
   "execution_count": 48,
   "metadata": {},
   "outputs": [
    {
     "data": {
      "application/vnd.jupyter.widget-view+json": {
       "model_id": "5973874e1a2a4a95a1bd11672b0f8db0",
       "version_major": 2,
       "version_minor": 0
      },
      "text/plain": [
       "Output()"
      ]
     },
     "metadata": {},
     "output_type": "display_data"
    },
    {
     "data": {
      "application/vnd.jupyter.widget-view+json": {
       "model_id": "585c6e1c8c7d4335a4999ebe2299330b",
       "version_major": 2,
       "version_minor": 0
      },
      "text/plain": [
       "Output()"
      ]
     },
     "metadata": {},
     "output_type": "display_data"
    }
   ],
   "source": [
    "out1 = widgets.Output()\n",
    "out2 = widgets.Output()\n",
    "\n",
    "with out1:\n",
    "    fig1 = plt.figure(1)\n",
    "    ax1 = fig1.add_subplot(1, 1, 1)\n",
    "    ax1.plot([0, 1], [0, 1])\n",
    "    plt.show()\n",
    "\n",
    "with out2:\n",
    "    fig2 = plt.figure(2)\n",
    "    ax2 = fig2.add_subplot(1, 1, 1)\n",
    "    ax2.plot([0, 1], [0, 1])\n",
    "    ax2.plot([0, 1], [0, 2])\n",
    "    plt.show()\n",
    "\n",
    "display(out1, out2)"
   ]
  },
  {
   "cell_type": "code",
   "execution_count": 9,
   "metadata": {},
   "outputs": [
    {
     "data": {
      "application/vnd.jupyter.widget-view+json": {
       "model_id": "7f29c973f6244c15998a0e4550310e89",
       "version_major": 2,
       "version_minor": 0
      },
      "text/plain": [
       "IntSlider(value=5, max=10)"
      ]
     },
     "metadata": {},
     "output_type": "display_data"
    },
    {
     "data": {
      "application/vnd.jupyter.widget-view+json": {
       "model_id": "be12d8b9aea94484a97c2074f786b833",
       "version_major": 2,
       "version_minor": 0
      },
      "text/plain": [
       "Output()"
      ]
     },
     "metadata": {},
     "output_type": "display_data"
    },
    {
     "name": "stderr",
     "output_type": "stream",
     "text": [
      "No such comm: 93a9a1d03363495a8607e495e585dd84\n"
     ]
    },
    {
     "name": "stderr",
     "output_type": "stream",
     "text": [
      "No such comm: 3c0c5a71255443acaf4c6bf5ca399f03\n"
     ]
    }
   ],
   "source": [
    "%matplotlib widget\n",
    "import ipywidgets as widgets \n",
    "import matplotlib.pyplot as plt\n",
    "from ipywidgets import interactive_output, fixed\n",
    "\n",
    "# out = widgets.Output(layout=widgets.Layout(height='300px'))\n",
    "\n",
    "#fig, ax = plt.subplots()\n",
    "\n",
    "def f(change):\n",
    "    #with out:\n",
    "    # This works!!!\n",
    "    plt.close(1)\n",
    "    fig = plt.figure(1)\n",
    "    ax = fig.add_subplot(111)\n",
    "    #fig, ax = plt.subplots()\n",
    "\n",
    "    #plt.cla()\n",
    "\n",
    "    ax.plot([0, 1],[0, 10])\n",
    "    ax.set_title(change)\n",
    "    #out.clear_output()  # Required, otherwise output area stays the same but plots get added\n",
    "    # display(fig)  # Doesn't work as a replacement of plt.show()\n",
    "    plt.show()  # If not here, multiple plots are shown!\n",
    "\n",
    "w = widgets.IntSlider(min=0, max=10, value=5)\n",
    "#w.observe(f, names=\"value\")\n",
    "out = interactive_output(f, {'change': w})\n",
    "display(w, out)"
   ]
  },
  {
   "cell_type": "code",
   "execution_count": 60,
   "metadata": {},
   "outputs": [
    {
     "data": {
      "application/vnd.jupyter.widget-view+json": {
       "model_id": "38ad54f177af458fb25ef4847fc66678",
       "version_major": 2,
       "version_minor": 0
      },
      "text/plain": [
       "IntSlider(value=5, max=10)"
      ]
     },
     "metadata": {},
     "output_type": "display_data"
    },
    {
     "data": {
      "application/vnd.jupyter.widget-view+json": {
       "model_id": "54854f7dca9a42fa91f8f5a837e808ed",
       "version_major": 2,
       "version_minor": 0
      },
      "text/plain": [
       "Output()"
      ]
     },
     "metadata": {},
     "output_type": "display_data"
    },
    {
     "data": {
      "application/vnd.jupyter.widget-view+json": {
       "model_id": "01cfd5a900cd4fb9bf68aefbeb9cb062",
       "version_major": 2,
       "version_minor": 0
      },
      "image/png": "[encoded data removed]",
      "text/html": [
       "\n",
       "            <div style=\"display: inline-block;\">\n",
       "                <div class=\"jupyter-widgets widget-label\" style=\"text-align: center;\">\n",
       "                    Figure\n",
       "                </div>\n",
       "                <img src='data:image/png;base64,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' width=640.0/>\n",
       "            </div>\n",
       "        "
      ],
      "text/plain": [
       "Canvas(toolbar=Toolbar(toolitems=[('Home', 'Reset original view', 'home', 'home'), ('Back', 'Back to previous …"
      ]
     },
     "metadata": {},
     "output_type": "display_data"
    }
   ],
   "source": [
    "%matplotlib widget\n",
    "import ipywidgets as widgets \n",
    "import matplotlib.pyplot as plt\n",
    "from ipywidgets import interactive_output, fixed\n",
    "\n",
    "#fig, ax = plt.subplots()\n",
    "\n",
    "def f2(change):\n",
    "    # This works!!!\n",
    "    plt.close(2)\n",
    "    fig = plt.figure(2)\n",
    "    ax = fig.add_subplot(111)\n",
    "    #fig, ax = plt.subplots()\n",
    "\n",
    "    #plt.cla()\n",
    "\n",
    "    ax.plot([0, 1],[0, 10])\n",
    "    ax.set_title(change)\n",
    "\n",
    "    plt.close(3)\n",
    "    fig = plt.figure(3)\n",
    "    ax = fig.add_subplot(111)\n",
    "    ax.plot([0, 1],[0, 10])\n",
    "    ax.set_title(change)\n",
    "\n",
    "    #out2.clear_output()  # Required, otherwise output area stays the same but plots get added\n",
    "    # display(fig)  # Doesn't work as a replacement of plt.show()\n",
    "    plt.show()  # If not here, multiple plots are shown!\n",
    "\n",
    "w2 = widgets.IntSlider(min=0, max=10, value=5)\n",
    "#w.observe(f, names=\"value\")\n",
    "out2 = interactive_output(f2, {'change': w2})\n",
    "display(w2, out2)"
   ]
  },
  {
   "cell_type": "markdown",
   "metadata": {},
   "source": [
    "# Imports"
   ]
  },
  {
   "cell_type": "code",
   "execution_count": null,
   "metadata": {},
   "outputs": [],
   "source": [
    "%matplotlib widget"
   ]
  },
  {
   "cell_type": "code",
   "execution_count": null,
   "metadata": {},
   "outputs": [],
   "source": [
    "from translocation_model import (SC2R1Loop, SC2R2Loops, DiscSpiral, \n",
    "                                 DefectiveSC2R, DefectiveDiscSpiral)\n",
    "\n",
    "import numpy as np\n",
    "import pandas as pd\n",
    "import networkx as nx\n",
    "import matplotlib.pyplot as plt"
   ]
  },
  {
   "cell_type": "code",
   "execution_count": null,
   "metadata": {},
   "outputs": [],
   "source": [
    "savefig = False # Indicate if we want to save the figures"
   ]
  },
  {
   "cell_type": "markdown",
   "metadata": {},
   "source": [
    "# Simple Gillespie trajectories"
   ]
  },
  {
   "cell_type": "markdown",
   "metadata": {},
   "source": [
    "## Spiraling in Control: Sequential Clockwise/2-Residue Step\n",
    "\n"
   ]
  },
  {
   "cell_type": "markdown",
   "metadata": {},
   "source": [
    "### 1 loop\n",
    "\n",
    "![](SC_2R_1_loop_kinetic_scheme.jpg)"
   ]
  },
  {
   "cell_type": "code",
   "execution_count": null,
   "metadata": {},
   "outputs": [],
   "source": [
    "SC_2R_1_loop = SC2R1Loop()\n",
    "trajectories = SC_2R_1_loop.gillespie(n_simulations=5, \n",
    "    cumulative_sums=['position', 'ATP'])\n",
    "ax = SC_2R_1_loop.plot_position_evolution(\n",
    "    list(trajectory[['timestamp', 'position']] for trajectory in trajectories),\n",
    "    time_unit=r\"$1/k_\\uparrow$\", \n",
    "    position_unit=\"Residues\", \n",
    "    kinetic_scheme_image_path=\"SC_2R_1_loop_kinetic_scheme.jpg\",\n",
    "    title=\"Sequential Clockwise/2-Residue Step, 1 loop\"\n",
    ")\n",
    "plt.show()"
   ]
  },
  {
   "cell_type": "markdown",
   "metadata": {},
   "source": [
    "### 2 loops\n",
    "\n",
    "![](SC_2R_2_different_loops_kinetic_scheme.jpg)\n",
    "\n",
    "TODO create image"
   ]
  },
  {
   "cell_type": "code",
   "execution_count": null,
   "metadata": {},
   "outputs": [],
   "source": [
    "SC_2R_2_loops = SC2R2Loops()\n",
    "trajectories = SC_2R_2_loops.gillespie(n_simulations=5,\n",
    "    cumulative_sums=['position', 'ATP'])\n",
    "ax = SC_2R_2_loops.plot_position_evolution(\n",
    "    list(trajectory[['timestamp', 'position']] for trajectory in trajectories),\n",
    "    time_unit=r\"$1/k_\\uparrow$\", \n",
    "    position_unit=\"Residues\", \n",
    "    kinetic_scheme_image_path=\"SC_2R_2_different_loops_kinetic_scheme.jpg\",\n",
    "    title=\"Sequential Clockwise/2-Residue Step, 2 loops\"\n",
    ")\n",
    "plt.show()"
   ]
  },
  {
   "cell_type": "markdown",
   "metadata": {},
   "source": [
    "## Disc-Spiral model\n",
    "\n",
    "![](Disc_spiral_kinetic_scheme.jpg)"
   ]
  },
  {
   "cell_type": "code",
   "execution_count": null,
   "metadata": {},
   "outputs": [],
   "source": [
    "disc_spiral = DiscSpiral()\n",
    "trajectories = disc_spiral.gillespie(n_simulations=5,\n",
    "    cumulative_sums={'position': 'displacement', 'ATP': 'ATP'})\n",
    "ax = disc_spiral.plot_position_evolution(\n",
    "    list(trajectory[['timestamp', 'position']] for trajectory in trajectories),\n",
    "    time_unit=r\"$1/k_⤴$\", \n",
    "    position_unit=\"Residues\", \n",
    "    kinetic_scheme_image_path=\"Disc_spiral_kinetic_scheme.jpg\",\n",
    "    title=\"Disc Spiral/2(N-1)-Residue Step\"\n",
    ")\n",
    "plt.show()"
   ]
  },
  {
   "cell_type": "markdown",
   "metadata": {},
   "source": [
    "# Experiments"
   ]
  },
  {
   "cell_type": "markdown",
   "metadata": {},
   "source": [
    "## Relation between ATP/ADP concentrations ratio and velocity"
   ]
  },
  {
   "cell_type": "code",
   "execution_count": null,
   "metadata": {},
   "outputs": [],
   "source": [
    "models = [SC2R1Loop(), SC2R2Loops(), DiscSpiral()]\n",
    "ratios = np.logspace(-3, 5, 100) * SC_2R_1_loop.equilibrium_ATP_ADP_ratio\n",
    "velocities = {model: [] for model in models}\n",
    "for ratio in ratios:\n",
    "    for model in models:\n",
    "        model.ATP_ADP_ratio = ratio\n",
    "        velocities[model].append(model.average_velocity())\n",
    "\n",
    "for model in models:\n",
    "    plt.plot(ratios, velocities[model], label=model.__class__.__name__)\n",
    "plt.xscale('log')\n",
    "plt.xlabel(\"ATP/ADP ratio\")\n",
    "plt.ylabel(\"Average velocity\")\n",
    "plt.legend()\n",
    "plt.show()"
   ]
  },
  {
   "cell_type": "markdown",
   "metadata": {},
   "source": [
    "## Sequential Clockwise/2-Residue Step, comparison between 1 and 2 loops"
   ]
  },
  {
   "cell_type": "code",
   "execution_count": null,
   "metadata": {},
   "outputs": [],
   "source": [
    "# 1 loop and 2 loops models\n",
    "SC_2R_1_loop = SC2R1Loop()\n",
    "SC_2R_2_loops = SC2R2Loops()\n",
    "\n",
    "ATP_ADP_ratios = np.logspace(-1, 1, 10)\n",
    "for ATP_ADP_ratio in ATP_ADP_ratios:\n",
    "    print(\"ATP/ADP:\", ATP_ADP_ratio)\n",
    "    SC_2R_1_loop.ATP_ADP_ratio = ATP_ADP_ratio\n",
    "    SC_2R_2_loops.ATP_ADP_ratio = ATP_ADP_ratio\n",
    "    print({node: attributes['probability']() \n",
    "           for node, attributes \n",
    "           in SC_2R_1_loop.kinetic_scheme.nodes(data=True)})\n",
    "    print({node: attributes['probability']() \n",
    "           for node, attributes \n",
    "           in SC_2R_2_loops.kinetic_scheme.nodes(data=True)})\n",
    "\n"
   ]
  },
  {
   "cell_type": "markdown",
   "metadata": {},
   "source": [
    "## Add potential"
   ]
  },
  {
   "cell_type": "code",
   "execution_count": null,
   "metadata": {},
   "outputs": [],
   "source": [
    "# If positive, potential increases when chaperone goes up, i.e. it favors going\n",
    "# down.\n",
    "potential_over_temperature = 0.1\n",
    "SC_2R_1_loop = SC2R1Loop()\n",
    "for _, _, attributes in SC_2R_1_loop.kinetic_scheme.edges(data=True):\n",
    "    if 'position' in attributes and attributes['position'] > 0:\n",
    "        old_rate = attributes['rate']\n",
    "        attributes['rate'] = (\n",
    "            lambda old_rate=old_rate: \n",
    "                old_rate() * np.exp(-potential_over_temperature))\n",
    "    elif 'position' in attributes and attributes['position'] < 0:\n",
    "        old_rate = attributes['rate']\n",
    "        attributes['rate'] = (\n",
    "            lambda old_rate=old_rate: \n",
    "                old_rate() * np.exp(potential_over_temperature))\n",
    "\n",
    "SC_2R_1_loop_position = SC_2R_1_loop.gillespie(\n",
    "    n_steps=1000, \n",
    "    n_simulations=1, \n",
    "    cumulative_sums={'position': 'displacement'})\n",
    "\n",
    "ax = SC_2R_1_loop.plot_position_evolution(\n",
    "    SC_2R_1_loop_position[['timestamp', 'position']],\n",
    "    time_unit=r\"a.u.\", \n",
    "    position_unit=\"Residues\", \n",
    "    kinetic_scheme_image_path=\"SC_2R_1_loop_kinetic_scheme.jpg\",\n",
    "    title=\"Sequential Clockwise/2-Residue Step, 1 loop\"\n",
    ")"
   ]
  },
  {
   "cell_type": "markdown",
   "metadata": {},
   "source": [
    "## Defective protomer"
   ]
  },
  {
   "cell_type": "code",
   "execution_count": null,
   "metadata": {},
   "outputs": [],
   "source": [
    "sc2r = SC2R1Loop()\n",
    "defective_sc2r = DefectiveSC2R()\n",
    "disc_spiral = DiscSpiral()\n",
    "defective_disc_spiral = DefectiveDiscSpiral()\n",
    "\n",
    "defect_factors = np.logspace(-3, 0, 100)\n",
    "velocities = {\n",
    "    'SC2R': [],\n",
    "    'Disc spiral': [],\n",
    "    'Defective SC2R': [],\n",
    "    'Defective disc spiral': [],\n",
    "}\n",
    "for defect_factor in defect_factors:\n",
    "    defective_sc2r.defect_factor = defect_factor\n",
    "    defective_disc_spiral.defect_factor = defect_factor\n",
    "    velocities['SC2R'].append(sc2r.average_velocity())\n",
    "    velocities['Disc spiral'].append(disc_spiral.average_velocity())\n",
    "    velocities['Defective SC2R'].append(defective_sc2r.average_velocity())\n",
    "    velocities['Defective disc spiral'].append(\n",
    "        defective_disc_spiral.average_velocity())\n",
    "\n",
    "fig, ax = plt.subplots()\n",
    "for model in velocities:\n",
    "    ax.plot(defect_factors, velocities[model], label=model)\n",
    "ax.axvline(1, color='k', linestyle='--')\n",
    "ax.set_xscale('log')\n",
    "ax.set_xlabel(\"Defect factor\")\n",
    "ax.set_ylabel(\"Average velocity\")\n",
    "ax.legend()\n",
    "plt.show()\n",
    "# print max velocity\n",
    "print(\"Max velocity for SC2R:\", max(velocities['SC2R']))\n",
    "print(\"Max velocity for Disc spiral:\", max(velocities['Disc spiral']))\n",
    "print(\"Max velocity for Defective SC2R:\", max(velocities['Defective SC2R']))\n",
    "print(\"Max velocity for Defective disc spiral:\", \n",
    "      max(velocities['Defective disc spiral']))\n"
   ]
  },
  {
   "cell_type": "markdown",
   "metadata": {},
   "source": [
    "# Test interactivity"
   ]
  },
  {
   "cell_type": "code",
   "execution_count": null,
   "metadata": {},
   "outputs": [],
   "source": [
    "import mpl_interactions.ipyplot as iplt\n",
    "import matplotlib.pyplot as plt\n",
    "import numpy as np\n",
    "\n",
    "x = np.linspace(0, np.pi, 100)\n",
    "tau = np.linspace(0.5, 10, 100)\n",
    "\n",
    "def f1(x, tau, beta):\n",
    "    return np.sin(x * tau) * x * beta\n",
    "def f2(x, tau, beta):\n",
    "    return np.sin(x * beta) * x * tau\n",
    "\n",
    "\n",
    "fig, ax = plt.subplots()\n",
    "controls = iplt.plot(x, f1, tau=tau, beta=(1, 10, 100), label=\"f1\")\n",
    "iplt.plot(x, f2, controls=controls, label=\"f2\")\n",
    "_ = plt.legend()\n",
    "plt.show()"
   ]
  },
  {
   "cell_type": "code",
   "execution_count": null,
   "metadata": {},
   "outputs": [],
   "source": [
    "from ipywidgets import interact, interactive, fixed, interact_manual\n",
    "import ipywidgets as widgets\n",
    "from IPython.display import display"
   ]
  },
  {
   "cell_type": "code",
   "execution_count": null,
   "metadata": {},
   "outputs": [],
   "source": [
    "sc2r = SC2R1Loop()\n",
    "box = widgets.FloatText(\n",
    "    value=1,\n",
    "    description=r'\\(k_\\uparrow\\):',\n",
    "    #disabled=False\n",
    ")\n",
    "slider = widgets.FloatSlider(\n",
    "    value=1,\n",
    "    min=0,\n",
    "    max=10.0,\n",
    "    step=0.1,\n",
    "    description=r'slider',\n",
    "    disabled=False,\n",
    "    continuous_update=False,\n",
    "    orientation='horizontal',\n",
    "    readout=True,\n",
    "    readout_format='.1f',\n",
    ")\n",
    "def update_k_up(k_up: float):\n",
    "    sc2r.k_up = k_up\n",
    "    box.value = sc2r.k_up\n",
    "interact(update_k_up, k_up=slider)\n",
    "#out = widgets.HBox([box])\n",
    "display(slider)\n",
    "#display(out)\n",
    "display(box)"
   ]
  },
  {
   "cell_type": "code",
   "execution_count": null,
   "metadata": {},
   "outputs": [],
   "source": [
    "from ipywidgets import GridspecLayout, Button, Layout\n",
    "def create_expanded_button(description, button_style):\n",
    "    return Button(description=description, button_style=button_style, layout=Layout(height='auto', width='auto'))\n",
    "\n",
    "grid = GridspecLayout(4, 3, height='300px')\n",
    "grid[:3, 1:] = create_expanded_button('One', 'success')\n",
    "grid[:, 0] = create_expanded_button('Two', 'info')\n",
    "grid[3, 1] = create_expanded_button('Three', 'warning')\n",
    "grid[3, 2] = create_expanded_button('Four', 'danger')\n",
    "grid"
   ]
  },
  {
   "cell_type": "code",
   "execution_count": null,
   "metadata": {},
   "outputs": [],
   "source": [
    "from ipywidgets import GridspecLayout, FloatText, Label, HTMLMath\n",
    "from ipywidgets import Label\n",
    "\n",
    "def add_parameter(\n",
    "        grid: GridspecLayout,\n",
    "        row: int,\n",
    "        symbol: str,\n",
    "        desc: str,\n",
    "        value: float = 1.0\n",
    "):\n",
    "    grid[row, 0] = HTMLMath(value=symbol)\n",
    "    grid[row, 1] = FloatText(value=value)\n",
    "    grid[row, 2] = Label(value=desc)\n",
    "\n",
    "grid = GridspecLayout(8, 3, height='300px')\n",
    "grid[0, :] = Label(value=\"General physical parameters\")\n",
    "add_parameter(grid, 1, r\"$\\frac{[\\text{ATP}]}{[\\text{ADP}]}\\Bigr|_\\text{eq.}$\",\n",
    "              \"Equilibrium ATP/ADP concentration ratio\")\n",
    "add_parameter(grid, 2, r\"$K_d^\\text{ATP}$\", \n",
    "              \"Protomer-ATP dissociation constant\")\n",
    "add_parameter(grid, 3, r\"$K_d^\\text{ADP}$\",\n",
    "              \"Protomer-ADP dissociation constant\")\n",
    "add_parameter(grid, 4, r\"$k_{DT}$\", \"Effective ADP->ATP exchange rate\")\n",
    "add_parameter(grid, 5, r\"$k_{TD}$\", \"Effective ATP->ADP exchange rate\")\n",
    "add_parameter(grid, 6, r\"$k_h$\", \"ATP hydrolysis rate\")\n",
    "add_parameter(grid, 7, r\"$k_s$\", \"ATP synthesis rate\")\n",
    "display(grid)\n",
    "\n",
    "\n",
    "display(widgets.Box([Label(value=str(grid[2, 1].value))]))\n",
    "display(widgets.Box([Label(value=\"test\")]))\n"
   ]
  },
  {
   "cell_type": "code",
   "execution_count": null,
   "metadata": {},
   "outputs": [],
   "source": [
    "# Get FloatText widget, not value\n",
    "for e in grid.children:\n",
    "    print(e)"
   ]
  },
  {
   "cell_type": "code",
   "execution_count": null,
   "metadata": {},
   "outputs": [],
   "source": [
    "a = widgets.IntSlider()\n",
    "b = grid.children[2] # widgets.IntSlider()\n",
    "x = widgets.IntSlider()\n",
    "ui = widgets.HBox([a, b, x])\n",
    "def f(a, b, c):\n",
    "    print((a, b, c))\n",
    "    print(a + b + c)\n",
    "\n",
    "out = widgets.interactive_output(f, {'a': a, 'b': b, 'c': x})\n",
    "\n",
    "display(ui, out)"
   ]
  }
 ],
 "metadata": {
  "kernelspec": {
   "display_name": "Python 3",
   "language": "python",
   "name": "python3"
  },
  "language_info": {
   "codemirror_mode": {
    "name": "ipython",
    "version": 3
   },
   "file_extension": ".py",
   "mimetype": "text/x-python",
   "name": "python",
   "nbconvert_exporter": "python",
   "pygments_lexer": "ipython3",
   "version": "3.11.7"
  }
 },
 "nbformat": 4,
 "nbformat_minor": 2
}
