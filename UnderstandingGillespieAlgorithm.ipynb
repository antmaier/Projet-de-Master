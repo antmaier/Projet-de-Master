{
 "cells": [
  {
   "cell_type": "code",
   "execution_count": null,
   "metadata": {},
   "outputs": [],
   "source": [
    "savefig = False # Indicate if we want to save the figures"
   ]
  },
  {
   "cell_type": "markdown",
   "metadata": {},
   "source": [
    "# Simple Gillespie trajectories"
   ]
  },
  {
   "cell_type": "markdown",
   "metadata": {},
   "source": [
    "## Spiraling in Control: Sequential Clockwise/2-Residue Step\n",
    "\n"
   ]
  },
  {
   "cell_type": "markdown",
   "metadata": {},
   "source": [
    "### 1 loop\n",
    "\n",
    "![](SC_2R_1_loop_kinetic_scheme.jpg)"
   ]
  },
  {
   "cell_type": "code",
   "execution_count": null,
   "metadata": {},
   "outputs": [],
   "source": [
    "SC_2R_1_loop = SC2R1Loop()\n",
    "trajectories = SC_2R_1_loop.gillespie(n_simulations=5, \n",
    "    cumulative_sums=['position', 'ATP'])\n",
    "ax = SC_2R_1_loop.plot_position_evolution(\n",
    "    list(trajectory[['timestamp', 'position']] for trajectory in trajectories),\n",
    "    time_unit=r\"$1/k_\\uparrow$\", \n",
    "    position_unit=\"Residues\", \n",
    "    kinetic_scheme_image_path=\"SC_2R_1_loop_kinetic_scheme.jpg\",\n",
    "    title=\"Sequential Clockwise/2-Residue Step, 1 loop\"\n",
    ")\n",
    "plt.show()"
   ]
  },
  {
   "cell_type": "markdown",
   "metadata": {},
   "source": [
    "### 2 loops\n",
    "\n",
    "![](SC_2R_2_different_loops_kinetic_scheme.jpg)\n",
    "\n",
    "TODO create image"
   ]
  },
  {
   "cell_type": "code",
   "execution_count": null,
   "metadata": {},
   "outputs": [],
   "source": [
    "SC_2R_2_loops = SC2R2Loops()\n",
    "trajectories = SC_2R_2_loops.gillespie(n_simulations=5,\n",
    "    cumulative_sums=['position', 'ATP'])\n",
    "ax = SC_2R_2_loops.plot_position_evolution(\n",
    "    list(trajectory[['timestamp', 'position']] for trajectory in trajectories),\n",
    "    time_unit=r\"$1/k_\\uparrow$\", \n",
    "    position_unit=\"Residues\", \n",
    "    kinetic_scheme_image_path=\"SC_2R_2_different_loops_kinetic_scheme.jpg\",\n",
    "    title=\"Sequential Clockwise/2-Residue Step, 2 loops\"\n",
    ")\n",
    "plt.show()"
   ]
  },
  {
   "cell_type": "markdown",
   "metadata": {},
   "source": [
    "## Disc-Spiral model\n",
    "\n",
    "![](Disc_spiral_kinetic_scheme.jpg)"
   ]
  },
  {
   "cell_type": "code",
   "execution_count": null,
   "metadata": {},
   "outputs": [],
   "source": [
    "disc_spiral = DiscSpiral()\n",
    "trajectories = disc_spiral.gillespie(n_simulations=5,\n",
    "    cumulative_sums={'position': 'displacement', 'ATP': 'ATP'})\n",
    "ax = disc_spiral.plot_position_evolution(\n",
    "    list(trajectory[['timestamp', 'position']] for trajectory in trajectories),\n",
    "    time_unit=r\"$1/k_⤴$\", \n",
    "    position_unit=\"Residues\", \n",
    "    kinetic_scheme_image_path=\"Disc_spiral_kinetic_scheme.jpg\",\n",
    "    title=\"Disc Spiral/2(N-1)-Residue Step\"\n",
    ")\n",
    "plt.show()"
   ]
  },
  {
   "cell_type": "markdown",
   "metadata": {},
   "source": [
    "# Experiments"
   ]
  },
  {
   "cell_type": "markdown",
   "metadata": {},
   "source": [
    "## Relation between ATP/ADP concentrations ratio and velocity"
   ]
  },
  {
   "cell_type": "code",
   "execution_count": null,
   "metadata": {},
   "outputs": [],
   "source": [
    "models = [SC2R1Loop(), SC2R2Loops(), DiscSpiral()]\n",
    "ratios = np.logspace(-3, 5, 100) * SC_2R_1_loop.equilibrium_ATP_ADP_ratio\n",
    "velocities = {model: [] for model in models}\n",
    "for ratio in ratios:\n",
    "    for model in models:\n",
    "        model.ATP_ADP_ratio = ratio\n",
    "        velocities[model].append(model.average_velocity())\n",
    "\n",
    "for model in models:\n",
    "    plt.plot(ratios, velocities[model], label=model.__class__.__name__)\n",
    "plt.xscale('log')\n",
    "plt.xlabel(\"ATP/ADP ratio\")\n",
    "plt.ylabel(\"Average velocity\")\n",
    "plt.legend()\n",
    "plt.show()"
   ]
  },
  {
   "cell_type": "markdown",
   "metadata": {},
   "source": [
    "## Sequential Clockwise/2-Residue Step, comparison between 1 and 2 loops"
   ]
  },
  {
   "cell_type": "code",
   "execution_count": null,
   "metadata": {},
   "outputs": [],
   "source": [
    "# 1 loop and 2 loops models\n",
    "SC_2R_1_loop = SC2R1Loop()\n",
    "SC_2R_2_loops = SC2R2Loops()\n",
    "\n",
    "ATP_ADP_ratios = np.logspace(-1, 1, 10)\n",
    "for ATP_ADP_ratio in ATP_ADP_ratios:\n",
    "    print(\"ATP/ADP:\", ATP_ADP_ratio)\n",
    "    SC_2R_1_loop.ATP_ADP_ratio = ATP_ADP_ratio\n",
    "    SC_2R_2_loops.ATP_ADP_ratio = ATP_ADP_ratio\n",
    "    print({node: attributes['probability']() \n",
    "           for node, attributes \n",
    "           in SC_2R_1_loop.kinetic_scheme.nodes(data=True)})\n",
    "    print({node: attributes['probability']() \n",
    "           for node, attributes \n",
    "           in SC_2R_2_loops.kinetic_scheme.nodes(data=True)})\n",
    "\n"
   ]
  },
  {
   "cell_type": "markdown",
   "metadata": {},
   "source": [
    "## Add potential"
   ]
  },
  {
   "cell_type": "code",
   "execution_count": null,
   "metadata": {},
   "outputs": [],
   "source": [
    "# If positive, potential increases when chaperone goes up, i.e. it favors going\n",
    "# down.\n",
    "potential_over_temperature = 0.1\n",
    "SC_2R_1_loop = SC2R1Loop()\n",
    "for _, _, attributes in SC_2R_1_loop.kinetic_scheme.edges(data=True):\n",
    "    if 'position' in attributes and attributes['position'] > 0:\n",
    "        old_rate = attributes['rate']\n",
    "        attributes['rate'] = (\n",
    "            lambda old_rate=old_rate: \n",
    "                old_rate() * np.exp(-potential_over_temperature))\n",
    "    elif 'position' in attributes and attributes['position'] < 0:\n",
    "        old_rate = attributes['rate']\n",
    "        attributes['rate'] = (\n",
    "            lambda old_rate=old_rate: \n",
    "                old_rate() * np.exp(potential_over_temperature))\n",
    "\n",
    "SC_2R_1_loop_position = SC_2R_1_loop.gillespie(\n",
    "    n_steps=1000, \n",
    "    n_simulations=1, \n",
    "    cumulative_sums={'position': 'displacement'})\n",
    "\n",
    "ax = SC_2R_1_loop.plot_position_evolution(\n",
    "    SC_2R_1_loop_position[['timestamp', 'position']],\n",
    "    time_unit=r\"a.u.\", \n",
    "    position_unit=\"Residues\", \n",
    "    kinetic_scheme_image_path=\"SC_2R_1_loop_kinetic_scheme.jpg\",\n",
    "    title=\"Sequential Clockwise/2-Residue Step, 1 loop\"\n",
    ")"
   ]
  },
  {
   "cell_type": "markdown",
   "metadata": {},
   "source": [
    "## Defective protomer"
   ]
  },
  {
   "cell_type": "code",
   "execution_count": null,
   "metadata": {},
   "outputs": [],
   "source": [
    "sc2r = SC2R1Loop()\n",
    "defective_sc2r = DefectiveSC2R()\n",
    "disc_spiral = DiscSpiral()\n",
    "defective_disc_spiral = DefectiveDiscSpiral()\n",
    "\n",
    "defect_factors = np.logspace(-3, 0, 100)\n",
    "velocities = {\n",
    "    'SC2R': [],\n",
    "    'Disc spiral': [],\n",
    "    'Defective SC2R': [],\n",
    "    'Defective disc spiral': [],\n",
    "}\n",
    "for defect_factor in defect_factors:\n",
    "    defective_sc2r.defect_factor = defect_factor\n",
    "    defective_disc_spiral.defect_factor = defect_factor\n",
    "    velocities['SC2R'].append(sc2r.average_velocity())\n",
    "    velocities['Disc spiral'].append(disc_spiral.average_velocity())\n",
    "    velocities['Defective SC2R'].append(defective_sc2r.average_velocity())\n",
    "    velocities['Defective disc spiral'].append(\n",
    "        defective_disc_spiral.average_velocity())\n",
    "\n",
    "fig, ax = plt.subplots()\n",
    "for model in velocities:\n",
    "    ax.plot(defect_factors, velocities[model], label=model)\n",
    "ax.axvline(1, color='k', linestyle='--')\n",
    "ax.set_xscale('log')\n",
    "ax.set_xlabel(\"Defect factor\")\n",
    "ax.set_ylabel(\"Average velocity\")\n",
    "ax.legend()\n",
    "plt.show()\n",
    "# print max velocity\n",
    "print(\"Max velocity for SC2R:\", max(velocities['SC2R']))\n",
    "print(\"Max velocity for Disc spiral:\", max(velocities['Disc spiral']))\n",
    "print(\"Max velocity for Defective SC2R:\", max(velocities['Defective SC2R']))\n",
    "print(\"Max velocity for Defective disc spiral:\", \n",
    "      max(velocities['Defective disc spiral']))\n"
   ]
  }
 ],
 "metadata": {
  "kernelspec": {
   "display_name": "Python 3",
   "language": "python",
   "name": "python3"
  },
  "language_info": {
   "codemirror_mode": {
    "name": "ipython",
    "version": 3
   },
   "file_extension": ".py",
   "mimetype": "text/x-python",
   "name": "python",
   "nbconvert_exporter": "python",
   "pygments_lexer": "ipython3",
   "version": "3.11.7"
  }
 },
 "nbformat": 4,
 "nbformat_minor": 2
}
