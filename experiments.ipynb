{
 "cells": [
  {
   "cell_type": "markdown",
   "metadata": {},
   "source": [
    "questions:\n",
    "\n",
    "- Show the code, discuss results\n",
    "    - Intéressant donc top\n",
    "- Discuss analytical std\n",
    "    - Discuss why first try does not give the same answer. If we take a big amoung of models, we cannot say that average passage is \n",
    "    - On est d'accord que le temps c'est un \"sachant que\" dans $p_i(t)$?\n",
    "        - A réfléchir (faire un graphe de convergence)\n",
    "- Discuss new idea for out state\n",
    "    - Appendix\n",
    "- Meilleur nom que Disc-Spiral ?\n",
    "    - Inchworm\n",
    "- Ask what is the title of the project\n",
    "    - Exporation of possible structure based models of the mechanism of action of AAA+ ATPases\n",
    "- Requirements for the report? Taille min? Juste un truc à viser?\n",
    "    - Comme je pense que c'est bien \n",
    "- Conseils pour le rapport ? Structure, schémas ? Parler en \"I\" ou \"we\" ?\n",
    "- Est-ce que c'est pertinent de présenter dans le rapport la GUI ?\n",
    "    - Pas pertinent\n",
    "- Est-ce que c'est pertinent d'en parler dans le rapport comment extend mon code (translocation model et aussi GUI) ?\n",
    "    - Pas pertinent\n",
    "- Je peux demander à une autre personne de faire l'animation ?\n",
    "    - Oui\n",
    "- Ask when is the defense\n",
    "    - 26 février\n"
   ]
  },
  {
   "cell_type": "markdown",
   "metadata": {},
   "source": [
    "# TODO"
   ]
  },
  {
   "cell_type": "markdown",
   "metadata": {},
   "source": [
    "- Décider si on on dit residue, amino acid ou un mix des deux\n",
    "    - Moi je dis residue et substrate, mais experimental paper dit amino acid donc dire amino acid quand on les cite. Facile à chercher, cherche 'amino' dans le texte ça fait direct residue et substrate.\n",
    "- Voir si unit displacement c'est 1 amino acid, est-ec que on veut écrire amino acid partout, ou bien juste displacement et dire quelque part que l'étalon peut être l'amino acid mais que ici on fait un truc général, ou au contraire, on dit que on fixe l'unité comme étant 1 amino acid.\n",
    "- Voir si on veut dire \"dynamics\", \"movement\", \"translocation\" ou \"mechanism of action\" pour décrire le mouvement de la protéine\n",
    "    - Réponse: translocation partout. TODO chercher movement, slide, shift, etc. to be replaced. Mechanism of action quand c'est general et on sait pas encore que c'est translocation. Dynamics quand on parle du kinetic scheme\n",
    "    - En fait on peut dire 'translocation velocity' donc pourquoi pas 'translocation displacement' ?\n",
    "    - Make sure que trnaslocation c'est pour susbstrate, et sinon on dit protomer translocation, ou en tout cas make sure que c'est clair quand c'est lequel des deux\n",
    "- Central channel ou pore ?\n",
    "    - Fully interchangeable\n",
    "- Change 'shift' to 'deviation' for ATP/ADP deviation from equilibrium\n",
    "- Gibbs free energy change (difference?) $\\Delta G$ \n",
    "- Remove italic in ATP/ADP exchange model math equations\n",
    "- Check if I have sample trajectories and not trajectory samples\n",
    "\n"
   ]
  },
  {
   "cell_type": "code",
   "execution_count": 1,
   "metadata": {},
   "outputs": [],
   "source": [
    "%matplotlib widget\n",
    "\n",
    "from experiments import VelocityVsATPADPRatio, SC2RVsDiscSpiral, \\\n",
    "    VelocityVsPotential, DefectlessVsDefective, NonIdeal"
   ]
  },
  {
   "cell_type": "markdown",
   "metadata": {},
   "source": [
    "# Comparison between SC/2R and Disc-Spiral models"
   ]
  },
  {
   "cell_type": "code",
   "execution_count": 2,
   "metadata": {},
   "outputs": [
    {
     "data": {
      "application/vnd.jupyter.widget-view+json": {
       "model_id": "de50ffc9462643819e5d9b2474417636",
       "version_major": 2,
       "version_minor": 0
      },
      "text/plain": [
       "VBox(children=(HTML(value='<h1>SC/2R and RPCL comparison</h1>'), Output(), VBox(children=(HBox(children=(VBox(…"
      ]
     },
     "metadata": {},
     "output_type": "display_data"
    }
   ],
   "source": [
    "sc2r_vs_disc_spiral = SC2RVsDiscSpiral(True)"
   ]
  },
  {
   "cell_type": "markdown",
   "metadata": {},
   "source": [
    "# Relation between ATP/ADP concentrations ratio and velocity"
   ]
  },
  {
   "cell_type": "code",
   "execution_count": 3,
   "metadata": {},
   "outputs": [
    {
     "data": {
      "application/vnd.jupyter.widget-view+json": {
       "model_id": "0b182d2f081e461aad44bbfbb5ceb072",
       "version_major": 2,
       "version_minor": 0
      },
      "text/plain": [
       "HBox(children=(Output(), VBox(children=(HTML(value='<h1>Velocity vs [ATP]/[ADP]</h1>'), HTML(value='<b>General…"
      ]
     },
     "metadata": {},
     "output_type": "display_data"
    }
   ],
   "source": [
    "velocity_vs_atp_adp_ratio = VelocityVsATPADPRatio()"
   ]
  },
  {
   "cell_type": "markdown",
   "metadata": {},
   "source": [
    "# Velocity in presence of a potential"
   ]
  },
  {
   "cell_type": "code",
   "execution_count": 2,
   "metadata": {},
   "outputs": [
    {
     "data": {
      "application/vnd.jupyter.widget-view+json": {
       "model_id": "ae1ae0eca9a44ae29c4ae2e3367f76d5",
       "version_major": 2,
       "version_minor": 0
      },
      "text/plain": [
       "HBox(children=(Output(), VBox(children=(HTML(value='<h1>Velocity vs Potential</h1>'), HBox(children=(FloatRang…"
      ]
     },
     "metadata": {},
     "output_type": "display_data"
    }
   ],
   "source": [
    "velocity_vs_barrier = VelocityVsPotential()\n",
    "# TODO add saturation velocities"
   ]
  },
  {
   "cell_type": "markdown",
   "metadata": {},
   "source": [
    "# Defective protomer"
   ]
  },
  {
   "cell_type": "code",
   "execution_count": 2,
   "metadata": {},
   "outputs": [
    {
     "data": {
      "application/vnd.jupyter.widget-view+json": {
       "model_id": "13d19432eaaa478e88eec0e6c569bd92",
       "version_major": 2,
       "version_minor": 0
      },
      "text/plain": [
       "VBox(children=(Output(), HBox(children=(VBox(children=(HTML(value='<h1>SC/2R and Disc-Spiral ATP consumption r…"
      ]
     },
     "metadata": {},
     "output_type": "display_data"
    },
    {
     "name": "stderr",
     "output_type": "stream",
     "text": [
      "/home/antoine/workspace/Projet-de-Master/translocation_models.py:513: FutureWarning: The behavior of DataFrame concatenation with empty or all-NA entries is deprecated. In a future version, this will no longer exclude empty or all-NA columns when determining the result dtypes. To retain the old behavior, exclude the relevant entries before the concat operation.\n",
      "  result.loc[-1] = [0] + [None] + [0] * len(cumulative_sums)\n",
      "/home/antoine/workspace/Projet-de-Master/translocation_models.py:513: FutureWarning: The behavior of DataFrame concatenation with empty or all-NA entries is deprecated. In a future version, this will no longer exclude empty or all-NA columns when determining the result dtypes. To retain the old behavior, exclude the relevant entries before the concat operation.\n",
      "  result.loc[-1] = [0] + [None] + [0] * len(cumulative_sums)\n",
      "/home/antoine/workspace/Projet-de-Master/translocation_models.py:513: FutureWarning: The behavior of DataFrame concatenation with empty or all-NA entries is deprecated. In a future version, this will no longer exclude empty or all-NA columns when determining the result dtypes. To retain the old behavior, exclude the relevant entries before the concat operation.\n",
      "  result.loc[-1] = [0] + [None] + [0] * len(cumulative_sums)\n",
      "/home/antoine/workspace/Projet-de-Master/translocation_models.py:513: FutureWarning: The behavior of DataFrame concatenation with empty or all-NA entries is deprecated. In a future version, this will no longer exclude empty or all-NA columns when determining the result dtypes. To retain the old behavior, exclude the relevant entries before the concat operation.\n",
      "  result.loc[-1] = [0] + [None] + [0] * len(cumulative_sums)\n",
      "/home/antoine/workspace/Projet-de-Master/translocation_models.py:513: FutureWarning: The behavior of DataFrame concatenation with empty or all-NA entries is deprecated. In a future version, this will no longer exclude empty or all-NA columns when determining the result dtypes. To retain the old behavior, exclude the relevant entries before the concat operation.\n",
      "  result.loc[-1] = [0] + [None] + [0] * len(cumulative_sums)\n",
      "/home/antoine/workspace/Projet-de-Master/translocation_models.py:513: FutureWarning: The behavior of DataFrame concatenation with empty or all-NA entries is deprecated. In a future version, this will no longer exclude empty or all-NA columns when determining the result dtypes. To retain the old behavior, exclude the relevant entries before the concat operation.\n",
      "  result.loc[-1] = [0] + [None] + [0] * len(cumulative_sums)\n",
      "/home/antoine/workspace/Projet-de-Master/translocation_models.py:513: FutureWarning: The behavior of DataFrame concatenation with empty or all-NA entries is deprecated. In a future version, this will no longer exclude empty or all-NA columns when determining the result dtypes. To retain the old behavior, exclude the relevant entries before the concat operation.\n",
      "  result.loc[-1] = [0] + [None] + [0] * len(cumulative_sums)\n",
      "/home/antoine/workspace/Projet-de-Master/translocation_models.py:513: FutureWarning: The behavior of DataFrame concatenation with empty or all-NA entries is deprecated. In a future version, this will no longer exclude empty or all-NA columns when determining the result dtypes. To retain the old behavior, exclude the relevant entries before the concat operation.\n",
      "  result.loc[-1] = [0] + [None] + [0] * len(cumulative_sums)\n",
      "/home/antoine/workspace/Projet-de-Master/translocation_models.py:513: FutureWarning: The behavior of DataFrame concatenation with empty or all-NA entries is deprecated. In a future version, this will no longer exclude empty or all-NA columns when determining the result dtypes. To retain the old behavior, exclude the relevant entries before the concat operation.\n",
      "  result.loc[-1] = [0] + [None] + [0] * len(cumulative_sums)\n",
      "/home/antoine/workspace/Projet-de-Master/translocation_models.py:513: FutureWarning: The behavior of DataFrame concatenation with empty or all-NA entries is deprecated. In a future version, this will no longer exclude empty or all-NA columns when determining the result dtypes. To retain the old behavior, exclude the relevant entries before the concat operation.\n",
      "  result.loc[-1] = [0] + [None] + [0] * len(cumulative_sums)\n",
      "/home/antoine/workspace/Projet-de-Master/translocation_models.py:513: FutureWarning: The behavior of DataFrame concatenation with empty or all-NA entries is deprecated. In a future version, this will no longer exclude empty or all-NA columns when determining the result dtypes. To retain the old behavior, exclude the relevant entries before the concat operation.\n",
      "  result.loc[-1] = [0] + [None] + [0] * len(cumulative_sums)\n"
     ]
    },
    {
     "name": "stderr",
     "output_type": "stream",
     "text": [
      "No such comm: a1a4da8adb4a4a68989f360baa57818d\n",
      "No such comm: a1a4da8adb4a4a68989f360baa57818d\n",
      "No such comm: a1a4da8adb4a4a68989f360baa57818d\n",
      "No such comm: a1a4da8adb4a4a68989f360baa57818d\n",
      "No such comm: a1a4da8adb4a4a68989f360baa57818d\n",
      "No such comm: a1a4da8adb4a4a68989f360baa57818d\n",
      "No such comm: a1a4da8adb4a4a68989f360baa57818d\n",
      "No such comm: a1a4da8adb4a4a68989f360baa57818d\n",
      "No such comm: a1a4da8adb4a4a68989f360baa57818d\n",
      "No such comm: a1a4da8adb4a4a68989f360baa57818d\n",
      "No such comm: a1a4da8adb4a4a68989f360baa57818d\n",
      "No such comm: a1a4da8adb4a4a68989f360baa57818d\n",
      "No such comm: a1a4da8adb4a4a68989f360baa57818d\n",
      "No such comm: a1a4da8adb4a4a68989f360baa57818d\n",
      "No such comm: a1a4da8adb4a4a68989f360baa57818d\n",
      "No such comm: a1a4da8adb4a4a68989f360baa57818d\n",
      "No such comm: a1a4da8adb4a4a68989f360baa57818d\n"
     ]
    }
   ],
   "source": [
    "defectless_vs_defective = DefectlessVsDefective()\n",
    "# TODO histogram put tail in a large bin (https://stackoverflow.com/questions/33497559/display-a-histogram-with-very-non-uniform-bin-widths)"
   ]
  },
  {
   "cell_type": "markdown",
   "metadata": {},
   "source": [
    "# Non-Ideal Models"
   ]
  },
  {
   "cell_type": "code",
   "execution_count": 6,
   "metadata": {},
   "outputs": [
    {
     "data": {
      "application/vnd.jupyter.widget-view+json": {
       "model_id": "d237d1adb1fb49b4b6589085e7f4ea30",
       "version_major": 2,
       "version_minor": 0
      },
      "text/plain": [
       "HBox(children=(Output(), VBox(children=(HTML(value='<h1>Non-Ideal Models</h1>'), HBox(children=(IntRangeSlider…"
      ]
     },
     "metadata": {},
     "output_type": "display_data"
    }
   ],
   "source": [
    "non_ideal = NonIdeal()"
   ]
  },
  {
   "cell_type": "markdown",
   "metadata": {},
   "source": [
    "# Report"
   ]
  },
  {
   "cell_type": "markdown",
   "metadata": {},
   "source": [
    "# Introduction"
   ]
  },
  {
   "cell_type": "markdown",
   "metadata": {},
   "source": [
    "# Theroy of master equation and kinetic scheme"
   ]
  },
  {
   "cell_type": "markdown",
   "metadata": {},
   "source": [
    "Consider a stochastic system evolving continuously in time, jumping from one discrete state to another. The state of the system at time $t$ is denoted by the random variable $S(t)=i$, where $i=1,2,\\dots,N$, and we assume that the state entirely determines the system, i.e. the dynamics of the system is independent of its history. In other terms, the system is a continuous time Markov chain.\n",
    "The transitions between the states represent physical or chemical reactions, that we assume are all reversible, and independent of each other. Each reaction $i\\to j$ follows an exponential distribution of rate $k_{ij}$.\n",
    "The dynamics is the following: the system starts in a given state $i$ at time $t=0$, sojourns there until one reaction $i\\to j$ occurs, and then jumps to state $j$. The system then sojourns in state $j$ until another reaction $j\\to k$ occurs, and so on. \n",
    "\n",
    "We can represent such a system with a kinetic scheme, a directed graph where each node reprsents a state, and each reaction $i\\to j$ is represented by a directed edge from $i$ to $j$, weighted with the reaction rate $k_{ij}$. We denote the successors and predecessors of a state $i$ by $R_i^+$ and $R_i^-$ respectively. \n",
    "We assume that the kinetic scheme is connected, i.e. for any two states $i$ and $j$, there exists a path from $i$ to $j$. In the contrary case, the system would be composed of several independent subsystems, and we could study each subsystem separately. \n",
    "\n",
    "Given the stochastic nature of such a system, we are interested in the probability of being in state $j$ at a given time $t$, denoted by $p_j(t):=\\mathbb{P}(S(t)=j)$ to simplify the notation. Its time evolution is given by the $N$ coupled differential master equations:\n",
    "$$\n",
    "    \\dot{p}_j(t) = \\sum_{i\\in R_j^-}p_i(t)k_{ij} - p_j(t)\\sum_{k\\in R_j^+}k_{jk} = \\sum_{i=1}^N \\left(p_i(t)k_{ij} - p_j(t)k_{ji}\\right)\n",
    "$$\n",
    "where we used the convention $k_{ii}=0$ for all $i$ and $k_{ij}=0$ if there is no edge from $i$ to $j$ in the kinetic scheme.\n",
    "We can rewrite the master equation in matrix form:\n",
    "$$\n",
    "    \\dot{\\mathbf{p}}(t) = \\mathbf{M}\\mathbf{p}(t)\n",
    "$$\n",
    "where $\\mathbf{p}(t)$ is the column vector of components $p_i(t)$ and $\\mathbf{M}$ is the matrix of components $M_{ij}=k_{ji} - \\delta_{ij}\\sum_{k=1}^N k_{ik}$, where $\\delta_{ij}$ is the Kronecker delta.\n",
    "Knowing the initial condition $\\mathbf{p}(0)$, we can solve the differential equation and obtain the solution:\n",
    "$$\n",
    "    \\mathbf{p}(t) = e^{\\mathbf{M}t}\\mathbf{p}(0)\n",
    "$$\n",
    "\n",
    "These systems have interesting properties, the most important being the existence and uniqueness of an attracting steady-state distribution $\\mathbf{p}^*$, which is in addition globally stable, i.e. any initial condition converges to $\\mathbf{p}^*$ as $t\\to\\infty$, exponentially fast moreover. The properties of such systems are discussed in detail in \\cite{Schnakenberg1976}, but for mathematical elegance, we give an alternative proof of the existence and uniqueness of the steady-state distribution in Appendix \\ref{???} using solely linear algebra. \n",
    "To sum up, the stochastic matrix $M$ has rank $N-1$ and thus the steady-state distribution is given by the unique solution (up to a constant) solution of the linear system:\n",
    "$$\n",
    "    \\mathbf{M}\\mathbf{p}^* = 0\n",
    "$$\n",
    "and one has to take the normalized solution in order to have a probability distribution. \n",
    "A convenient way to directly find the steady-state distribution is to note that summing the first $N-1$ rows of the stochastic matrix gives back the last row with opposite sign\n",
    "$$\n",
    "    \\sum_{i=1}^{N-1} M_{ij} = \\sum_{i=1}^{N-1} k_{ji} - (1-\\delta_{jN})\\sum_{k=1}^N k_{jk} = -k_{jN} + \\delta_{jN}\\sum_{k=1}^N k_{Nk} = -M_{Nj}\n",
    "$$\n",
    "which means that we can remove the last row without changing the solution of the linear system. Therefore, we modify $M$ to $\\tilde{M}$ by replaceing the last row with ones, and then the normalized steady-state distribution is given by the solution of the linear system:\n",
    "$$\n",
    "    \\tilde{\\mathbf{M}}\\mathbf{p}^*\n",
    "    =\n",
    "    \\begin{bmatrix}\n",
    "        M_{1,1} & \\cdots & M_{1,N} \\\\ \n",
    "        \\vdots  & \\ddots & \\vdots  \\\\ \n",
    "        M_{N-1,1} & \\cdots & M_{N-1,N} \\\\ \n",
    "        1 & \\cdots & 1\n",
    "    \\end{bmatrix}\n",
    "    \\cdot\n",
    "    \\begin{bmatrix}\n",
    "        p_1^*\\\\ \n",
    "        \\vdots\\\\ \n",
    "        p_{N-1}^*\\\\ \n",
    "        p_N\n",
    "    \\end{bmatrix}\n",
    "    =\n",
    "    \\begin{bmatrix}\n",
    "        0\\\\ \n",
    "        \\vdots\\\\ \n",
    "        0\\\\ \n",
    "        1\n",
    "    \\end{bmatrix}\n",
    "$$\n",
    "since the newly added row constraints the solution to be normalized. This gives a general method to solve any system defined by a master equation or equivalently a kinetic scheme. However note that solving the system in such a way does not directly give a deep understanding of the system. As we will see later, the physical meaning comes to us after algebraic manipulations of the solution. Unfortunately, such manipulations are model-dependent and cannot be generalized, as far as I know.\n"
   ]
  },
  {
   "cell_type": "markdown",
   "metadata": {},
   "source": [
    "## Thermodynamic loops"
   ]
  },
  {
   "cell_type": "markdown",
   "metadata": {},
   "source": [
    "At equilibrium, we postulate that the detailed balance holds, i.e. each elementary process $i\\to j$ is in equilibrium with its reverse process $j\\to i$. More intuitively, this means that the flux of probability from $i$ to $j$ is equal to the flux from $j$ to $i$. Mathematically, this is expressed by the following equation:\n",
    "$$\n",
    "    \\left.\\left(p_i^*k_{ij}\\right)\\right|_{eq.} = \\left.\\left(p_j^*k_{ji}\\right)\\right|_{eq.} \n",
    "    \\Leftrightarrow \\left.\\left(\\frac{p_i^*k_{ij}}{p_j^*k_{ji}}\\right)\\right|_{eq.} = 1\n",
    "$$\n",
    "for all $i,j$, where $p_i^*$ is the equilibrium probability of being in state $i$. The equilibrium probability distribution is the steady-state distribution the isolated system will reach. The system is isolated in the sense that no external agent is driving the system out of equilibrium, so for example the system is not in contact with a heat bath, no force is applied to it, no ATP input, etc, i.e. all the rates $k_{ij}$ are at their equilibrium values $\\left.k_{ij}\\right|_{eq.}$.\n",
    "\n",
    "Now consider any closed loop in the equilibrium kinetic scheme, i.e. a sequence of reactions $i_1\\to i_2\\to\\dots\\to i_n\\to i_1$ where $i_1,\\dots,i_n$ are distinct states. We can write the corresponding reactions rates as $k_{i_1i_2},\\dots,k_{i_ni_1}$, and the equilibrium probability of being in state $i_1$ is denoted by $p_{i_1}^*$. Multiplying all the detailed balance equations for each reaction in the loop, using the convention $i_{n+1}=i_1$, we obtain:\n",
    "$$\n",
    "    1\n",
    "    = \\left.\\left(\\prod_{j=1}^n \\frac{p_{i_j}^*k_{i_ji_{j+1}}}{p_{i_{j+1}}^*k_{i_{j+1}i_j}}\\right)\\right|_{eq.}\n",
    "    = \\left.\\left(\\frac{\\left(\\prod_{j=1}^n p_{i_j}^*\\right)\\left(\\prod_{j=1}^n k_{i_ji_{j+1}}\\right)}{\\left(\\prod_{j=1}^n p_{i_{j+1}}^*\\right)\\left(\\prod_{j=1}^n k_{i_{j+1}i_j}\\right)}\\right)\\right|_{eq.}\n",
    "    = \\left.\\left(\\frac{\\prod_{j=1}^n k_{i_ji_{j+1}}}{\\prod_{j=1}^n k_{i_{j+1}i_j}}\\right)\\right|_{eq.}\n",
    "$$\n",
    "i.e. at equilibrium the product of the reaction rates in a direction of the loop is equal to the product of the reaction rates in the reverse direction. This thermodynamic loop law gives constraints on the rates of the reactions in the loop. In particular, this means that in such a closed loop, when all the rates except one are chosen, the last one is fixed by the thermodynamic loop law. Note that this law holds even if the loop is connected to other reactions.\n",
    "\n",
    "Now if the system is not isolated, its steady-state probability distribution would be a priori different from the equilibrium one. In steady-state, the detailed balance would not hold, and the thermodynamic loop law would be modified as follows:\n",
    "$$\n",
    "    \\frac{\\prod_{j=1}^n k_{i_ji_{j+1}}}{\\prod_{j=1}^n k_{i_{j+1}i_j}} \n",
    "    = \\exp\\left(\\frac{\\Delta\\mu}{T}\\right)\n",
    "$$\n",
    "where $\\Delta\\mu\\neq 0$ is a thermodynamic force difference, that drives the loop out of equilibrium. Now imagine we isolate the system and wait until it reaches steady-state, which is the equilibrium state in this particular case. In such a situation, the thermodynamic loop law would hold again, and this even though the system was not isolated in the first place. We conclude that for any system in steady-state (not necessarily equilibrium), the thermodynamic loop law holds for the equilibrium rates, which is especially powerful for constants rates, i.e. the ones that are similar in and out of equilibrium, because the equilibrium loop law gives a constraint even out of equilibrium.\n",
    "\n",
    "Finally, one could think that each loop in the kinetic scheme gives a constraint on the rates, but this is not true. Indeed, all the constraints are not independent. Ref. \\ref{???} shows that for a chosen basis of the cycle space of the kinetic scheme, each fundamental cycle gives an independent constraint on the rates. The choice of the basis is not unique but any choice will give the same set of constraints. The number of fundamental cycles really depends on the structure of the kinetic scheme and it must be determined case by case. \n"
   ]
  },
  {
   "cell_type": "markdown",
   "metadata": {},
   "source": [
    "## Quantities of interest"
   ]
  },
  {
   "cell_type": "markdown",
   "metadata": {},
   "source": [
    "Given an initial probability distribution, we know its time evolution, as well as the steady-state distribution to which it converges. However, this distribution only tells us about the probability for the system to be in a given state, or equivalently a node on the kinetic scheme, but we are equally interested in quantities that changes when one or more reactions occur, and that are not encompassed in the state description of the system. For example, in the case of chaperones, we are interested in the position of the protein, which is not a state of the system, but rather a quantity that changes all along the trajectory. In this section we give general results that can be later applied in our specific models.\n",
    "\n",
    "Consider a random variable $X(t)$ representing a quantity that evolves in time. We will only consider the case where $X$ takes values in $\\mathbb{N}$ but the reasoning that follows can be generalized to other cases. \n",
    "\n",
    "In general, computing the exact probability distribution for such a quantity can be difficult, however it is easier to find a differential equation, in a similar manner as we derived the master equation, and then either solve it when possible, or use it to compute moments of the distribution.\n",
    "\n",
    "We skip some steps of the full derivation of the differential equation because these are similar to the ones of the master equation above. Namely, a change of the quantity $X=x$ in a small time interval can either come from having $X=y\\neq x$ and transitioning from $y$ to $x$ (positive change), or from having $X=x$ and transitioning from $x$ to another value $y$ (negative change) and transition are modeled by transition rates. The difference with the master equation above lies in the fact that here the transition rates are a priori not known.\n",
    "Mathematically, if we write $p_x(t):=\\mathbb{P}(X(t)=x)$ and $w_{xy}$ the transition rate from $x$ to $y$, using the convention $w_{xx}=0$, the differential equation is:\n",
    "$$\n",
    "    \\dot{p}_x(t) = \\sum_{y\\in\\mathbb{N}} p_y(t)w_{yx} - p_x(t)\\sum_{y\\in\\mathbb{N}} w_{xy}\n",
    "$$\n",
    "\n",
    "From Eq. \\ref{???}, we find a differential equation for the $k$-th moment of the distribution multiplying by $x^k$ and summing over $x$ both sides of the equation:\n",
    "$$\n",
    "    \\frac{d}{dt}\\left\\langle X^k(t) \\right\\rangle \n",
    "    = \\sum_{x\\in\\mathbb{N}} x^k\\dot{p}_x(t)\n",
    "    = \\sum_{x,y\\in\\mathbb{N}} x^k p_y(t) w_{yx} - \\sum_{x,y\\in\\mathbb{N}} x^k p_x(t) w_{xy}\n",
    "    = \\sum_{x,y\\in\\mathbb{N}} p_y(t) w_{yx} \\left(x^k - y^k\\right)\n",
    "$$\n",
    "and similarly the characteristic function $\\phi_X(\\theta, t):=\\left\\langle e^{i\\theta X(t)} \\right\\rangle$ satisfies the differential equation:\n",
    "$$\n",
    "    \\frac{\\partial}{\\partial t}\\phi_X(\\theta, t) \n",
    "    = \\sum_{x\\in\\mathbb{N}} e^{i\\theta x}\\dot{p}_x(t)\n",
    "    = \\sum_{x,y\\in\\mathbb{N}} e^{i\\theta x} p_y(t) w_{yx} - \\sum_{x,y\\in\\mathbb{N}} e^{i\\theta x} p_x(t) w_{xy}\n",
    "    = \\sum_{x,y\\in\\mathbb{N}} p_y(t) w_{yx} \\left(e^{i\\theta x} - e^{i\\theta y}\\right)\n",
    "$$\n",
    "where we used the properties of dummy variables and the fact that we sum over the same set of values in both sums.\n",
    "\n",
    "In the special case where the transition rates only depend on the difference between the two states, i.e. $w_{xy}=w_{x-y}$, Eqs. \\ref{???} and \\ref{???} simplify to:\n",
    "$$\n",
    "    \\frac{d}{dt}\\left\\langle X^k(t) \\right\\rangle\n",
    "    = \\sum_{x,y\\in\\mathbb{N}} p_y(t) w_{x-y} \\left(x^k - y^k\\right)\n",
    "    = \\sum_{x,y\\in\\mathbb{N}} p_y(t) w_{x} \\left((y+x)^k - y^k\\right)\n",
    "$$\n",
    "and \n",
    "$$\n",
    "    \\frac{\\partial}{\\partial t}\\phi_X(\\theta, t) \n",
    "    = \\sum_{x,y\\in\\mathbb{N}} p_y(t) w_{x-y} \\left(e^{i\\theta x} - e^{i\\theta y}\\right)\n",
    "    = \\sum_{x,y\\in\\mathbb{N}} p_y(t) w_{x} e^{i\\theta y} \\left(e^{i\\theta x} - 1\\right)\n",
    "    = \\sum_{y\\in\\mathbb{N}} p_y(t) e^{i\\theta y} \\sum_{x\\in\\mathbb{N}} w_{x} \\left(e^{i\\theta x} - 1\\right)\n",
    "    = \\phi_X(\\theta, t) \\sum_{x\\in\\mathbb{N}} w_{x} \\left(e^{i\\theta x} - 1\\right)\n",
    "$$\n",
    "where we did the change of variable $x\\mapsto x+y$ and used the fact that we sum over the whole set $\\mathbb{N}$.\n",
    "\n",
    "We can directly solve Eq. \\ref{???} with $\\phi_X(0, t)=1$\n",
    "$$\n",
    "    \\phi_X(\\theta, t) = \\exp\\left(t \\sum_{x\\in\\mathbb{N}} w_{x} \\left(e^{i\\theta x} - 1\\right)\\right)\n",
    "$$\n",
    "\n",
    "and then by inverting the Fourier transform, we obtain the probability distribution\n",
    "$$\n",
    "    p_x(t) = \\frac{1}{\\tau}\\int_0^\\tau \\phi_X(\\theta, t) e^{-i\\theta x} d\\theta = \\frac{e^{-t \\sum_{y\\in\\mathbb{N}} w_{y}}}{\\tau}\\int_0^\\tau \\exp\\left(t \\sum_{y\\in\\mathbb{N}} w_{y} e^{i\\theta y} -i\\theta x\\right) d\\theta\n",
    "$$\n",
    "with $\\tau:=2\\pi$, which can be solved analytically in some cases, but in general we have to resort to numerical methods.\n",
    "\n",
    "Next, one is typically interested in the mean and standard deviation $\\sigma$ of the distribution, which can be computed from the first and second moments:\n",
    "$$\n",
    "    \\frac{d}{dt}\\left\\langle X(t) \\right\\rangle\n",
    "    = \\sum_{x,y\\in\\mathbb{N}} p_y(t) w_{x} x\n",
    "    = \\sum_{x\\in\\mathbb{N}} x w_{x}\n",
    "    \\implies \\left\\langle X(t) \\right\\rangle = \\left\\langle X(0) \\right\\rangle + t \\sum_{x\\in\\mathbb{N}} x w_{x}\n",
    "$$\n",
    "$$\n",
    "    \\frac{d}{dt}\\left\\langle X^2(t) \\right\\rangle\n",
    "    = \\sum_{x,y\\in\\mathbb{N}} p_y(t) w_{x} \\left(x^2 + 2xy\\right)\n",
    "    = \\sum_{x\\in\\mathbb{N}} x^2 w_{x} + 2 \\left\\langle X(t) \\right\\rangle \\underbrace{\\sum_{x\\in\\mathbb{N}} x w_{x}}_{\\frac{d}{dt}\\left\\langle X(t) \\right\\rangle}\n",
    "$$\n",
    "and thus\n",
    "$$\n",
    "    \\frac{d}{dt}\\text{Var}(X(t))\n",
    "    = \\frac{d}{dt}\\left\\langle X^2(t) \\right\\rangle - 2 \\left\\langle X(t) \\right\\rangle \\frac{d}{dt}\\left\\langle X(t) \\right\\rangle\n",
    "    = \\sum_{x\\in\\mathbb{N}} x^2 w_{x}\n",
    "    \\implies \\text{Var}(X(t)) = \\text{Var}(X(0)) + t \\sum_{x\\in\\mathbb{N}} x^2 w_{x}\n",
    "    \\implies \\sigma(t) = \\sqrt{\\text{Var}(X(0)) + t \\sum_{x\\in\\mathbb{N}} x^2 w_{x}}\n",
    "$$\n",
    "\n",
    "If we further assume that the quantity $X(t)$ changes when a reaction occurs, i.e. when an edge of the kinetic scheme is crossed, we can explicitely compute the transiton rates. Fix a value $x=x^*$ and consider all the reactions that modify the quantity $X$ by the value $x^*$. Then, the transition rate $w_{x^*}$ will be given by the sum of the rate $k$ times the probability of being in the initial state of the reaction, over all such edges. Mathematically, if we denote by $R_{x^*}$ the set of reactions that modify $X$ by $x^*$, we have:\n",
    "$$\n",
    "    w_{x^*} = \\sum_{i\\to j\\in R_{x^*}} k_{ij} p_i\n",
    "$$\n",
    "\n",
    "Finally, from Eqs. \\ref{???} and \\ref{???}, the average rate of change of the quantity $X$ is given by:\n",
    "$$\n",
    "    \\frac{d}{dt}\\left\\langle X(t) \\right\\rangle\n",
    "    = \\sum_{x\\in\\mathbb{N}} \\sum_{i\\to j\\in R_{x}} x k_{ij} p_i\n",
    "$$\n",
    "which makes intuitive physical sense because it is the sum for all possible changes of the quantity $X$ of the rate of the reaction times the probability of being in the initial state of the reaction.\n"
   ]
  },
  {
   "cell_type": "markdown",
   "metadata": {},
   "source": [
    "## Simulating trajectories via Gillespie algorithm"
   ]
  },
  {
   "cell_type": "markdown",
   "metadata": {},
   "source": [
    "In general, the differential equations derived above cannot be solved analytically, and we have to resort to numerical methods. The most straightforward method is to simulate the trajectories of the system, i.e. the sequence of states visited by the system, and then computing statistics on these trajectories. \n",
    "But the simulated trajectories also serves the purpose of giving us confidence in the implementation of the simulations, by comparing the statistics found numerically with the analytical results when possible.\n",
    "\n",
    "The Gillespie algorithm is a method to simulate trajectories of a stochastic system. It simulates a single particle progressing in time on the kinetic scheme, jumping from one state to another according to the transition rates. The simulation starts in a given state $i$ at time $t=0$, from where it sojourns until a reaction $i\\to j$ occurs, and then jumps to state $j$. The system then sojourns in state $j$ until another reaction $j\\to k$ occurs, and so on.\n",
    "\n",
    "The sojourn time and the next states are random variables, and their distribution is as follows. Let'sconsider the event \"reaction $i\\to j^*$ occurs in an infinitesimally small interval $[\\tau, \\tau+\\Delta t]$, and no other reaction occurs in $[0, \\tau+\\Delta t]$\". In this case, the sojourn time would be $\\tau$ and the next state would be $j*$. If we associate to each reaction $i\\to j$ a random variable $T_{ij}$ representing the time until the reaction occurs, then the event abovementioned is equivalent to the event $\\{(\\tau < T_{ij*} < \\tau + \\Delta t) \\wedge (T_{ij} > \\tau + \\Delta t \\text{, } \\forall j\\neq j*)\\}$. Given that all reactions are independent and follow an exponential distribution of rate $k_{ij}$, the probability of this event is given by:\n",
    "$$\n",
    "    \\mathbb{P}\\left((\\tau < T_{ij*} < \\tau + \\Delta t) \\wedge (T_{ij} > \\tau + \\Delta t \\text{, } \\forall j\\neq j*)\\right)\n",
    "    = \\mathbb{P}(\\tau < T_{ij*} < \\tau + \\Delta t) \\prod_{j\\neq j*} \\mathbb{P}(T_{ij} > \\tau + \\Delta t)\n",
    "$$\n",
    "$$\n",
    "    = e^{-k_{ij*}\\tau} \\left(1 - e^{-k_{ij^*}\\Delta t}\\right) \\prod_{j\\neq j*} e^{-k_{ij}(\\tau + \\Delta t)}\n",
    "    = e^{-\\sum_j k_{ij}\\tau} k_{ij^*} \\Delta t + o(\\Delta t)\n",
    "$$\n",
    "In the limit $\\Delta t\\to 0$, we identify the probability density\n",
    "$$\n",
    "    p(i\\to j^*, \\tau) = k_{ij^*} e^{-\\sum_j k_{ij}\\tau} = k_{i} e^{-k_{i}\\tau} \\frac{k_{ij^*}}{k_{i}}\n",
    "$$\n",
    "where $k_i := \\sum_j k_{ij}$ is the total rate of leaving state $i$. Adding $\\frac{k_i}{k_i}$ to the expression allows to easily sampling the sojourn time and next state $(\\tau, j)$ individually. The first state indicates that the sojourn time before leaving the state is distributed exponentially where each reaction rate $k_{ij}$ contributes to the total rate $k_i$, and the second term indicates that the next state is randomly sampled from the set of possible states with probability proportional to the reaction rate $k_{ij}$.\n",
    "\n",
    "With these mathematical considerations, we can detail the algorithm itself. We start in a random state, we chose to sample it from the steady-state probabilities associated to each state, so that we do not need to wait for the system to reach the said steady-state. Then, the sojourn time is sampled from an exponential distribution with rate the sum of all the reaction rates leaving the current state, and the next state is sampled from the set of possible states with probability proportional to the reaction rates. And then the simulation continues until a stopping criterion is reached, for example a fixed time or a fixed number of steps."
   ]
  },
  {
   "cell_type": "markdown",
   "metadata": {},
   "source": [
    "# Translocation models"
   ]
  },
  {
   "cell_type": "markdown",
   "metadata": {},
   "source": [
    "The exact translocation dynamics of the chaperones along the amino acid chain is far from being perfectly understood. ??? et al. \\cite{???} proposed a hand-over-hand model based on cryoelectron microscopy, a Sequential Clockwise/2-Residue Step (SC/2R) where the 6 protomers are in a staircase configuration, the ATP-hydrolisis cycle allows the lowest protomer to slide up againt its neighbor along the chain, and stops forming the new stair tread 2 amino acids higher than the previous top-most protomer, and then the cycle repeats with the next protomer previously the second lowest now being the lowest to hydrolyse ATP to slide up. A video of the model can be found at \\url{https://www.youtube.com/watch?v=???}. The exact implementation of this model within the kinetic scheme framework is detailed later.\n",
    "\n",
    "Some implications from the SC/2R model do not match with experimental data, we will detail this more in a later section, and this motivated us to propose a new model, the [...] (concertina movement/locomotion) model. The chaperone oscillates between a flat configuration and a staricase configuration, moving by $2(6-1)=10$ amino acids per cycle. The details of the model are given later.\n",
    "\n",
    "To implement a model in the kinetic scheme networks we start by considering the simplest case, an idealised version involving a minimal number of states and transitions to really capture the essence of the model, and then we add more complexity to take into account more realistic features.\n"
   ]
  },
  {
   "cell_type": "markdown",
   "metadata": {},
   "source": [
    "## ATP/ADP-Protomer Exchange Model"
   ]
  },
  {
   "cell_type": "markdown",
   "metadata": {},
   "source": [
    "Before detailing the translocation models, we should explain what is the source of energy that drives the translocation since, at equilibrium, the ATPase would in average stay in place. Naturally, in a volume containing a given number of ATP and ADP molecules, the $[\\text{ATP}]/[\\text{ADP}]$ concentration ratio would stabilize at its equilibrium value, approximately $10^{-5}$\\cite{???}. However, in the cell, this ratio is maintained at a much higher value, around $10^3$ \\cite{???}. The ATPases standing in the cytosol [to check] are in contact with a high concentration of ATP, and thus, as we will see, this favors an ADP-bounded protomer to exchange its nucleotide with an ATP lying in its environment.\n",
    "\n",
    "Consider a volume containing proteins, with ATP and ADP floating around. These nucleotides can bound and unbound from the proteins with rates $k_{on}^T$, $k_{off}^T$ and $k_{on}^D$, $k_{off}^D$ respectively, where the superscripts $T$ and $D$ stand for the ATP and ADP nucleotides and the subscripts $on$ and $off$ stand for the binding and unbinding reactions. Denoting the concentrations with $[.]$, and using $P\\equiv\\text{Protein}$, $T\\equiv\\text{ATP}$ and $D\\equiv\\text{ADP}$ to simplify the notation, the kinetic scheme of this process is:\n",
    "$$\n",
    "    \\begin{tikzcd}\n",
    "        & T \\arrow[dl, \"k_{on}^T\"] \\arrow[dr, \"k_{off}^T\"] & \\\\\n",
    "        T^* & & T\n",
    "    \\end{tikzcd}\n",
    "    \\qquad\n",
    "    \\begin{tikzcd}\n",
    "        & D \\arrow[dl, \"k_{on}^D\"] \\arrow[dr, \"k_{off}^D\"] & \\\\\n",
    "        D^* & & D\n",
    "    \\end{tikzcd}\n",
    "$$\n",
    "Using a simple bimolecular binding/unbinding model for the protomer-nucleotide interactions, the corresponding master equations are:\n",
    "$$\n",
    "\\begin{aligned}\n",
    "    \\frac{d[PT]}{dt} &= k_{on}^T [P][T] - k_{off}^T [PT] \\\\\n",
    "    \\frac{d[PD]}{dt} &= k_{on}^D [P][D] - k_{off}^D [PD] \\\\\n",
    "    \\frac{d[P]}{dt} &= k_{off}^T [PT] + k_{off}^D [PD] - (k_{on}^T + k_{on}^D) [P]\n",
    "\\end{aligned}\n",
    "$$\n",
    "We omitted equation for ATP and ADP concentration evolution because we are ultimately interested in the steady-state of the system, and in steady-state these two equations are actually redundant with the three equations above. We assume that the sojounr time of the protein not bound to any nucleotide is much smaller than the binding/unbinding times, so we can assume $\\dot{[P]}=0$ and thus $[P]=\\frac{k_{off}^T [PT] + k_{off}^D [PD]}{k_{on}^T + k_{on}^D}$. Plugging this expression into the bounded complexes equations above and developping the result, we obtain:\n",
    "$$\n",
    "\\begin{aligned}\n",
    "    \\frac{d[PT]}{dt} &= \\underbrace{\\frac{k_{off}^D k_{on}^T [T]}{k_{on}^T [T] + k_{on}^D [D]}}_{=:k_{DT}} [PD]\n",
    "                        - \\underbrace{\\frac{k_{off}^T k_{on}^D [D]}{k_{on}^T [T] + k_{on}^D [D]}}_{=:k_{TD}} [PT]\n",
    "\\end{aligned}\n",
    "$$\n",
    "and a similar equation for $[PD]$ but with reversed signs, where we defined the effective exchange rates $k_{DT}$ and $k_{TD}$ for ADP $\\to$ ATP and ATP $\\to$ ADP exchange respectively. This means that under the assumption that the protein spend most of its time bound to a nucleotide, we can rewrite the ATP/ADP exchange as a single reaction:\n",
    "$$\n",
    "    \\begin{tikzcd}\n",
    "        & D \\arrow[dl, \"k_{DT}\"] \\arrow[dr, \"k_{TD}\"] & \\\\\n",
    "        T & & D\n",
    "    \\end{tikzcd}\n",
    "$$\n",
    "\n",
    "One important thing here is that these effective exchange rates depend on the ATP/ADP concentrations, and thus a direction of the exchange is favored when the ATP/ADP ratio is not at its equilibrium value. In particular, looking at the ratio of rates\n",
    "$$\n",
    "    \\frac{k_{DT}}{k_{TD}} \n",
    "    = \\frac{k_{off}^D k_{on}^T}{k_{off}^T k_{on}^D} \\frac{[T]}{[D]}\n",
    "    = \\frac{K_d^D}{K_d^T} \\frac{[T]}{[D]}\n",
    "$$\n",
    "where $K_d^N:=\\frac{k_{off}^N}{k_{on}^N}$ is the dissociation constant of the nucleotide $N$, we see that when the ATP/ADP concentration ratio is extraordinarily higher than its equilibrium value, as it is the case in cells, a protein in ADP-bound state will have a strong tendency to exchange its nucleotide with an ATP in its environment, and this is the source of energy that drives the translocation models defined later.\n",
    "\n",
    "A last important relation is the following. Consider the ratio of the effective exchange rates at equilibrium:\n",
    "$$\n",
    "    \\left.\\frac{k_{DT}}{k_{TD}}\\right|_{eq.}\n",
    "    = \\frac{K_d^D}{K_d^T} \\left.\\frac{[T]}{[D]}\\right|_{eq.}\n",
    "    = \\frac{K_d^D}{K_d^T} \\frac{[T]}{[D]} \\frac{[D]}{[T]} \\left.\\frac{[T]}{[D]}\\right|_{eq.}\n",
    "    = \\frac{k_{DT}}{k_{TD}} \\left(\\left.\\frac{[T]}{[D]}\\right|_{eq.} \\bigg/ \\frac{[T]}{[D]}\\right)\n",
    "$$\n",
    "This is especially useful when a thermodynamic loop law involves the ratio of equilibrium exchange rates, because we can replace it by the non-equilibrium ratio of effective exchange rates times the shift of [ATP]/[ADP] concentration ratio from its equilibrium value. \n"
   ]
  },
  {
   "cell_type": "markdown",
   "metadata": {},
   "source": [
    "## Common features of the translocation models"
   ]
  },
  {
   "cell_type": "markdown",
   "metadata": {},
   "source": [
    "Before defining the translocation models themselves, we first detail the common features of these models. The ATPase is made of $N$ protomers, for ... and ... we have $N=6$ but the model we will study can be easily extended to an arbitrary number of protomers. Each protomer can be either in ATP-bound state or ADP-bound state, and it can switch from ATP to ADP either by hydrolysis or nucleotide exchange (as detailes in Sec. \\ref{???}), and it can switch from ADP to ATP either by spontaneous synthesis or nucleotide exchange. Each of these reactions are associated with a rate and correspond to a transition in the kinetic scheme. The rates are denoted as follows: $k_h$ for hydrolysis, $k_s$ for synthesis, $k_{DT}$ for ADP $\\to$ ATP exchange and $k_{TD}$ for ATP $\\to$ ADP exchange. All these rates are assumed to be similar for all protomers and all models. While $k_h$ and $k_s$ are constant rates that could theoretically be measured, $k_{DT}$ and $k_{TD}$ are effective rates that depend on the dissociation constants of the nucleotides $K_d^D$ and $K_d^T$, as well as the equilibrium and current [ATP]/[ADP] concentration ratio. For the rest of this work, all these physical parameters are free parameters the user can choose, and the values we will use are not necessarily the ones measured in the cell.\n",
    "\n",
    "Finally, the general motion of the ATPase along the amino-acid chain is due to the translocation of individual protomers in a cyclic manner. There are two quantities of interest during the motion of the ATPase: its displacement over time and its ATP consumption, or similarly, its velocity and its ATP consumption rate. These two quantities can be followed during a simulation, but we can also compute their average value using method detailed in Sec. \\ref{???}. In both models, the ATPase consume one ATP molecule per cycle and moves by $\\Delta x$ amino acids per cycle, where $\\Delta x$ depends on the model, and in the kinetic scheme framework, for both model, only one transition consumes ATP and only one transition induces a displacement. The ATP consumption rate and average velocity can be computed using Eq. \\ref{???}."
   ]
  },
  {
   "cell_type": "markdown",
   "metadata": {},
   "source": [
    "## Sequential Clockwise/2-Residue Step (SC/2R) model"
   ]
  },
  {
   "cell_type": "markdown",
   "metadata": {},
   "source": [
    "Based on the description in \\cite{???}, we implement the SC/2R model in the kinetic scheme framework. The chaperone starts in a staircase configuration where each protomer has an ATP molecule bound to it. The lowest protomer hydrolyses its ATP molecule, and slides up against its neighbor, forming a new stair tread 2 amino acids higher than the previous top-most protomer. Then, it exchanges its ADP molecule with an ATP molecule from the bulk, and the cycle repeats with the next protomer previously the second lowest now being the lowest to hydrolyse ATP to slide up, and so on. \n",
    "\n",
    "We identify 3 states in the cycle: \n",
    "- $(A)$ All protomers are in ATP-bound state;\n",
    "- $(B)$ The lowest protomer is in ADP-bound state, and the others are in ATP-bound state;\n",
    "- $(C)$ The highest protomer (previously the lowest) is in ADP-bound state, and the others are in ATP-bound state.\n",
    "We associate to each state $A,B,C$ the steady-state probability $p_A, p_B, p_C$ respectively.\n",
    "\n",
    "and the transitions between the states are the following:\n",
    "- $A\\to B$: the lowest protomer hydrolyses its ATP molecule with rate $k_h$ (reverse reaction is spontaneous ATP synthesis with rate $k_s$), which consumes (respectively produces) a single ATP molecule;\n",
    "- $B\\to C$: the lowest protomer (now in ADP-bound state) slides up with rate $k_\\uparrow$ (reverse reaction is sliding down with rate $k_\\downarrow$), which induces a displacement of $\\Delta x=2$ (respectively $\\Delta x=-2$) amino acids;\n",
    "- $C\\to A$: the highest protomer (previously the lowest) exchanges its ADP molecule with an ATP molecule from the bulk with rate $k_{DT}$ (reverse reaction is ATP $\\to$ ADP exchange with rate $k_{TD}$). This exchange process is detailed in Sec. \\ref{???}.\n",
    "\n",
    "The kinetic scheme is represented in Fig. \\ref{fig:SC2R-kinetic-scheme}. One could argue that more states are needed to represent the model since different protomers will do the hydrolysis-exchange cycle, but we argue that the protomers are a priori indistinguishable, and thus we can merge all states that satisfy the state descriptions above. This assumption is lightly discussed in App. \\ref{???}.\n",
    "\n",
    "The exchange rates of ATP/ADP molecules $k_{DT}$ and $k_{TD}$ are the only rates that are not constants and depend on the [ATP]/[ADP] concentration ratio. Obviously, there is only a single fundamental cycle in the kinetic scheme, giving us the thermodynamic loop law:\n",
    "$$\n",
    "    \\frac{k_h k_\\uparrow \\left.k_{DT}\\right|_{eq.}}{k_s k_\\downarrow \\left.k_{TD}\\right|_{eq.}} = 1\n",
    "$$\n",
    "\n",
    "The translocation rates $k_\\uparrow$ and $k_\\downarrow$ could be measured. In this work we fix an arbitrary value of $k_\\uparrow$ and then $k_\\downarrow$ is constrained by the thermodynamic loop law. \n",
    "\n",
    "Solving the linear system (see Eq. \\ref{???}) for the steady-state probabilities, we obtain:\n",
    "$$\n",
    "\\begin{aligned}\n",
    "    p_A &\\propto k_s k_{DT} + k_\\downarrow k_s + k_\\uparrow k_{DT} \\\\\n",
    "    p_B &\\propto k_h k_\\downarrow + k_{DT} k_h + k_{TD} k_\\downarrow \\\\\n",
    "    p_C &\\propto k_\\uparrow k_{TD} + k_s k_{TD} + k_h k_\\uparrow\n",
    "\\end{aligned}\n",
    "$$\n",
    "where the proportionality constants are fixed by the normalization condition $p_A+p_B+p_C=1$. We see that for each state, its steady-state probability is the product of the two rates directly leading to the state, plus the product or rates of all paths of size 2 leading to the state.\n",
    "\n",
    "Finally, using Eq. \\ref{???}, the average velocity $\\left\\langle v \\right\\rangle$ and ATP consumption rate $r_{ATP}$ are given by:\n",
    "$$\n",
    "\\begin{aligned}\n",
    "    \\left\\langle v \\right\\rangle &= \\Delta x p_B k_\\uparrow - \\Delta x p_C k_\\downarrow \n",
    "        \\propto \\Delta x \\left(k_h k_\\uparrow k_{DT} - k_s k_\\downarrow k_{TD}\\right) \\\\\n",
    "    r_{ATP} &= p_A k_h - p_B k_s\n",
    "        \\propto k_h k_\\uparrow k_{DT} - k_s k_\\downarrow k_{TD}\n",
    "\\end{aligned}\n",
    "$$\n",
    "where the proportionality constant is the same as steady-state probabilities above. We see that the average velocity and ATP consumption rate are proportional to each other, which makes sense since in this model there is a single loop, all net fluxes must be equal by Kirchhoff's law. Moreover, the flux is simply the product of the rates in one direction of the loop minus the product of the rates in the other direction of the loop. Using the thermodynamic loop law (Eq. \\ref{???}), as well as Eq. \\ref{???}, we can rewrite the average velocity as:\n",
    "$$\n",
    "    \\left\\langle v \\right\\rangle \\propto \\Delta x \\left(1 - \\left.\\frac{[T]}{[D]}\\right|_{eq.}\\bigg/\\frac{[T]}{[D]}\\right) k_h k_\\uparrow k_{DT}\n",
    "$$\n",
    "i.e. the average velocity is directly proportional to the product of rates in the main direction of the loop and the shift of the [ATP]/[ADP] concentration ratio from its equilibrium value (up to saturation hidden in the denominator) and of course the absolute size of a single displacement $\\Delta x$. This is a general result that holds for any kinetic scheme with a single fundamental cycle, and it is illustred numerically in App. \\ref{???}. \n",
    "\n",
    "Finally, we can compute the ATP consumed per amino acid displacement:\n",
    "$$\n",
    "    \\frac{\\#\\text{ATP}}{\\#\\text{amino acid}} = \\frac{r_{ATP}}{\\left\\langle v \\right\\rangle} = \\frac{1}{\\Delta x} = 0.5\n",
    "$$\n"
   ]
  },
  {
   "cell_type": "markdown",
   "metadata": {},
   "source": [
    "## Random Protomer Concertina Locomotion (RPCL) model"
   ]
  },
  {
   "cell_type": "markdown",
   "metadata": {},
   "source": [
    "This alternative model is based on a simple physical assumtion: the height difference of two neighboring protomers is subject to a restoring force, that we approximate as linear. We further assume that the spring constant depends only on the nucleotide bound to the pair of protomers, and in particular, when a protomer is in ADP-bound state, the spring constant with one of its (ATP-bound) neighbor is weaker than when it is in ATP-bound state. \n",
    "\n",
    "Based on these assumptions, we can already determine what configuration the ATPase will adopt depending on the nucleotide bound to the protomers. Let $N$ be the number of protomers, let's denote by $h_i$ the height difference between protomer $i+1$ and $i$ and $h_0$ their equilibrium height difference (we choose arbitrarily the direction where $i+1$ is the right neighbor of $i$). We write $k$ the spring constant between two neighboring ATP-bound protomers, and $k'$ the spring constant between and ADP-bound protomer and one of its ATP-bound neighbor (we will choose the right neighbor, the explanation for this choice is given later). Then, there are in total $N$ interactions (since the protomers are arranged in a circle), and to each restoring force is associated a potential energy $\\frac{1}{2}k h_i^2$. The height differences $h_i$ are signed, thus the sum of all the height differencies should always be zero. Therefore, the configuration the ATPase adopts is the one that minimizes the total potential energy, under the constraint that the sum of all the height differences is zero. \n",
    "\n",
    "Let's first find the minimum energy configuration in the case where a single protomer is in ADP-bound state, and all the others are in ATP-bound state, without loss of generality we choose the protomer $N$ to be in ADP-bound state. The Lagrangian of the system is then:\n",
    "$$\n",
    "    \\mathcal{L} = \\frac{1}{2}k \\sum_{i=1}^{N-1} (h_i - h_0)^2 + \\frac{1}{2}k' (h_N - h_0)^2 - \\lambda \\sum_{i=1}^N h_i\n",
    "$$\n",
    "where $\\lambda$ is the Lagrange multiplier associated with the constraint. Solving the system of equations $\\left\\{\\frac{\\partial\\mathcal{L}}{\\partial h_i}=0 \\quad \\forall i, \\quad \\frac{\\partial\\mathcal{L}}{\\partial \\lambda}=0\\right\\}$, we find that the configuration that minimizes the potential energy is:\n",
    "$$\n",
    "\\left\\{\n",
    "\\begin{aligned}\n",
    "    &h_i = h_0 \\frac{k-k'}{(N-1)k'+k}, \\quad \\forall i\\neq N \\\\\n",
    "    &h_N = (N-1) h_0 \\frac{k'-k}{(N-1)k'+k} = -(N-1) h_{i\\neq N}\n",
    "\\end{aligned}\n",
    "\\right.\n",
    "$$\n",
    "This is the description of a staircase-like configuration, where each next protomer is $\\Delta h := h_{i\\neq N}$ higher than the previous one, except for the ADP-bound protomer where its weaker interaction induces a large step down, since $k'<k$. This configuration is thus equivalent to the one proposed in the SC/2R model \\cite{???}, however, we see that when all protomers are in ATP-bound state, we can simply apply $k'\\mapsto k$ and in this case the configuration is a flat one, where all protomers are at the same height. This already shows a very interesting property of the RPCL model compared to the SC/2R model, it predicts the existence of a flat configuration, which is consistent with experimental data \\cite{???} and this configuration is absent from the SC/2R model.\n",
    "\n",
    "Based on these two configurations, we propose the following dynamical model. The chaperone starts in a flat configuration where all protomers are in ATP-bound state. In this configuration, no protomer is favored compared to the others, and thus any protomer can hydrolyse its ATP molecule. When a protomer hydrolyses its ATP molecule, we idealize the model by assuming that no other protomer can hydrolyse its ATP molecule anymore. Then the post-hydrolysis protomer is now in ADP-bound state, and the whole ATPase will extend to adopt the staircase-like configuration. We suggest that the right neighbor of the ADP-bound protomer stays fixed to the amino acid chain, and every other protomer slides up, up to $\\Delta h$ above their left neighbor, up to the ADP-bound protomer being the highest one, so that similarly to SC/2R model, the ADP-state protomer is the one that undergoes the largest displacement, consistent with the lower resolution cryo-EM density measurement of the post-hydrolysis protomer indicating conformational flexibility \\cite{???} [PARAPHRASER; PAS DE PLAGIAT]. To match with the staircase configuration on SC/2R, we can freely fix $\\Delta h = 2$ residues. Now, the ADP-bound protomer can exchange its ADP molecule with an ATP molecule from the bulk, and this will induce the ATPase to adopt the flat configuration again. For this transition, we suggest that this time it is the previously ADP-bound protomer that stays fixed to the amino acid chain, and every other protomer slides up. This cycle repeats, and the chaperone moves by $\\Delta x = (N-1)\\Delta h = 10$ residues per cycle. The name \"concertina locomotion\" takes its inspiration from the concertina locomotion, a type of locomotion that some snakes use to climb trees \\cite{???}.\n",
    "\n",
    "To transpose this model in the kinetic scheme framework, we identify 4 states in the cycle:\n",
    "- $(A)$ All protomers are in ATP-bound state and the chaperone is in a flat configuration;\n",
    "- $(B)$ A single random protomer is in ADP-bound state and the chaperone is in a flat configuration;\n",
    "- $(C)$ The chaperone is in a staircase configuration with the ADP-bound protomer being the highest one;\n",
    "- $(D)$ All protomers are in ATP-bound state and the chaperone is in a staircase configuration.\n",
    "We associate to each state $A,B,C,D$ the steady-state probability $p_A, p_B, p_C, p_D$ respectively. \n",
    "\n",
    "Again merging all the indistinguishable states (assumption discussed lightly in App. \\ref{???}), the transitions between the states are the following:\n",
    "- $A\\to B$: a random protomer hydrolyses its ATP molecule with rate $k_h$ (reverse reaction is spontaneous ATP synthesis with rate $k_s$), which consumes (respectively produces) a single ATP molecule. But since there are $N$ protomers, and each protomer is equally likely to hydrolyse its ATP molecule, in the kinetic scheme this reaction has an effective rate $\\bar{k}_h = N k_h$. The reverse reaction is left unchanged;\n",
    "- $B\\to C$: the chaperone extends up to adopt the staircase-like configuration with rate $k_⮭$ (reverse reaction is contract down with rate $k_⮩$), which induces a displacement of $\\Delta x=2(N-1)=10$ (respectively $\\Delta x=-2(N-1)$) residues;\n",
    "- $C\\to D$: the previously ADP-bound protomer exchanges its ADP molecule with an ATP molecule from the bulk with rate $k_{DT}$ (reverse reaction is ATP $\\to$ ADP exchange with rate $k_{TD}$). This exchange process is detailed in Sec. \\ref{???};\n",
    "- $D\\to A$: the chaperone contracts up to adopt the flat configuration with rate $k_⮫$. This is not considered as a displacement because the top-most protomer stays at the same place, but this choice is arbitrary. The reverse reaction is to extend down with rate $k_⮯$ for a single protomer, but since in the full-ATP-flat configuration this reaction could be induced by any of the $N$ protomers, in the kinetic scheme we associate to this reaction an effective rate $\\bar{k}_⮯=Nk_⮯$.\n",
    "\n",
    "The arrow notation can be a bit confusing but the idea is the following: the arrow begins with a direction, then turn to another direction, and it can be oriented globally up or down. The first direction is horizontal if the initial state of the reaction is the flat configuration or vertical if the initial state of the reaction is the staircase configuration, and similar for the second direction of the arrow. The global orientation of the arrow indicates the direction of the displacement. The kinetic scheme is represented in Fig. \\ref{fig:RPCL-kinetic-scheme}.\n",
    "\n",
    "Similarly to the SC/2R model, only effective exchange rates $k_{DT}$ and $k_{TD}$ are non-constants and depend on the [ATP]/[ADP] concentration ratio, and all the constants could theoretically be measured, but in absence of such data, we fix arbitrary values for the rates, except for $k_⮩$ which is the rate chosen to be constrained by the thermodynamic loop law:\n",
    "$$\n",
    "    \\frac{k_h k_⮭ \\left.k_{DT}\\right|_{eq.} k_⮫}{k_s k_⮩ \\left.k_{TD}\\right|_{eq.} k_⮯} = 1\n",
    "$$\n",
    "It is irrelevant to use the bar constants or not in the thermodynamic loop law, since the they appear in the numerator and the denominator of the fraction, and thus they cancel out.\n",
    "\n",
    "We then solve the linear system Eq. \\ref{???} for the steady-state probabilities, and we obtain:\n",
    "$$\n",
    "\\begin{aligned}\n",
    "    p_A &\\propto k_s k_⮩ k_⮫ + k_s k_{DT} k_⮫ + k_s k_⮩ k_{TD} + k_⮭ k_{DT} k_⮫ \\\\\n",
    "    p_B &\\propto \\bar{k}_h k_⮩ k_{TD} + \\bar{k}_h k_⮩ k_⮫ + k_⮩ k_{TD} \\bar{k}_⮯ + \\bar{k}_h k_{DT} k_⮫ \\\\\n",
    "    p_C &\\propto k_⮭ k_{TD} \\bar{k}_⮯ + \\bar{k}_h k_⮭ k_{TD} + k_s k_{TD} k_⮯ + \\bar{k}_h k_⮭ k_⮫ \\\\\n",
    "    p_D &\\propto k_s k_{DT} \\bar{k}_⮯ + k_⮭ k_{DT} \\bar{k}_⮯ + k_s k_⮩ \\bar{k}_⮯ + \\bar{k}_h k_⮭ k_{DT}\n",
    "\\end{aligned}\n",
    "$$\n",
    "where the proportionality constants are fixed by the normalization condition $p_A+p_B+p_C+p_D=1$. We see that for each state, its steady-state probability is the sum of product of rates of all combinations of paths of size 1 and 2 leading to the state, plus the product of rates of all paths of size 3 leading to the state.\n",
    "\n",
    "Similarly to the SC/2R model, we compute the average velocity $\\left\\langle v \\right\\rangle$ and express it as a function of the concentration ratio, the ATP consumption rate $r_{ATP}$ and the ATP consumed per amino acid displacement:\n",
    "$$\n",
    "\\begin{aligned}\n",
    "    &\\left\\langle v \\right\\rangle \\propto \\Delta x \\left(\\bar{k}_h k_⮭ k_{DT} k_⮫ - k_s k_⮩ k_{TD} \\bar{k}_⮯\\right) = \\Delta x \\left(1 - \\left.\\frac{[T]}{[D]}\\right|_{eq.}\\bigg/\\frac{[T]}{[D]}\\right) \\bar{k}_h k_⮭ k_{DT} k_⮫ \\\\\n",
    "    &r_{ATP} \\propto \\bar{k}_h k_⮭ k_{DT} k_⮫ - k_s k_⮩ k_{TD} \\bar{k}_⮯ \\\\\n",
    "    &\\frac{\\#\\text{ATP}}{\\#\\text{amino acid}} = \\frac{r_{ATP}}{\\left\\langle v \\right\\rangle} = \\frac{1}{\\Delta x} = 0.1\n",
    "\\end{aligned}\n",
    "$$\n",
    "where the proportionality constant is the same as steady-state probabilities above. All the conclusions of the SC/2R model hold for the RPCL model, with the difference that the ATP consumed per amino acid displacement is 5 times smaller.\n"
   ]
  },
  {
   "cell_type": "markdown",
   "metadata": {},
   "source": [
    "# Experiments"
   ]
  },
  {
   "cell_type": "markdown",
   "metadata": {},
   "source": [
    "In this section, we present some experiments we conducted on the two models SC/2R and RPCL to highlight their similarities and differences. Some of these results are compared to experimental data."
   ]
  },
  {
   "cell_type": "markdown",
   "metadata": {},
   "source": [
    "## Some trajectories"
   ]
  },
  {
   "cell_type": "markdown",
   "metadata": {},
   "source": [
    "We begin by simulating some trajectories of the two models and compute some statistics. In Fig. \\ref{fig:trajectories}, we show some trajectory samples of the two models in solid lines, the analytical expected position and standard deviation using Eqs. \\ref{???} and \\ref{???} in grey solid line and light colored areas, the empirical mean position and standard deviation in dashed lines, and the ATP consumption per unit displacement. We plot as well the distribution of sojourn times in a position.\n",
    "\n",
    "In order to more easily compare the two models, their rates are scaled by a factor so that their analytical average velocity is normalized to 1. The exact values of the constants are not relevant, the essential point is that the [ATP]/[ADP] concentration is set to a large value and its equilibrium value very small, so that the ATPase has a non-zero average velocity. All the others free constants are set to values of the order of 1 before renormalization.\n",
    "\n",
    "As predicted by the calculations in Secs. \\ref{???} and \\ref{???}, for a similar average velocity, RPCL consumes 5 times less ATP than SC/2R. It does this by moving steps 5 times longer using a single ATP and sojourn at the same position 5 times longer on average, as can be seen in the histogram. This behavior is more consistent with experimental data \\cite{???} where it has been shown that the ATPase moves by steps of $14.6\\pm 0.9$ amino acids for single-strand translocation, the case considered in this work. [CHECK]\n",
    "\n",
    "One behaviour that we fail to understand is the difference between analytical and numerical standard deviations. We suspect that the expression we have for analytical standard deviation (Eq. \\ref{???}) is incorrect but this issue has not been resolved yet. [DO CONVERGENCE PLOT AND SEE IF MAYBE IT CONVERGES TO THE ANALYTICAL VALUE. ADD THIS PLOT AND COMMENT]."
   ]
  },
  {
   "cell_type": "markdown",
   "metadata": {},
   "source": [
    "## "
   ]
  },
  {
   "cell_type": "markdown",
   "metadata": {},
   "source": [
    "## Adding an external force"
   ]
  },
  {
   "cell_type": "markdown",
   "metadata": {},
   "source": [
    "Now we investigate how the dynamics is modified in the presence of an external force. To implement this, we consider that the force derives from a potential energy $U(x) \\propto x$, where $x$ is the position of the ATPase and fix $u$ the potential energy for a unit displacement $\\Delta x = 1$ amino acid. The presence of this potential will modify the rate of reactions that induce a displacement $\\Delta x$ of the ATPase $k\\mapsto k e^{-\\beta u \\Delta x }$, where $\\beta$ is the inverse temperature, following the Arrhenius law\\cite{???}, where assume that the pre-exponential factor is already contained in the rate $k$. This additional term does not influence the thermodynamic loop law, since at equilibrium the force is zero and the potential energy is constant, and thus the additional term cancels out in the loop law (any reaction that induces a displacement $\\Delta x$ in a direction has a reverse reaction with an opposite displacement $-\\Delta x$). Therefore, if a rate has its value constrained by the loop law, one simply add the additional term to the constrained rate. However, the additional term does influence the dynamics for non-zero force, physical quantities that one can readilly compute by replacing the old rates with the new rates containing the exponential term in its the expression.\n",
    "\n",
    "In practical terms, both SC/2R and RPCL models are made of a single loop with a single reaction associated to a displacement of the ATPases, and thus after fixing an arbitrary value $u/T$, the rates are transformed as follows:\n",
    "- $k_\\uparrow\\mapsto k_\\uparrow e^{-2 \\frac{u}{T}}$ and $k_\\downarrow\\mapsto k_\\downarrow e^{2 \\frac{u}{T}}$ for SC/2R;\n",
    "- $k_⮭\\mapsto k_⮭ e^{-10 \\frac{u}{T}}$ and $k_⮩\\mapsto k_⮩ e^{10 \\frac{u}{T}}$ for RPCL.\n",
    "\n",
    "In Fig. \\ref{fig:force}, we show the average velocity as a function of the unit potential energy $u/T$ for both models. The two models are not readily comparable since their rates are based on arbitrary values and do not necessarily correspond to the same physical quantities. The important point is the qualitative behavior of the average velocity as a function of the force, which we can see is similar for both models. In particular, we see that the average velocity is modified as soon as we apply a non-zero force. This is an argument in disfavor of the experimental result in \\cite{???} where the velocity does not seem to be affected by the force, up to a threshold value after which the velocity drastically falls. However, this result needs to be taken with caution, since the measurements were subject to high uncertainties. \n",
    "\n",
    "The second important point visible in Fig. \\ref{fig:force} is that the average velocity has a sigmoidal shape, inversely proportionnal to the force for small forces, and then it saturates to a constant value for large forces. The inverse relation comes from the fact that the force acts as a barrier that the ATPase has to overcome to climb up, and similarly facilitates the descent. The saturation comes from the fact that for extreme forces, the reactions associated with a displacement favored by the force in the kinetic scheme have an exponentially similarly big rate that when the system is in the initial state of the reaction, it will almost instantaneously jump to the resulting state of the reaction, i.e. the ATPase moves immediately, and similarly for reactions disfavored by the force, their rate are exponentially small that this reaction is practically never realized, to the extent that the flux in the loop is practically determined by the rates of the other reactions.\n",
    "\n",
    "This result was predictable when looking at the expression for the analytical steady-state probability (Eq. \\ref{???}) and the average velocity (Eq. \\ref{???}). Let's take the SC/2R model for example, but it would be similar for RPCL since both models are made of a single loop. Let's choose a large value of the force that will inhibit the forward motion of the ATPase. Mathematically, this corresponds to the situation $u \\rightarrow \\infty$, and thus the rates $k_\\uparrow \\rightarrow 0$ and $k_\\downarrow \\rightarrow\\infty$ and all the other rates are left unchanged. In this limit, the steady-state probabilities (Eq. \\ref{???}) become:\n",
    "$$\n",
    "\\begin{aligned}\n",
    "    p_A &\\propto k_s k_{DT} + k_\\downarrow k_s + k_\\uparrow k_{DT} \n",
    "        \\approx k_\\downarrow k_s \\\\\n",
    "    p_B &\\propto k_h k_\\downarrow + k_{DT} k_h + k_{TD} k_\\downarrow \n",
    "        \\approx k_\\downarrow (k_h + k_{TD}) \\\\\n",
    "    p_C &\\propto k_\\uparrow k_{TD} + k_s k_{TD} + k_h k_\\uparrow\n",
    "        \\approx 0\n",
    "\\end{aligned}\n",
    "$$\n",
    "since the normalization constant contains $k_\\downarrow$ and not $p_C$, shrinking the value of $p_C$ to zero. In this limit, we see that $k_\\downarrow$ factorizes in $p_A$ and $p_B$, and thus will be canceled out by the normalization constant. Therefore, the probabilities will be:\n",
    "$$\n",
    "\\begin{aligned}\n",
    "    p_A &\\propto \\frac{k_s}{k_s + k_h + k_{TD}} \\\\\n",
    "    p_B &\\propto \\frac{k_h + k_{TD}}{k_s + k_h + k_{TD}}\n",
    "\\end{aligned}\n",
    "$$\n",
    "The interpretation is that in this limit, the translocation-up and state $C$ are removed from kinetic scheme, and a reaction $A\\to B$ that is an ATP $\\to$ ADP exchange followed immediately by a translocation-down with an effective rate $k_{TD}$ is added. Then state $A$ can only be reached from state $B$ with rate $k_s$, and state $B$ can be reached from $A$ either by hydrolysis with rate $k_h$ or by the newly added effective reaction with rate $k_{TD}$. \n",
    "\n",
    "Consequently, the average velocity (Eq. \\ref{???}) becomes:\n",
    "$$\n",
    "    \\left\\langle v \\right\\rangle \\propto - \\Delta x k_s k_{TD}\n",
    "$$\n",
    "with a similar reasoning than for the steady-state probabilities. We see in particular that even though on Fig. \\ref{fig:force} the average velocity seems to fall to zero for large forces, in fact there is a point where it becomes negative. However the speed is very small since the value of $k_{DT} \\sim 1$, [ATP]/[ADP] $\\gg 1$ and then $k_{TD}$ being fixed by Eq. \\ref{???} it results in a very small value.\n",
    "\n",
    "The same reasoning can be applied to the other limit $u\\rightarrow -\\infty$ as well, and to the RPCL model. All the saturated velocities are summarized here:\n",
    "$$\n",
    "\\begin{aligned}\n",
    "    \\left\\langle v \\right\\rangle_{SC/2R} &=\n",
    "        \\begin{cases}\n",
    "            - \\Delta x \\frac{k_s k_{TD}}{k_s + k_h + k_{TD}},\n",
    "                & \\text{for } u\\rightarrow \\infty \\\\\n",
    "            \\Delta x \\frac{k_h k_{DT}}{k_h + k_{DT} + k_{TD}},\n",
    "                & \\text{for } u\\rightarrow -\\infty\n",
    "        \\end{cases} \\\\\n",
    "    \\left\\langle v \\right\\rangle_{RPCL} &= \n",
    "        \\begin{cases}\n",
    "            - \\Delta x \\frac{k_s k_{TD} \\bar{k}_⮯}{k_s k_⮫ + k_s k_{TD} + \\bar{k}_h k_{TD} + \\bar{k}_h k_⮫ + k_{TD} \\bar{k}_⮯ + k_s \\bar{k}_⮯},\n",
    "                & \\text{for } u\\rightarrow \\infty \\\\\n",
    "            \\Delta x \\frac{\\bar{k}_h k_{DT} k_⮫}{k_{DT} k_⮫ + k_{TD} \\bar{k}_⮯ + \\bar{k}_h k_{TD} + \\bar{k}_h k_⮫ + k_{DT} \\bar{k}_⮯ + \\bar{k}_h k_{DT}}, \n",
    "                & \\text{for } u\\rightarrow -\\infty\n",
    "        \\end{cases}\n",
    "\\end{aligned}\n",
    "$$\n",
    "[TODO TRY TO FACTORIZE DENOMINATORS OF RPCL][TODO ADD SATURATED VELOCITIES TO PLOT AND COMMENT]\n",
    "\n",
    "Let us remind that in the RPCL model we arbitrarily considered a displacement of the ATPase during the upward extension ($k_⮭$) and downward contraction ($k_⮩$) and not during the upward contraction ($k_⮫$) and downward extension ($k_⮯$). One could choose instead to consider the displacement during the latter two reactions, or split half the displacement during the former two reactions and half during the latter two reactions. This would not change the qualitative results highlighted here.\n"
   ]
  },
  {
   "cell_type": "markdown",
   "metadata": {},
   "source": [
    "## "
   ]
  },
  {
   "cell_type": "markdown",
   "metadata": {},
   "source": [
    "## Defective protomer"
   ]
  },
  {
   "cell_type": "markdown",
   "metadata": {},
   "source": [
    "The last experiment we conduct is to investigate the effect of a defective protomer on the dynamics of the ATPase. We consider that the ATPase has a protomer that is defective, and thus it hydrolyses its ATP molecule at a reduced rate. All the other characteristics of the defective protomers, in particular the spontaneous synthesis rate, are left unchanged, as well as all the other defectless protomers. \n",
    "\n",
    "Now the undistinguishable assumption we did when introducing the models does not hold anymore. For the RPCL model, we can simply consider 2 loops linked at the fully-ATP-bound-flat configuration, with one loop representing the cycle of the defective protomer, and the second loop is the merged cycle of all the $N-1$ defectless protomers, in a similar fashion as we did in the original model, since in this particular state, any protomer can randomly hydrolyse its ATP molecule. For the SC/2R model, we have no other choice than to consider a large loop with the cycle of each protomer consecutively. The kinetic schemes are represented in Fig. \\ref{fig:defective-kinetic-scheme}. Concretely, the defective protomer has a reduced hydrolysis rate $k_h\\mapsto \\alpha k_h$, where $\\alpha$ is the defect factor.\n",
    "\n",
    "We show on Fig. \\ref{fig:defective} the effect of this defective protomer on the two models SC/2R and RPCL. Let's discuss the results for the SC/2R model first. With a defect factor $\\alpha = 0.1$, the average velocity is visibly reduced, and this result is consistent both with the analytical expression of the average velocity (Eq. \\ref{???}) and the empirical average velocity. Looking at a sample trajectory, we see that the time spent stopped at a position is more irregular, and this is confirmed on the histogram of position sojourn times, where the distribution is more heavy-tailed with the defective protomer compared to the defectless case. This is because in this model, when the defective protomer is in the lowest position, there is no other solution for the cycle to continue than to wait for it to hydrolyse its ATP molecule, and due to the defect factor, this waiting time is longer. On the other hand, with RPCL, the presence of a defective protomer affects substantially less the average velocity, as we can see on the trajectory and the histogram of position sojourn times. This can be explained by the fact that in this model, the dynamics never needs the defective protomer to hydrolyse its ATP molecule to continue moving, because all protomers compete in parallel to hydrolyse their ATP molecule, and the defective protomer is simply less likely to be the first one to do so. Even in the limit $\\alpha\\rightarrow 0$, it would continue to move, almost unaffected by the defect, whereas in the SC/2R model, the ATPase would be completely blocked. This result is consistent with experimental data \\cite{???} where it has been shown that the ATPase is not significantly affected when the hydrolysis rate of a protomer is diminished. [CHECK]\n"
   ]
  },
  {
   "cell_type": "markdown",
   "metadata": {},
   "source": [
    "# Conclusion"
   ]
  },
  {
   "cell_type": "markdown",
   "metadata": {},
   "source": [
    "In this work we have studied two model of AAA+ ATPase, the Sequential Clockwise/2-Residue Step (SC/2R) model based on structural biology data proposed by ??? et al. \\cite{???} and our alternative model, the Random Protomer Concertina Locomotion (RPCL) model based on physical assumptions about the nature of the interaction potential between two neighboring protomers and the resulting minimal energy configuration of the whole ATPase. To conduct our study, we have implemented the two models in the kinetic scheme framework, which has been introduced in detail at the beginning of this document. The idealized models are both made of a single loop, but the key difference resides in the fact that in the SC/2R model, each protomer will undergo the hydrolysis-exchange cycle in a sequential manner, whereas in the RPCL model, all protomers will compete in parallel to hydrolyse their ATP molecule, and the first one to do so will induce the ATPase to move. Using simulations and analytical calculations, we analysed the dynamics of the ATPase from the perspective of both models, with a particular focus on the average velocity and the ATP consumption rate.\n",
    "\n",
    "Comparing trajectorie samples of the two models, we have shown that at equal average velocity, RPCL consumes 5 times less ATP than SC/2R by moving steps 5 times longer, which is consistent with experimental data \\cite{???}. We have also studied the response of the ATPase movement to an external force, and we have shown that it results in a sigmoidal shape of the average velocity as a function of the force with both models, inversely proportionnal to the force even for small forces, and then saturating to a constant value for large forces, which is well explained using the analytical solution of the kinetic scheme, but was not the expected result looking at experimental data \\cite{???} which rather predicts a threshold value under which the velocity is not significantly affected by the force and over which the velocity drastically falls, although the measurements were subject to high uncertainties and should be investigated further. Finally, we have studied the effect of a defective protomer on the dynamics of the ATPase, and we have shown that when the ATPase has one of its protomer which has a reduced hydrolysis rate, the average velocity is visibly reduced with the SC/2R model, and almost unaffected with the RPCL model, which is consistent with experimental data \\cite{???}.\n",
    "\n",
    "In the light of these results, we argue that the RPCL model should be favored over the SC/2R model, as its simulated trajectories and dynamics better reproduce experimental data. The large steps motion as well as the behavior in case of a defective protomer are two key points that enables us to discriminate the two models. \n",
    "\n",
    "We believe that the RPCL model is a good starting point to understand the dynamics of the ATPase, but it is still a very idealized model, and it raises numerous questions. Here we list some of them:\n",
    "- What is the nature of the interaction potential between two neighboring protomers, and is the linear approximation appropriate when compared to experimental data? If not, does the new potential energy landscape still results in the same minimal energy configurations?\n",
    "- How post-hydrolysis protomer is modified on a structural level to result in a modification of the interaction potential with its neighbors?\n",
    "- Why during the extension and contraction, some protomers can freely slide up and down, and some others are fixed to the amino acid chain?\n",
    "- Are there other configurations that has been observed experimentally, and are they encompassed by the RPCL model?\n",
    "- The extension and contraction are modeled as occuring abruptly after a waiting time sampled from an exponential distribution with a rate. What is the physics underlying these reactions, and is this simplification appropriate?\n",
    "- This idealized model only consider states belonging to the main loop, where at most only one protomer can be in ADP-bound state, and only skimmed over the possibility of exiting this main loop by adding a single 'out' state reachable from any state of the main loop. Does this model fail to reproduce some experimental data because of this simplification and should one consider a more complex model with more states?\n",
    "\n",
    "This work paved the way for future research on the dynamics of AAA+ ATPases, both from a theoretical, numerical and experimental point of view. Science is an iterative process that alternates between theoretical, numerical, and experimental approaches, which are poetically complementary. Moving forward, the next step would be to compare the predictions of the RPCL model with experimental results made in new experimental setups, in order to refine the model or maybe discard it in favor of a new one. Other alternative models have been proposed \\cite{???}, and it would be interesting to translate them in the kinetic scheme framework and compare them with the RPCL model. Experiments would also help to fine tune all the degrees of freedom of the model, namely all the rates, even though the qualitative results are not expected to change, but we should not be too confident, interesting physics can lie where we least expect it. \n"
   ]
  },
  {
   "cell_type": "markdown",
   "metadata": {},
   "source": [
    "# Introduction"
   ]
  },
  {
   "cell_type": "markdown",
   "metadata": {},
   "source": [
    "In the general context of cell biology, the study of protein folding is an important topic since their naturaly tendency to fold into their native conformation is essential for their biological function. This naturally stochastic process can unfortunately lead to misfolding and resulting in amyloid, i.e. aggregates of misfolded proteins, which are associated with numerous diseases such as Alzheimer's disease, Parkinson's disease, and type 2 diabetes \\cite{Protein Misfolding, Amyloid Formation, and Human Disease: A Summary of Progress Over the Last Decade}. To prevent this, cells have developed a complex machinery of molecular chaperones, which are proteins that assist the folding of other proteins. Understanding their mechanism of action is important as it could lead to new therapeutic strategies to treat amyloid-related diseases.\n",
    "\n",
    "In this work, we focus on a particular class of molecular chaperones, Hsp100 disaggregases [DIRE CE QUE çA VEUT DIRE], which belong to the AAA+ ATPase ([DIRE CE QUE çA VEUT DIRE]) superfamily \\cite{The AAA+ superfamily — a myriad of motions}. These proteins are typically hexameric oligomers with a central channel, through which they translocate substrates. \\cite{Gymnastic} This translocation allows them to pull and unfold misfolded polypeptides out of aggregates, and dissolve them with the help of Hsp70 chaperones \\cite{Gymnastic}. However, the mechanism of translocation is still not well understood, and it is the subject of this work. Shorter J. et al. \\cite{???} have proposed a model of the translocation mechanism based on structural biology data, in which a sequential hand-over-hand motion of the protomers is responsible for the translocation. We will refer to this model as the Sequential Clockwise/2-Residue Step (SC/2R) model. In this work, we propose an alternative model, the Random Protomer Concertina Locomotion (RPCL) model, based on simple physical assumptions about the interaction potential between two neighboring protomers and the resulting minimal energy configuration of the whole ATPase. We translate these models in the kinetic scheme framework, which allows us to study the dynamics of the ATPase via simulations and analytical calculations. Ultimately, via comparison of the two models with experimental data, we argue that the RPCL model should be favored over the SC/2R model. The method used in this work is general and could be applied to other translocation models, although in this work we focus on the SC/2R and RPCL models.\n",
    "\n",
    "The rest of this work is organized as follows. In Sec. \\ref{???}, we introduce the theory of kinetic scheme. In Sec. \\ref{???}, we detail the SC/2R model and RPCL model, and translate them into the kinetic scheme framework. In Sec. \\ref{???}, we present some experiments we conducted on the dynamics of the two models, a direct comparison in ideal conditions, the effect of an external force, and the effect of a defective protomer. Finally, in Sec. \\ref{???}, we conclude and discuss some perspectives for future research.\n"
   ]
  },
  {
   "cell_type": "markdown",
   "metadata": {},
   "source": [
    "# Acknowledgements"
   ]
  },
  {
   "cell_type": "markdown",
   "metadata": {},
   "source": [
    "I would like to thank my advisor, Pr. De Los Rios, for his guidance and support throughout this project but also for his trust in my independent work and his compassion in difficult personal situations. I'd also like to thank my sister, Aude, to whom I dedicate this work, and with whom I've spent the best years of my studies and my life so far. Her advice throughout my academic and personal life has been invaluable, and I am grateful for her support and love. I wish her the best for her future, academic or otherwise, only time will tell. It is with a lot of emotion that I finish this work and my studies, and I hope that it will be the beginning of a new chapter in my life.\n"
   ]
  },
  {
   "cell_type": "markdown",
   "metadata": {},
   "source": [
    "# Appendix: Master equation derivation"
   ]
  },
  {
   "cell_type": "markdown",
   "metadata": {},
   "source": [
    "The master equations are the differential equations that govern the evolution of the probability distribution $p_i(t)$ of being in state $i$ at time $t$. Let's derive it somewhat rigorously.\n",
    "\n",
    "Let's $S(t)$ be the random variable representing the state of the system at time $t$. There are $N$ discrete states, that we use letters $i,j,k$ to denote. The predecessor and successor sets of state $i$ are denoted by $R_i^-$ and $R_i^+$, respectively. The transition rates from state $i$ to state $j$ are denoted by $k_{ij}$. The transition rates are non-negative, and we use the convention that $k_{ij}=0$ if $j\\notin R_i^+$, $k_{ij}=0$ if $i\\notin R_j^-$, and $k_{ii}=0$ for all $i=1,2,\\dots,N$.\n",
    "\n",
    "First, consider a single reaction $i\\to j$. If we associate to this reaction a random variables $T_{ij}$ denoting the time it takes for the reaction to occur, since the reaction follows an exponential distribution, we have the following:\n",
    "$$\n",
    "    \\mathbb{P}(T_{ij}<t) = 1-\\exp(-k_{ij}t)\n",
    "$$\n",
    "\n",
    "Then, suppose we are in state $i$, and let's study the passage from this state to a chosen successor $j^*\\in R_i^+$. Consider the event $\\left<i\\xrightarrow{\\Delta t}j^*\\right> :=$ \"the system has jumped from $i$ to $j^*$ some time in the interval $[t,t+\\Delta t]$\". This event is equivalent to the event $\\{(T_{ij^*}<\\Delta t) \\wedge (\\forall j\\neq j^*, T_{ij}>\\Delta t)\\}$. Since the reactions are independent, the joint probability of the reaction times is simply the product of the individual probabilities. Therefore, the probability of the abovementioned event is given by\n",
    "$$\n",
    "    \\mathbb{P}(T_{ij^*}<\\Delta t \\wedge \\forall j\\neq j^*, T_{ij}>\\Delta t) \n",
    "    = \\mathbb{P}(T_{ij^*}<\\Delta t)\\prod_{j\\neq j^*}\\mathbb{P}(T_{ij}>\\Delta t) \n",
    "    = (1-\\exp(-k_{ij^*}\\Delta t))\\exp(-\\sum_{j\\neq j^*}k_{ij}\\Delta t) \n",
    "    = (1 - (1 - k_{ij^*}\\Delta t + o(\\Delta t)))(1 - \\sum_{j\\neq j^*}k_{ij}\\Delta t + o(\\Delta t))\n",
    "$$\n",
    "$$\n",
    "    = k_{ij^*}\\Delta t + o(\\Delta t)\n",
    "$$\n",
    "where we used the 1st order Taylor expansion of the exponential function. \n",
    "\n",
    "Moreover, the event $\\left<i\\xrightarrow{\\Delta t}i\\right>:=$ \"the system stayed in state $i$ during an interval of length $\\Delta t$\" has a probability \n",
    "$$\n",
    "    \\mathbb{P}(\\forall j\\in R_i^+, T_{ij}>\\Delta t) \n",
    "    = \\prod_{j\\in R_i^+}\\mathbb{P}(T_{ij}>\\Delta t) \n",
    "    = \\exp(-\\sum_{j\\in R_i^+}k_{ij}\\Delta t) \n",
    "    = 1 - \\sum_{j\\in R_i^+}k_{ij}\\Delta t + o(\\Delta t)\n",
    "$$\n",
    "\n",
    "Finally, we find the desired master equation. To be in state $j^*$ at time $t+\\Delta t$, there are logically only two possibilities: either the system was already in state $j^*$ at time $t$ and did not jump to any other state in the interval $[t,t+\\Delta t]$, or the system was in another state $i\\in R_{j^*}^-$ at time $t$ and jumped to $j^*$ in the interval $[t,t+\\Delta t]$. We control the size of the interval $\\Delta t$ such that the system can only do at maximum one jump in the interval $[t,t+\\Delta t]$. The jump probabilities at a given times are difficult to compute, but what we know is the conditional jump probability GIVEN that we start in a given state $i$ at time $t$, namely $\\left<i\\xrightarrow{\\Delta t} j\\right>$. Therefore, we can write the probability of being in state $j^*$ at time $t+\\Delta t$ as\n",
    "$$\n",
    "    \\mathbb{P}(S(t+\\Delta t)=j^*) \n",
    "    = \\mathbb{P}(S(t)=j^*)\\mathbb{P}(\\left<j^*\\xrightarrow{\\Delta t}j^*\\right>) + \\sum_{i\\in R_{j^*}^-}\\mathbb{P}(S(t)=i)\\mathbb{P}(\\left<i\\xrightarrow{\\Delta t}j^*\\right>)\n",
    "$$\n",
    "$$\n",
    "    = \\mathbb{P}(S(t)=j^*)(1 - \\sum_{k\\in R_{j^*}^+}k_{j^*k}\\Delta t) + \\sum_{i\\in R_{j^*}^-}\\mathbb{P}(S(t)=i)(k_{ij^*}\\Delta t) + o(\\Delta t)\n",
    "$$\n",
    "\n",
    "Reordering the terms, we find\n",
    "$$\n",
    "    \\frac{\\mathbb{P}(S(t+\\Delta t)=j^*) - \\mathbb{P}(S(t)=j^*)}{\\Delta t} = \\sum_{i\\in R_{j^*}^-}\\mathbb{P}(S(t)=i)k_{ij^*} - \\mathbb{P}(S(t)=j^*)\\sum_{k\\in R_{j^*}^+}k_{j^*k} + \\frac{o(\\Delta t)}{\\Delta t}\n",
    "$$\n",
    "\n",
    "Taking the limit $\\Delta t\\to 0$, we find the master equation\n",
    "$$\n",
    "    \\frac{d\\mathbb{P}(S(t)=j^*)}{dt} = \\sum_{i\\in R_{j^*}^-}\\mathbb{P}(S(t)=i)k_{ij^*} - \\mathbb{P}(S(t)=j^*)\\sum_{k\\in R_{j^*}^+}k_{j^*k}\n",
    "$$\n",
    "\n",
    "Applying the same reasoning to all states $j^*=1,2,\\dots,N$, changing the dummy indices, using the convention that $k_{ij}=0$ when states $i$ and $j$ are not connected, and using the notation $p_i(t) = \\mathbb{P}(S(t)=i)$, we find the $N$ coupled differential equations\n",
    "$$\n",
    "    \\dot{p}_i(t) = \\sum_{j\\in R_i^-}p_j(t)k_{ji} - p_i(t)\\sum_{j\\in R_i^+}k_{ij} = \\sum_{j=1}^N \\left(p_j(t)k_{ji} - p_i(t)k_{ij}\\right)\n",
    "$$\n"
   ]
  },
  {
   "cell_type": "markdown",
   "metadata": {},
   "source": [
    "# Appendix: Steady-state distribution"
   ]
  },
  {
   "cell_type": "markdown",
   "metadata": {},
   "source": [
    "Consider a system represented by its $N$-dimensional master equation $\\dot{\\mathbf{p}}(t) = \\mathbf{M}\\mathbf{p}(t)$, where $\\mathbf{p}(t)$ is the column vector of components $p_i(t)$ and $\\mathbf{M}$ is the matrix of components $M_{ij}=k_{ji} - \\delta_{ij}\\sum_{k=1}^N k_{ik}$, where $\\delta_{ij}$ is the Kronecker delta. We assume that the corresponding kinetic scheme of the system is connected, and we use the convention that $k_{ii}=0$.\n",
    "We show that the system has a unique steady-state distribution $\\mathbf{p}^*$, i.e. a solution of the equation $\\mathbf{M}\\mathbf{p}^* = 0$.\n",
    "\n",
    "Proposition 1: A solution of the continuous time system $\\dot{\\mathbf{p}}(t) = \\mathbf{M}\\mathbf{p}(t)$ is steady-state if and only if it is a fixed-point of a discrete time system $\\mathbf{p}^{(t+1)} = \\mathbf{W}\\mathbf{p}^{(t)}$ with stochastic matrix $\\mathbf{W} := \\mathbf{I} + \\mathbf{M}\\Delta t$, where $\\mathbf{I}$ is the identity matrix and $\\Delta t := \\frac{1}{N\\max_{i,j}k_{ij}}$.\n",
    "\n",
    "Proof: \n",
    "$$\n",
    "    \\underbrace{\\mathbf{p} \\overset{!}{=} \\mathbf{W}\\mathbf{p}}_\\text{fixed-point} = \\mathbf{M}\\mathbf{p} + \\mathbf{p} \\iff \\underbrace{\\mathbf{M}\\mathbf{p} = 0}_\\text{steady-state}\n",
    "$$\n",
    "\n",
    "Lemma 1: Any element of the stochastic matrix $\\mathbf{W}$ is non-negative and the sum of any column is 1.\n",
    "\n",
    "Proof: \n",
    "$$\n",
    "    W_{ij} \n",
    "    = \\delta_{ij} + M_{ij}\\Delta t \n",
    "    = \\delta_{ij} + (k_{ji} - \\delta_{ij}\\sum_{k=1}^N k_{ik})\\Delta t \n",
    "    = k_{ji}\\Delta t + \\delta_{ij} \\left(N\\max_{i,j}k_{ij} - \\sum_{k=1}^N k_{ik}\\right)\\Delta t\n",
    "    \\geq 0\n",
    "$$\n",
    "and\n",
    "$$\n",
    "    \\sum_{i=1}^N W_{ij}\n",
    "    = 1 + \\sum_{i=1}^N \\left(k_{ji} - \\delta_{ij}\\sum_{k=1}^N k_{ik}\\right) \\Delta t\n",
    "    = 1 + \\left(\\sum_{i=1}^N k_{ji} - \\sum_{k=1}^N k_{jk}\\right) \\Delta t\n",
    "    = 1\n",
    "$$\n",
    "\n",
    "\n",
    "For each column of the stochastic matrix $\\mathbf{W}$, any partial sum of its components is non-negative and summing the whole column gives 1.\n",
    "Let $S$ be a subset of $\\{1,2,\\dots,N\\}$. Then, the sum of the components of the $j$-th column of $\\mathbf{W}$ is given by\n",
    "$$\n",
    "    \\sum_{i\\in S}W_{ij} \n",
    "    = \\sum_{i\\in S}\\left(k_{ji} - \\delta_{ij}\\sum_{k=1}^N k_{ik}\\right) \\Delta t + \\chi_{j\\in S} \n",
    "    = \\left(\\sum_{i\\in S}k_{ji} - \\chi_{j\\in S}\\sum_{k=1}^N k_{jk}\\right)\\Delta t + \\chi_{j\\in S}\n",
    "    = \n",
    "    \\left\\{\n",
    "        \\begin{array}{ll}\n",
    "            \\sum_{i\\in S}k_{ji}\\Delta t \\geq 0 & \\text{if } j\\notin S \\\\\n",
    "            1 - \\sum_{i\\notin S}k_{ji}\\Delta t \\geq 0 & \\text{if } j\\in S\n",
    "        \\end{array}\n",
    "    \\right.\n",
    "$$\n",
    "and then it immediately follows that \n",
    "$$\n",
    "    S=\\{1,2,\\dots,N\\} \\implies \\sum_{i\\in S} W_{ij} = 1\n",
    "$$\n",
    "\n",
    "Proposition 2: There exists a fixed-point $\\mathbf{p}^*$ of the discrete time system on the probability simplex $\\Delta_N := \\{\\mathbf{p}\\in\\mathbb{R}^N \\mid \\sum_{i=1}^N p_i = 1 \\wedge \\forall i, p_i\\geq 0\\}$.\n",
    "\n",
    "Proof: First, $\\mathbf{W}$ is an endomorphism $\\mathbf{W}: \\Delta_N \\to \\Delta_N$, since for $\\mathbf{p}^{(t)}\\in \\Delta_N$, we have\n",
    "$$\n",
    "    p_i^{(t+1)} \n",
    "    = \\left(\\sum_{j=1}^N W_{ij}p_j^{(t)}\\right) \n",
    "    = \\sum_{j=1}^N \\underbrace{\\left(W_{ij}\\right)}_{\\geq 0}  p_j^{(t)} \n",
    "    \\geq 0\n",
    "$$\n",
    "and\n",
    "$$\n",
    "    \\sum_{i=1}^N p_i^{(t+1)} \n",
    "    = \\sum_{i=1}^N \\left(\\sum_{j=1}^N W_{ij}p_j^{(t)}\\right) \n",
    "    = \\sum_{j=1}^N \\underbrace{\\left(\\sum_{i=1}^N W_{ij}\\right)}_{=1}  p_j^{(t)} \n",
    "    = \\sum_{j=1}^N p_j^{(t)} \n",
    "    = 1\n",
    "$$\n",
    "\n",
    "Moreover, $\\mathbf{W}$ is linear thus continuous and $\\Delta_N$ is a compact convex set. Therefore, the Brouwer fixed-point theorem implies the existence of a fixed-point, that we call $\\mathbf{p}^*$.\n",
    "\n",
    "Proposition 3: The coordinates of the fixed point $\\mathbf{p}^*\\in \\Delta_N$ are strictly within $]0, 1[$.\n",
    "\n",
    "Proof: If the kinetic scheme of the continuous-time system is connected, then so is the kinetic scheme of the discrete-time system. Therefore, by definition of connectivity, $(W^N)_{i,j}>0$, $\\forall i,j$. Moreover, since $\\mathbf{p}^*$ is a fixed-point, we have $\\mathbf{p}^* = \\mathbf{W^N}\\mathbf{p}^*$. Let's assume that there exists $i$ such that $p_i^*=0$. Then\n",
    "$$\n",
    "    p_i^* = \\sum_{j=1}^N (W^N)_{i,j}p_j^* \\overset{↯}{\\neq} 0 \n",
    "$$\n",
    "since it is a sum of non-negative terms, at least one of which is strictly positive. On the other hand, if one coordinate is 1, then all the others must be zero since the sum of the coordinates is 1, but we have just shown a contradiction when a coordinate is null. Therefore, all the coordinates of $\\mathbf{p}^*$ are strictly within $]0, 1[$.\n",
    "\n",
    "Corollary 1: The fixed-point $\\mathbf{p}^*\\in \\Delta_N$ is unique on $\\Delta_N$.\n",
    "\n",
    "Proof: Proposition 3 restricts the existence of a fixed-point on the boundary of the probability simplex $\\Delta_N$. Now assume there exists another fixed-point $\\mathbf{q}^*\\in \\Delta_N$, different from $\\mathbf{p}^*$. By linearity, any linear combination of $\\mathbf{p}^*$ and $\\mathbf{q}^*$ is also a fixed-point of $\\mathbf{W}$. Therefore, there must exists a linear combination $\\mathbf{r}^* = \\alpha(\\mathbf{p}^* + \\beta\\mathbf{q}^*)$ that lies on an edge of the probability simplex ($\\mathbf{p}^*$ and $\\mathbf{q}^*$ differ on at least one coordinate, $p^*_i\\neq q^*_i \\neq 0$, choose $\\beta = -\\frac{p^*_i}{q^*_i}$ and choose $\\alpha$ so that $\\mathbf{r}^*$ is normalized), which contradicts Proposition 3. \n",
    "\n",
    "\n",
    "Proposition 4: The fixed-point $\\mathbf{p}^*\\in \\Delta_N$ is unique (up to a constant) on $\\mathbb{R}^N$.\n",
    "\n",
    "Proof: The proof is similar than the one of Corollay 1. Assume there exists a fixed-point $\\mathbf{q}^*$ in a different orthant than the probability simplex. Then, construct the linear combination $\\mathbf{r}^* = \\alpha(\\mathbf{p}^* + \\beta\\mathbf{q}^*)$ that lies on the boundary of the probability simplex ($\\mathbf{p}^*$ and $\\mathbf{q}^*$ differ on at least one nonzero coordinate, $p^*_i\\neq q^*_i \\neq 0$, choose $\\beta = -\\frac{p^*_i}{q^*_i}$ and choose $\\alpha$ so that $\\mathbf{r}^*$ is normalized), which contradicts Proposition 3.\n",
    "\n",
    "Theorem 1: The fixed-point $\\mathbf{p}^*\\in \\Delta_N$ is the unique steady-state distribution of the continuous-time system $\\dot{\\mathbf{p}}(t) = \\mathbf{M}\\mathbf{p}(t)$.\n",
    "\n",
    "Proof: Prop. 4 says that the subspace of fixed-points of $\\mathbf{W}$ has dimension 1. By the relation between $\\mathbf{W}$ and $\\mathbf{M}$ immediately implies that the kernel of the latter is also of dimension 1. Therefore the linear system $\\mathbf{M}\\mathbf{p}^* = 0$ has a unique solution (up to a constant), which is the normalized fixed-point $\\mathbf{p}^*$.\n",
    "\n",
    "To show the global convergence to the steady-state distribution, one has to use the Liapunov function presented in \\cite{Schnakenberg1976}.\n",
    "\n"
   ]
  },
  {
   "cell_type": "markdown",
   "metadata": {},
   "source": [
    "# Appendix: Relation between average velocity and [ATP]/[ADP] concentration ratio"
   ]
  },
  {
   "cell_type": "markdown",
   "metadata": {},
   "source": [
    "Here we confirm numerically the analytical prediction in Eqs. \\ref{???} and \\ref{???} that average velocity for both SC/2R and RPCL models is positively correlated with the shift of [ATP]/[ADP] concentration ratio from its equilibrium value, with a linear relation in the limit of small shifts, and a saturation to a constant value in the limit of large shifts. We show on Fig. \\ref{fig:atp-adp} the average velocity as a function of varrying [ATP]/[ADP] over its equilibrium value, for both models. We see that the average velocity matches the described behavior. The reason for saturation is similar to the one for the force-velocity relation. In a nutshell, the reaction affected by the value of [ATP]/[ADP] becomes so important that it can be effectively removed and then the flux on the main loop of the kinetic scheme is limited by the other reactions.\n"
   ]
  },
  {
   "cell_type": "markdown",
   "metadata": {},
   "source": [
    "# Appendix: Non-ideal model, presence of an 'out' state"
   ]
  },
  {
   "cell_type": "markdown",
   "metadata": {},
   "source": [
    "In the idealized model we introduced in Secs. \\ref{???} and \\ref{???}, we considered that the ATPase is always in one of the $N$ states of the personally named main loop. To alleviate this assumption, we add a single 'out' state connected to every state of the main loop, representing any state not considered in the ideal model. This could be for example a situation where a second protomer spontaneously hydrolyses or exchange its ATP, which are situations not currently considered. To keep things simple, we consider that the rate of the reaction from any state of the main loop to the 'out' state is the same, and we denote it by $k_{out}$. Adding this state to the kinetic scheme introduces new thermodynamic loop laws, [TODO]\n",
    "In Fig. \\ref{fig:out} we show that, as one would expect, the summed probability of being in the main loop decreases as $k_{out}$ increases."
   ]
  }
 ],
 "metadata": {
  "kernelspec": {
   "display_name": "Python 3",
   "language": "python",
   "name": "python3"
  },
  "language_info": {
   "codemirror_mode": {
    "name": "ipython",
    "version": 3
   },
   "file_extension": ".py",
   "mimetype": "text/x-python",
   "name": "python",
   "nbconvert_exporter": "python",
   "pygments_lexer": "ipython3",
   "version": "3.11.7"
  }
 },
 "nbformat": 4,
 "nbformat_minor": 2
}
