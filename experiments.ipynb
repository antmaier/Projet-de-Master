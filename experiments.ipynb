{
 "cells": [
  {
   "cell_type": "code",
   "execution_count": 1,
   "metadata": {},
   "outputs": [],
   "source": [
    "%matplotlib widget\n",
    "\n",
    "from experiments import trajectories\n",
    "from IPython.display import display"
   ]
  },
  {
   "cell_type": "code",
   "execution_count": 20,
   "metadata": {},
   "outputs": [],
   "source": [
    "from translocation_model import TranslocationModel, SC2R, SC2R2Loops, \\\n",
    "    DiscSpiral, DefectiveSC2R, DefectiveDiscSpiral\n",
    "from experiments import update_model_parameters\n",
    "\n",
    "from ipywidgets import interactive_output, fixed, HBox, VBox, HTML, \\\n",
    "    FloatLogSlider, IntSlider, Widget\n",
    "\n",
    "import matplotlib.pyplot as plt\n"
   ]
  },
  {
   "cell_type": "markdown",
   "metadata": {},
   "source": [
    "# Simple trajectories"
   ]
  },
  {
   "cell_type": "code",
   "execution_count": 3,
   "metadata": {},
   "outputs": [
    {
     "data": {
      "application/vnd.jupyter.widget-view+json": {
       "model_id": "7b753a1849c74689ac035c66463e3830",
       "version_major": 2,
       "version_minor": 0
      },
      "text/plain": [
       "VBox(children=(HTML(value='<h1>Simple trajectories</h1>'), HBox(children=(Output(), VBox(children=(HTML(value=…"
      ]
     },
     "metadata": {},
     "output_type": "display_data"
    }
   ],
   "source": [
    "display(trajectories())\n",
    "# TODO debug why adding disc-spiral gui removes ADP/ADP parameter in gui"
   ]
  },
  {
   "cell_type": "markdown",
   "metadata": {},
   "source": [
    "# Relation between ATP/ADP concentrations ratio and velocity"
   ]
  },
  {
   "cell_type": "code",
   "execution_count": 14,
   "metadata": {},
   "outputs": [],
   "source": [
    "class DefaultFloatLogSlider(FloatLogSlider):\n",
    "    \"\"\"FloatLogSlider with default values.\"\"\"\n",
    "    def __init__(self, \n",
    "                 value: float = 1.0,\n",
    "                 min: float = -2,\n",
    "                 max: float = 2,\n",
    "                 readout_format: str = '.2f',\n",
    "                 *args, \n",
    "                 **kwargs):\n",
    "        super().__init__(value=value, min=min, max=max, \n",
    "                         readout_format=readout_format, *args, **kwargs)\n",
    "        "
   ]
  },
  {
   "cell_type": "code",
   "execution_count": null,
   "metadata": {},
   "outputs": [],
   "source": [
    "#def velocity_vs_atp_adp_ratio():\n",
    "\n",
    "free_parameters = {\n",
    "    'equilibrium_atp_adp_ratio': DefaultFloatLogSlider(\n",
    "        value=0.01, description=\"([ATP]/[ADP])|eq.:\"),\n",
    "    'K_d_atp': DefaultFloatLogSlider(value=0.1, description=\"K_d^ATP:\"),\n",
    "    'K_d_adp': DefaultFloatLogSlider(description=\"K_d^ADP:\"),\n",
    "    'k_DT': DefaultFloatLogSlider(description=\"k_DT:\"),\n",
    "    'k_h': DefaultFloatLogSlider(description=\"k_h:\"),\n",
    "    'k_s': DefaultFloatLogSlider(value=0.1, description=\"k_s:\"),\n",
    "    'k_up': DefaultFloatLogSlider(description=\"k_↑:\"),\n",
    "    'n_protomers': IntSlider(value=6, min=1, max=10, \n",
    "                             description=\"n_protomers:\"),\n",
    "    'k_extended_to_flat_up': DefaultFloatLogSlider(description=\"k_⮫:\"),\n",
    "    'k_flat_to_extended_down': DefaultFloatLogSlider(description=\"k_⮯:\"),\n",
    "    'k_flat_to_extended_up': DefaultFloatLogSlider(description=\"k_⮭:\"),\n",
    "}\n",
    "constrained_parameters = {\n",
    "    'k_TD': HTML(description=\"k_TD:\"),\n",
    "    'k_down': HTML(description=\"k_↓:\"),\n",
    "    'k_h_bar': HTML(description=\"ꝁ_h:\"),\n",
    "    'k_flat_to_extended_down_bar': HTML(description=\"ꝁ_⮯:\"),\n",
    "    'k_extended_to_flat_down': HTML(description=\"k_⮩:\"),\n",
    "}\n",
    "\n",
    "gui = VBox([\n",
    "    HTML(value=\"<h1>Velocity vs [ATP]/[ADP]</h1>\"),\n",
    "\n",
    "    HTML(value=\"<b>General Physical Parameters</b>\"),\n",
    "    HBox([free_parameters['equilibrium_atp_adp_ratio'], \n",
    "          HTML(value=\"Equilibrium ATP/ADP concentration ratio\")]),\n",
    "    HBox([free_parameters['K_d_atp'],\n",
    "          HTML(value=\"Protomer-ATP dissociation constant\")]),\n",
    "    HBox([free_parameters['K_d_adp'],\n",
    "          HTML(value=\"Protomer-ADP dissociation constant\")]),\n",
    "    HBox([free_parameters['k_DT'],\n",
    "          HTML(value=\"Effective ADP->ATP exchange rate\")]),\n",
    "    HBox([constrained_parameters['k_TD'],\n",
    "          HTML(value=\"Effective ATP->ADP exchange rate \"\\\n",
    "               \"(constrained by Protomer-ATP/ADP exchange model)\")]),\n",
    "    HBox([free_parameters['k_h'],\n",
    "          HTML(value=\"ATP Hydrolysis rate\")]),\n",
    "    HBox([free_parameters['k_s'],\n",
    "          HTML(value=\"ATP Synthesis rate\")]),\n",
    "\n",
    "    HTML(value=\"<b>SC2R Model Physical Parameters</b>\"),\n",
    "    HBox([free_parameters['k_up'],\n",
    "          HTML(value=\"Translocation up rate\")]),\n",
    "    HBox([constrained_parameters['k_down'],\n",
    "          HTML(value=\"Translocation down rate \"\\\n",
    "               \"(constrained by detailed balance)\")]),\n",
    "\n",
    "    HTML(value=\"<b>Disc-Spiral Model Physical Parameters</b>\"),\n",
    "    HBox([free_parameters['n_protomers'],\n",
    "          HTML(value=\"Number of protomers\")]),\n",
    "    HBox([constrained_parameters['k_h_bar'],\n",
    "          HTML(value=\"Effective ATP hydrolysis rate\")]),\n",
    "    HBox([free_parameters['k_extended_to_flat_up'],\n",
    "          HTML(value=\"Spiral->disc up translocation rate\")]),\n",
    "    HBox([free_parameters['k_flat_to_extended_down'],\n",
    "          HTML(value=\"Disc->spiral down translocation rate\")]),\n",
    "    HBox([constrained_parameters['k_flat_to_extended_down_bar'],\n",
    "          HTML(value=\"Effective disc->spiral down translocation rate\")]),\n",
    "    HBox([free_parameters['k_flat_to_extended_up'],\n",
    "          HTML(value=\"Disc->spiral up translocation rate\")]),\n",
    "    HBox([constrained_parameters['k_extended_to_flat_down'],\n",
    "          HTML(value=\"Spiral->disc down rate (constrained by detailed balance)\")]),\n",
    "])\n",
    "\n",
    "def experiment(\n",
    "    models: list[TranslocationModel],\n",
    "    free_parameters: dict[str, Widget],\n",
    "    constrained_parameters: dict[str, Widget],\n",
    "): pass\n",
    "\n",
    "\n",
    "display(gui)"
   ]
  }
 ],
 "metadata": {
  "kernelspec": {
   "display_name": "Python 3",
   "language": "python",
   "name": "python3"
  },
  "language_info": {
   "codemirror_mode": {
    "name": "ipython",
    "version": 3
   },
   "file_extension": ".py",
   "mimetype": "text/x-python",
   "name": "python",
   "nbconvert_exporter": "python",
   "pygments_lexer": "ipython3",
   "version": "3.11.7"
  }
 },
 "nbformat": 4,
 "nbformat_minor": 2
}
