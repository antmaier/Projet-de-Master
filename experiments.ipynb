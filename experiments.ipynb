{
 "cells": [
  {
   "cell_type": "code",
   "execution_count": null,
   "metadata": {},
   "outputs": [],
   "source": [
    "%matplotlib widget\n",
    "\n",
    "from experiments import VelocityVSATPADPRatio"
   ]
  },
  {
   "cell_type": "markdown",
   "metadata": {},
   "source": [
    "# Relation between ATP/ADP concentrations ratio and velocity"
   ]
  },
  {
   "cell_type": "code",
   "execution_count": null,
   "metadata": {},
   "outputs": [],
   "source": [
    "velocity_vs_atp_adp_ratio = VelocityVSATPADPRatio()"
   ]
  },
  {
   "cell_type": "markdown",
   "metadata": {},
   "source": [
    "# Sequential Clockwise/2-Residue Step, comparison between 1 and 2 loops"
   ]
  },
  {
   "cell_type": "code",
   "execution_count": 3,
   "metadata": {},
   "outputs": [],
   "source": [
    "from experiments import Experiment, _DefaultFloatLogSlider, _DefaultIntSlider\n",
    "\n",
    "from translocation_model import TranslocationModel, \\\n",
    "    SC2R, SC2R2Loops, DefectiveSC2R, \\\n",
    "    DiscSpiral, DefectiveDiscSpiral\n",
    "\n",
    "from ipywidgets import Widget, FloatLogSlider, IntSlider, \\\n",
    "    HBox, VBox, HTML, Output, Layout\n",
    "from IPython.display import display\n",
    "\n",
    "import numpy as np\n",
    "import matplotlib.pyplot as plt"
   ]
  },
  {
   "cell_type": "code",
   "execution_count": null,
   "metadata": {},
   "outputs": [],
   "source": [
    "from ipywidgets import Widget\n",
    "\n",
    "\n",
    "class SC2R1Loop2LoopsComparison(Experiment):\n",
    "    \"\"\"Comparison between 1 loop and 2 loops for SC2R model.\"\"\"\n",
    "\n",
    "    def __init__(self):\n",
    "        self.sc2r = SC2R()\n",
    "        self.sc2r_2_loops = SC2R2Loops()\n",
    "        super().__init__()\n",
    "\n",
    "    def _construct_free_parameters(self) -> dict[str, Widget]:\n",
    "        return {\n",
    "            'atp_adp_ratio': _DefaultFloatLogSlider(\n",
    "                value=10.0, description=\"[ATP]/[ADP]:\"),\n",
    "            'equilibrium_atp_adp_ratio': _DefaultFloatLogSlider(\n",
    "                value=0.01, description=\"([ATP]/[ADP])|eq.:\"),\n",
    "            'K_d_atp': _DefaultFloatLogSlider(\n",
    "                value=0.1, description=\"K_d^ATP:\"),\n",
    "            'K_d_adp': _DefaultFloatLogSlider(description=\"K_d^ADP:\"),\n",
    "            'k_DT': _DefaultFloatLogSlider(description=\"k_DT:\"),\n",
    "            'k_h': _DefaultFloatLogSlider(description=\"k_h:\"),\n",
    "            'k_s': _DefaultFloatLogSlider(value=0.1, description=\"k_s:\"),\n",
    "            'k_up': _DefaultFloatLogSlider(description=\"k_↑:\"),\n",
    "        }\n",
    "    \n",
    "    def _construct_constrained_parameters(self) -> dict[str, Widget]:\n",
    "        return {\n",
    "            'k_TD': HTML(description=\"k_TD:\"),\n",
    "            'k_down': HTML(description=\"k_↓:\"),\n",
    "        }\n",
    "    \n",
    "    def _construct_gui(self) -> Widget:\n",
    "        gui_plot = Output()\n",
    "        \n",
    "            "
   ]
  }
 ],
 "metadata": {
  "kernelspec": {
   "display_name": "Python 3",
   "language": "python",
   "name": "python3"
  },
  "language_info": {
   "codemirror_mode": {
    "name": "ipython",
    "version": 3
   },
   "file_extension": ".py",
   "mimetype": "text/x-python",
   "name": "python",
   "nbconvert_exporter": "python",
   "pygments_lexer": "ipython3",
   "version": "3.11.7"
  }
 },
 "nbformat": 4,
 "nbformat_minor": 2
}
