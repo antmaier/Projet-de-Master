{
 "cells": [
  {
   "cell_type": "code",
   "execution_count": 1,
   "metadata": {},
   "outputs": [],
   "source": [
    "%matplotlib widget\n",
    "\n",
    "from translocation_model import TranslocationModel, SC2R, SC2R2Loops, DiscSpiral, DefectiveSC2R, DefectiveDiscSpiral\n",
    "from gui import GUI\n",
    "import ipywidgets as widgets\n",
    "from ipywidgets import interactive_output, fixed\n",
    "import matplotlib.pyplot as plt"
   ]
  },
  {
   "cell_type": "code",
   "execution_count": 2,
   "metadata": {},
   "outputs": [],
   "source": [
    "def update_model_parameters(\n",
    "        models: TranslocationModel | list[TranslocationModel],\n",
    "        **kwargs,\n",
    ") -> None:\n",
    "    \"\"\"Update the parameters of the given model(s).\n",
    "\n",
    "    Typically called by an interactive_output widget:\n",
    "    interactive_output(update_model_parameters, \n",
    "                       {'models': fixed(models), \n",
    "                       **parameters})\n",
    "    where parameters is a dictionary {parameter_name: parameter_widget}.\n",
    "    The parameters key must match the name of the corresponding parameters in \n",
    "    the model.\n",
    "\n",
    "    Args:\n",
    "        models: A TranslocationModel or a list of TranslocationModels.\n",
    "        kwargs: A dictionary {parameter_name: parameter_value} of parameters to\n",
    "            update.\n",
    "    \"\"\"\n",
    "    if isinstance(models, TranslocationModel):\n",
    "        models = [models]\n",
    "    for model in models:\n",
    "        for key, value in kwargs.items():\n",
    "            if key in vars(model):\n",
    "                setattr(model, key, value)"
   ]
  },
  {
   "cell_type": "markdown",
   "metadata": {},
   "source": [
    "# Simple trajectories"
   ]
  },
  {
   "cell_type": "code",
   "execution_count": 3,
   "metadata": {},
   "outputs": [
    {
     "data": {
      "application/vnd.jupyter.widget-view+json": {
       "model_id": "9e1d92bcf5994547ba9b458246d22a56",
       "version_major": 2,
       "version_minor": 0
      },
      "text/plain": [
       "GridspecLayout(children=(HTML(value='<b>General Physical Parameters</b>', layout=Layout(grid_area='widget001')…"
      ]
     },
     "metadata": {},
     "output_type": "display_data"
    },
    {
     "data": {
      "application/vnd.jupyter.widget-view+json": {
       "model_id": "8d4e912080f44e2d8cb5c721056fb8e1",
       "version_major": 2,
       "version_minor": 0
      },
      "text/plain": [
       "Output()"
      ]
     },
     "metadata": {},
     "output_type": "display_data"
    }
   ],
   "source": [
    "gui = GUI(12)\n",
    "gui.add_general_parameters(0)\n",
    "gui.add_sc2r_parameters(9)\n",
    "\n",
    "sc2r = SC2R()\n",
    "\n",
    "def trajectories(\n",
    "    model: TranslocationModel,\n",
    "    **physical_parameters\n",
    ") -> None:\n",
    "    update_model_parameters(model, **physical_parameters)\n",
    "    trajectory = model.gillespie(cumulative_sums='position')\n",
    "\n",
    "    plt.close(\"trajectories\")\n",
    "    fig = plt.figure(\"trajectories\")\n",
    "    ax = fig.add_subplot(111)\n",
    "\n",
    "    sc2r.plot_position_evolution(trajectory, ax=ax)\n",
    "    plt.show()\n",
    "\n",
    "out = interactive_output(trajectories, {'model': fixed(sc2r), **gui.parameters})\n",
    "display(gui.grid, out)"
   ]
  },
  {
   "cell_type": "code",
   "execution_count": 5,
   "metadata": {},
   "outputs": [],
   "source": [
    "\n",
    "sc2r = SC2R()\n",
    "sc2r_2_loops = SC2R2Loops()\n",
    "disc_spiral = DiscSpiral()\n",
    "defective_sc2r = DefectiveSC2R()\n",
    "defective_disc_spiral = DefectiveDiscSpiral()\n",
    "models = [sc2r, sc2r_2_loops, disc_spiral, defective_sc2r, defective_disc_spiral]"
   ]
  }
 ],
 "metadata": {
  "kernelspec": {
   "display_name": "Python 3",
   "language": "python",
   "name": "python3"
  },
  "language_info": {
   "codemirror_mode": {
    "name": "ipython",
    "version": 3
   },
   "file_extension": ".py",
   "mimetype": "text/x-python",
   "name": "python",
   "nbconvert_exporter": "python",
   "pygments_lexer": "ipython3",
   "version": "3.11.7"
  }
 },
 "nbformat": 4,
 "nbformat_minor": 2
}
