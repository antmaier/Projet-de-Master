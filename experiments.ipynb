{
 "cells": [
  {
   "cell_type": "code",
   "execution_count": 1,
   "metadata": {},
   "outputs": [],
   "source": [
    "%matplotlib widget\n",
    "\n",
    "from experiments import VelocityVSATPADPRatio"
   ]
  },
  {
   "cell_type": "markdown",
   "metadata": {},
   "source": [
    "# Relation between ATP/ADP concentrations ratio and velocity"
   ]
  },
  {
   "cell_type": "code",
   "execution_count": 2,
   "metadata": {},
   "outputs": [
    {
     "data": {
      "application/vnd.jupyter.widget-view+json": {
       "model_id": "bb8a1bb4f51a4525ab3cabcb0097cc6d",
       "version_major": 2,
       "version_minor": 0
      },
      "text/plain": [
       "HBox(children=(Output(), VBox(children=(HTML(value='<h1>Velocity vs [ATP]/[ADP]</h1>'), HTML(value='<b>General…"
      ]
     },
     "metadata": {},
     "output_type": "display_data"
    }
   ],
   "source": [
    "velocity_vs_atp_adp_ratio = VelocityVSATPADPRatio()\n",
    "# TODO change color\n",
    "# TODO add markers for colorblind\n",
    "# TODO y-axis label in LaTeX\n",
    "# TODO add vertical line at equilibrium_atp_adp_ratio\n",
    "# TODO 2 digits for constrained parameters\n",
    "# TODO check if constrained parameters effectively depend on ATP/ADP, and if yes\n",
    "#   remove it because it does not make sense (or maybe show a range?)\n",
    "# TODO average velocity -> <v>"
   ]
  }
 ],
 "metadata": {
  "kernelspec": {
   "display_name": "Python 3",
   "language": "python",
   "name": "python3"
  },
  "language_info": {
   "codemirror_mode": {
    "name": "ipython",
    "version": 3
   },
   "file_extension": ".py",
   "mimetype": "text/x-python",
   "name": "python",
   "nbconvert_exporter": "python",
   "pygments_lexer": "ipython3",
   "version": "3.11.7"
  }
 },
 "nbformat": 4,
 "nbformat_minor": 2
}
