{
 "cells": [
  {
   "cell_type": "code",
   "execution_count": 1,
   "metadata": {},
   "outputs": [],
   "source": [
    "%matplotlib widget\n",
    "\n",
    "from experiments import VelocityVSATPADPRatio"
   ]
  },
  {
   "cell_type": "markdown",
   "metadata": {},
   "source": [
    "# Relation between ATP/ADP concentrations ratio and velocity"
   ]
  },
  {
   "cell_type": "code",
   "execution_count": 2,
   "metadata": {},
   "outputs": [
    {
     "data": {
      "application/vnd.jupyter.widget-view+json": {
       "model_id": "bd596f47614f4e28bc1a8115dd6fa51b",
       "version_major": 2,
       "version_minor": 0
      },
      "text/plain": [
       "HBox(children=(Output(), VBox(children=(HTML(value='<h1>Velocity vs [ATP]/[ADP]</h1>'), HTML(value='<b>General…"
      ]
     },
     "metadata": {},
     "output_type": "display_data"
    }
   ],
   "source": [
    "velocity_vs_atp_adp_ratio = VelocityVSATPADPRatio()"
   ]
  },
  {
   "cell_type": "markdown",
   "metadata": {},
   "source": [
    "# Sequential Clockwise/2-Residue Step, comparison between 1 and 2 loops"
   ]
  },
  {
   "cell_type": "code",
   "execution_count": 3,
   "metadata": {},
   "outputs": [],
   "source": [
    "from experiments import Experiment, _DefaultFloatLogSlider, _DefaultIntSlider\n",
    "\n",
    "from translocation_models import TranslocationModel, \\\n",
    "    SC2R, SC2R2Loops, DefectiveSC2R, \\\n",
    "    DiscSpiral, DefectiveDiscSpiral\n",
    "\n",
    "from ipywidgets import Widget, FloatLogSlider, IntSlider, \\\n",
    "    HBox, VBox, HTML, Output, Layout\n",
    "from IPython.display import display\n",
    "\n",
    "import numpy as np\n",
    "import matplotlib.pyplot as plt"
   ]
  },
  {
   "cell_type": "code",
   "execution_count": 4,
   "metadata": {},
   "outputs": [],
   "source": [
    "from ipywidgets import Widget\n",
    "\n",
    "\n",
    "class SC2R1Loop2LoopsComparison(Experiment):\n",
    "    \"\"\"Comparison between 1 loop and 2 loops for SC2R model.\"\"\"\n",
    "\n",
    "    def __init__(self):\n",
    "        self.sc2r = SC2R()\n",
    "        self.sc2r_2_loops = SC2R2Loops()\n",
    "        super().__init__()\n",
    "\n",
    "    def _construct_free_parameters(self) -> dict[str, Widget]:\n",
    "        return {\n",
    "            'atp_adp_ratio': _DefaultFloatLogSlider(\n",
    "                value=10.0, description=\"[ATP]/[ADP]:\"),\n",
    "            'equilibrium_atp_adp_ratio': _DefaultFloatLogSlider(\n",
    "                value=0.01, description=\"([ATP]/[ADP])|eq.:\"),\n",
    "            'K_d_atp': _DefaultFloatLogSlider(\n",
    "                value=0.1, description=\"K_d^ATP:\"),\n",
    "            'K_d_adp': _DefaultFloatLogSlider(description=\"K_d^ADP:\"),\n",
    "            'k_DT': _DefaultFloatLogSlider(description=\"k_DT:\"),\n",
    "            'k_h': _DefaultFloatLogSlider(description=\"k_h:\"),\n",
    "            'k_s': _DefaultFloatLogSlider(value=0.1, description=\"k_s:\"),\n",
    "            'k_up': _DefaultFloatLogSlider(description=\"k_↑:\"),\n",
    "        }\n",
    "    \n",
    "    def _construct_constrained_parameters(self) -> dict[str, Widget]:\n",
    "        return {\n",
    "            'k_TD': HTML(description=\"k_TD:\"),\n",
    "            'k_down': HTML(description=\"k_↓:\"),\n",
    "        }\n",
    "    \n",
    "    def _construct_gui(self) -> Widget:\n",
    "        gui_plot = Output()\n",
    "        gui_parameters = VBox([\n",
    "            HTML(value=\n",
    "                 \"<h1>Comparison between 1 loop and 2 loops SC/2R models</h1>\"),\n",
    "\n",
    "            HTML(value=\"<b>General Physical Parameters</b>\"),\n",
    "            HBox([self._free_parameters['atp_adp_ratio'],\n",
    "                HTML(value=\"ATP/ADP concentration ratio\")]),\n",
    "            HBox([self._free_parameters['equilibrium_atp_adp_ratio'], \n",
    "                HTML(value=\"Equilibrium ATP/ADP concentration ratio\")]),\n",
    "            HBox([self._free_parameters['K_d_atp'],\n",
    "                HTML(value=\"Protomer-ATP dissociation constant\")]),\n",
    "            HBox([self._free_parameters['K_d_adp'],\n",
    "                HTML(value=\"Protomer-ADP dissociation constant\")]),\n",
    "            HBox([self._free_parameters['k_DT'],\n",
    "                HTML(value=\"Effective ADP->ATP exchange rate\")]),\n",
    "            HBox([self._constrained_parameters['k_TD'],\n",
    "                HTML(value=\"Effective ATP->ADP exchange rate \"\\\n",
    "                    \"(constrained by Protomer-ATP/ADP exchange model)\")]),\n",
    "            HBox([self._free_parameters['k_h'],\n",
    "                HTML(value=\"ATP Hydrolysis rate\")]),\n",
    "            HBox([self._free_parameters['k_s'],\n",
    "                HTML(value=\"ATP Synthesis rate\")]),\n",
    "\n",
    "            HTML(value=\"<b>SC2R Model Physical Parameters</b>\"),\n",
    "            HBox([self._free_parameters['k_up'],\n",
    "                HTML(value=\"Translocation up rate\")]),\n",
    "            HBox([self._constrained_parameters['k_down'],\n",
    "                HTML(value=\"Translocation down rate \"\\\n",
    "                    \"(constrained by detailed balance)\")]),\n",
    "        ])\n",
    "\n",
    "        gui = HBox([gui_plot, gui_parameters], \n",
    "                   layout=Layout(align_items='center'))\n",
    "        \n",
    "        return gui\n",
    "    \n",
    "    def _run(self) -> None:\n",
    "        models = [self.sc2r, self.sc2r_2_loops]\n",
    "        self._update_models_free_parameters(models, self._free_parameters)\n",
    "        self._update_gui_constrained_parameters(models, \n",
    "                                                self._constrained_parameters)\n",
    "        \n",
    "        \n",
    "        \n",
    "            "
   ]
  }
 ],
 "metadata": {
  "kernelspec": {
   "display_name": "Python 3",
   "language": "python",
   "name": "python3"
  },
  "language_info": {
   "codemirror_mode": {
    "name": "ipython",
    "version": 3
   },
   "file_extension": ".py",
   "mimetype": "text/x-python",
   "name": "python",
   "nbconvert_exporter": "python",
   "pygments_lexer": "ipython3",
   "version": "3.11.7"
  }
 },
 "nbformat": 4,
 "nbformat_minor": 2
}
