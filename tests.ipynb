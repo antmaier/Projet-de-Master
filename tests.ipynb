{
 "cells": [
  {
   "cell_type": "code",
   "execution_count": 1,
   "metadata": {},
   "outputs": [],
   "source": [
    "%matplotlib widget\n",
    "\n",
    "from experiments import Experiment, _DefaultFloatLogSlider, _DefaultIntSlider\n",
    "\n",
    "from translocation_models import TranslocationModel, \\\n",
    "    SC2R, SC2R2Loops, DefectiveSC2R, \\\n",
    "    DiscSpiral, DefectiveDiscSpiral\n",
    "\n",
    "from ipywidgets import Widget, FloatLogSlider, FloatSlider, IntSlider, \\\n",
    "    FloatRangeSlider, IntRangeSlider, Dropdown, HBox, VBox, HTML, Output, Layout\n",
    "from IPython.display import display\n",
    "\n",
    "import numpy as np\n",
    "import matplotlib.pyplot as plt\n",
    "from matplotlib.legend_handler import HandlerLine2D\n",
    "from matplotlib.transforms import Affine2D\n",
    "import pandas as pd\n",
    "from pandas import DataFrame\n",
    "import matplotlib as mpl\n",
    "import networkx as nx\n",
    "from networkx import DiGraph\n",
    "\n",
    "import copy\n",
    "from itertools import pairwise\n"
   ]
  },
  {
   "cell_type": "code",
   "execution_count": 4,
   "metadata": {},
   "outputs": [
    {
     "name": "stdout",
     "output_type": "stream",
     "text": [
      "-0.1\n"
     ]
    }
   ],
   "source": [
    "sc2r = DiscSpiral()\n",
    "print(sc2r.atp_consumption_rate()/sc2r.average_velocity())"
   ]
  }
 ],
 "metadata": {
  "kernelspec": {
   "display_name": "Python 3",
   "language": "python",
   "name": "python3"
  },
  "language_info": {
   "codemirror_mode": {
    "name": "ipython",
    "version": 3
   },
   "file_extension": ".py",
   "mimetype": "text/x-python",
   "name": "python",
   "nbconvert_exporter": "python",
   "pygments_lexer": "ipython3",
   "version": "3.11.7"
  }
 },
 "nbformat": 4,
 "nbformat_minor": 2
}
