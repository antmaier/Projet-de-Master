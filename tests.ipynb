{
 "cells": [
  {
   "cell_type": "code",
   "execution_count": 18,
   "metadata": {},
   "outputs": [],
   "source": [
    "%matplotlib widget\n",
    "\n",
    "from experiments import Experiment, _DefaultFloatLogSlider, _DefaultIntSlider\n",
    "\n",
    "from translocation_models import TranslocationModel, \\\n",
    "    SC2R, SC2R2Loops, DefectiveSC2R, \\\n",
    "    DiscSpiral, DefectiveDiscSpiral\n",
    "\n",
    "from ipywidgets import Widget, FloatLogSlider, FloatSlider, IntSlider, FloatRangeSlider, \\\n",
    "    HBox, VBox, HTML, Output, Layout\n",
    "from IPython.display import display\n",
    "\n",
    "import numpy as np\n",
    "import matplotlib.pyplot as plt\n",
    "from matplotlib.legend_handler import HandlerLine2D\n",
    "from matplotlib.transforms import Affine2D\n",
    "import pandas as pd\n",
    "from pandas import DataFrame\n",
    "import matplotlib as mpl\n",
    "\n",
    "import copy\n"
   ]
  },
  {
   "cell_type": "code",
   "execution_count": 74,
   "metadata": {},
   "outputs": [],
   "source": []
  },
  {
   "cell_type": "code",
   "execution_count": 75,
   "metadata": {},
   "outputs": [
    {
     "data": {
      "application/vnd.jupyter.widget-view+json": {
       "model_id": "693cf3dc855949a1bf283c14c4bcda2f",
       "version_major": 2,
       "version_minor": 0
      },
      "text/plain": [
       "VBox(children=(Output(), HBox(children=(VBox(children=(HTML(value='<h1>SC/2R and Disc-Spiral ATP consumption r…"
      ]
     },
     "metadata": {},
     "output_type": "display_data"
    },
    {
     "data": {
      "text/plain": [
       "<__main__.DefectlessVSDefective at 0x7f06184668d0>"
      ]
     },
     "execution_count": 75,
     "metadata": {},
     "output_type": "execute_result"
    },
    {
     "name": "stderr",
     "output_type": "stream",
     "text": [
      "No such comm: 55fe23737b31447081449046df5c816f\n",
      "No such comm: 55fe23737b31447081449046df5c816f\n",
      "No such comm: 55fe23737b31447081449046df5c816f\n",
      "No such comm: 55fe23737b31447081449046df5c816f\n",
      "No such comm: 55fe23737b31447081449046df5c816f\n",
      "No such comm: 55fe23737b31447081449046df5c816f\n",
      "No such comm: 55fe23737b31447081449046df5c816f\n",
      "No such comm: 55fe23737b31447081449046df5c816f\n",
      "No such comm: 55fe23737b31447081449046df5c816f\n",
      "No such comm: 55fe23737b31447081449046df5c816f\n",
      "No such comm: 55fe23737b31447081449046df5c816f\n",
      "No such comm: 55fe23737b31447081449046df5c816f\n",
      "No such comm: 55fe23737b31447081449046df5c816f\n",
      "No such comm: 55fe23737b31447081449046df5c816f\n",
      "No such comm: 55fe23737b31447081449046df5c816f\n",
      "No such comm: 55fe23737b31447081449046df5c816f\n",
      "/home/antoine/workspace/Projet-de-Master/translocation_models.py:487: FutureWarning: The behavior of DataFrame concatenation with empty or all-NA entries is deprecated. In a future version, this will no longer exclude empty or all-NA columns when determining the result dtypes. To retain the old behavior, exclude the relevant entries before the concat operation.\n",
      "  k_up: Translocation up rate.\n",
      "/home/antoine/workspace/Projet-de-Master/translocation_models.py:487: FutureWarning: The behavior of DataFrame concatenation with empty or all-NA entries is deprecated. In a future version, this will no longer exclude empty or all-NA columns when determining the result dtypes. To retain the old behavior, exclude the relevant entries before the concat operation.\n",
      "  k_up: Translocation up rate.\n",
      "/home/antoine/workspace/Projet-de-Master/translocation_models.py:487: FutureWarning: The behavior of DataFrame concatenation with empty or all-NA entries is deprecated. In a future version, this will no longer exclude empty or all-NA columns when determining the result dtypes. To retain the old behavior, exclude the relevant entries before the concat operation.\n",
      "  k_up: Translocation up rate.\n",
      "/home/antoine/workspace/Projet-de-Master/translocation_models.py:487: FutureWarning: The behavior of DataFrame concatenation with empty or all-NA entries is deprecated. In a future version, this will no longer exclude empty or all-NA columns when determining the result dtypes. To retain the old behavior, exclude the relevant entries before the concat operation.\n",
      "  k_up: Translocation up rate.\n",
      "/home/antoine/workspace/Projet-de-Master/translocation_models.py:487: FutureWarning: The behavior of DataFrame concatenation with empty or all-NA entries is deprecated. In a future version, this will no longer exclude empty or all-NA columns when determining the result dtypes. To retain the old behavior, exclude the relevant entries before the concat operation.\n",
      "  k_up: Translocation up rate.\n",
      "/home/antoine/workspace/Projet-de-Master/translocation_models.py:487: FutureWarning: The behavior of DataFrame concatenation with empty or all-NA entries is deprecated. In a future version, this will no longer exclude empty or all-NA columns when determining the result dtypes. To retain the old behavior, exclude the relevant entries before the concat operation.\n",
      "  k_up: Translocation up rate.\n",
      "/home/antoine/workspace/Projet-de-Master/translocation_models.py:487: FutureWarning: The behavior of DataFrame concatenation with empty or all-NA entries is deprecated. In a future version, this will no longer exclude empty or all-NA columns when determining the result dtypes. To retain the old behavior, exclude the relevant entries before the concat operation.\n",
      "  k_up: Translocation up rate.\n"
     ]
    },
    {
     "name": "stderr",
     "output_type": "stream",
     "text": [
      "No such comm: c50bfa1f8a194a7c801fd6755ee68642\n",
      "No such comm: c50bfa1f8a194a7c801fd6755ee68642\n",
      "No such comm: c50bfa1f8a194a7c801fd6755ee68642\n",
      "No such comm: c50bfa1f8a194a7c801fd6755ee68642\n",
      "No such comm: c50bfa1f8a194a7c801fd6755ee68642\n",
      "No such comm: c50bfa1f8a194a7c801fd6755ee68642\n"
     ]
    }
   ],
   "source": [
    "DefectlessVSDefective()"
   ]
  }
 ],
 "metadata": {
  "kernelspec": {
   "display_name": "Python 3",
   "language": "python",
   "name": "python3"
  },
  "language_info": {
   "codemirror_mode": {
    "name": "ipython",
    "version": 3
   },
   "file_extension": ".py",
   "mimetype": "text/x-python",
   "name": "python",
   "nbconvert_exporter": "python",
   "pygments_lexer": "ipython3",
   "version": "3.11.7"
  }
 },
 "nbformat": 4,
 "nbformat_minor": 2
}
