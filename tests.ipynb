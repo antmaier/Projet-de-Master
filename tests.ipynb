{
 "cells": [
  {
   "cell_type": "code",
   "execution_count": 85,
   "metadata": {},
   "outputs": [],
   "source": [
    "%matplotlib widget\n",
    "\n",
    "from experiments import Experiment, _DefaultFloatLogSlider, _DefaultIntSlider\n",
    "\n",
    "from translocation_models import TranslocationModel, \\\n",
    "    SC2R, SC2R2Loops, DefectiveSC2R, \\\n",
    "    DiscSpiral, DefectiveDiscSpiral\n",
    "\n",
    "from ipywidgets import Widget, FloatLogSlider, FloatSlider, IntSlider, FloatRangeSlider, \\\n",
    "    HBox, VBox, HTML, Output, Layout\n",
    "from IPython.display import display\n",
    "\n",
    "import numpy as np\n",
    "import matplotlib.pyplot as plt\n",
    "from matplotlib.legend_handler import HandlerLine2D\n",
    "from matplotlib.transforms import Affine2D\n",
    "import pandas as pd\n",
    "from pandas import DataFrame\n",
    "import matplotlib as mpl\n",
    "import networkx as nx\n",
    "from networkx import DiGraph\n",
    "\n",
    "import copy\n",
    "from itertools import pairwise\n"
   ]
  },
  {
   "cell_type": "code",
   "execution_count": 100,
   "metadata": {},
   "outputs": [],
   "source": [
    "# TODO do a super class with the common part of all NonIdeal models\n",
    "class NonIdealSC2R(SC2R):\n",
    "    \"\"\"Non-ideal Sequential Clockwise/2-Residue Step translocation model.\n",
    "\n",
    "    Non-ideal in the sense that at each state, there is a probability to\n",
    "    leave the main loop, to a effective state 'out'.\n",
    "    All k_in rates are similar, and remains only one free parameter k_out, \n",
    "    chosen to be out of TTT state.\n",
    "    \"\"\"\n",
    "\n",
    "    def __init__(self) -> None:\n",
    "        self.reference_state = 'TTT' # State from which the out rate is computed\n",
    "        self.k_out = 1\n",
    "        self.k_in = 1\n",
    "        super().__init__()\n",
    "    \n",
    "    def _k_out(self, state: str) -> float:\n",
    "        \"\"\"Compute state out rate, constrained by the detailed balance.\n",
    "        \n",
    "        The constraint is computed based on the main loop.\n",
    "        \"\"\"\n",
    "        rate = self.k_out\n",
    "        try:\n",
    "            path = nx.shortest_path(self._main_loop, state, self.reference_state)\n",
    "        except nx.NetworkXNoPath:\n",
    "            pass\n",
    "        else:\n",
    "            for u, v in pairwise(path):\n",
    "                rate *= (self._main_loop.edges[u, v]['rate']()\n",
    "                         / self._main_loop.edges[v, u]['rate']())\n",
    "        return rate\n",
    "\n",
    "    def _construct_kinetic_scheme(self, kinetic_scheme: DiGraph | None = None\n",
    "                                  ) -> DiGraph:\n",
    "        if not kinetic_scheme:\n",
    "            kinetic_scheme = DiGraph()\n",
    "        # Construct main loop\n",
    "        kinetic_scheme = super()._construct_kinetic_scheme(kinetic_scheme)\n",
    "        self._main_loop = copy.deepcopy(kinetic_scheme) # Used to compute _k_out\n",
    "        # Add 'out' state\n",
    "        kinetic_scheme.add_node(\n",
    "            'out',\n",
    "            probability=lambda: self._compute_probabilities()['out'])\n",
    "        for node in kinetic_scheme.nodes:\n",
    "            if node != 'out':\n",
    "                kinetic_scheme.add_edges_from([\n",
    "                    (node, 'out', {'rate': lambda node=node: self._k_out(node)}),\n",
    "                    ('out', node, {'rate': lambda: self.k_in})])\n",
    "        return kinetic_scheme\n",
    "        "
   ]
  },
  {
   "cell_type": "code",
   "execution_count": null,
   "metadata": {},
   "outputs": [],
   "source": []
  },
  {
   "cell_type": "code",
   "execution_count": 101,
   "metadata": {},
   "outputs": [
    {
     "name": "stdout",
     "output_type": "stream",
     "text": [
      "[('TTT', 'DTT', {'rate': <function SC2R._construct_kinetic_scheme.<locals>.<lambda> at 0x7f06178c2c00>, 'ATP': -1}, 1), ('TTT', 'TTD', {'rate': <function SC2R._construct_kinetic_scheme.<locals>.<lambda> at 0x7f06178c19e0>}, 0.1), ('TTT', 'out', {'rate': <function NonIdealSC2R._construct_kinetic_scheme.<locals>.<lambda> at 0x7f06178c07c0>}, 1), ('DTT', 'TTT', {'rate': <function SC2R._construct_kinetic_scheme.<locals>.<lambda> at 0x7f06178c0540>, 'ATP': 1}, 1), ('DTT', 'TTD', {'rate': <function SC2R._construct_kinetic_scheme.<locals>.<lambda> at 0x7f06178c2340>, 'position': 2}, 1), ('DTT', 'out', {'rate': <function NonIdealSC2R._construct_kinetic_scheme.<locals>.<lambda> at 0x7f06178c0680>}, 1.0), ('TTD', 'DTT', {'rate': <function SC2R._construct_kinetic_scheme.<locals>.<lambda> at 0x7f06178c1940>, 'position': -2}, 1.0), ('TTD', 'TTT', {'rate': <function SC2R._construct_kinetic_scheme.<locals>.<lambda> at 0x7f06178c1300>}, 1), ('TTD', 'out', {'rate': <function NonIdealSC2R._construct_kinetic_scheme.<locals>.<lambda> at 0x7f06178c02c0>}, 10.0), ('out', 'TTT', {'rate': <function NonIdealSC2R._construct_kinetic_scheme.<locals>.<lambda> at 0x7f06178c1440>}, 1), ('out', 'DTT', {'rate': <function NonIdealSC2R._construct_kinetic_scheme.<locals>.<lambda> at 0x7f06178c0360>}, 1), ('out', 'TTD', {'rate': <function NonIdealSC2R._construct_kinetic_scheme.<locals>.<lambda> at 0x7f06178c0180>}, 1)]\n"
     ]
    }
   ],
   "source": [
    "non_ideal_sc2r = NonIdealSC2R()\n",
    "print([(u, v, data, data['rate']()) for u, v, data in non_ideal_sc2r.kinetic_scheme.edges(data=True)])"
   ]
  }
 ],
 "metadata": {
  "kernelspec": {
   "display_name": "Python 3",
   "language": "python",
   "name": "python3"
  },
  "language_info": {
   "codemirror_mode": {
    "name": "ipython",
    "version": 3
   },
   "file_extension": ".py",
   "mimetype": "text/x-python",
   "name": "python",
   "nbconvert_exporter": "python",
   "pygments_lexer": "ipython3",
   "version": "3.11.7"
  }
 },
 "nbformat": 4,
 "nbformat_minor": 2
}
