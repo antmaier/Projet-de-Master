{
 "cells": [
  {
   "cell_type": "code",
   "execution_count": 1,
   "metadata": {},
   "outputs": [],
   "source": [
    "%matplotlib widget\n",
    "\n",
    "from experiments import Experiment, _DefaultFloatLogSlider, _DefaultIntSlider\n",
    "\n",
    "from translocation_models import TranslocationModel, \\\n",
    "    SC2R, SC2R2Loops, DefectiveSC2R, \\\n",
    "    DiscSpiral, DefectiveDiscSpiral\n",
    "\n",
    "from ipywidgets import Widget, FloatLogSlider, IntSlider, \\\n",
    "    HBox, VBox, HTML, Output, Layout\n",
    "from IPython.display import display\n",
    "\n",
    "import numpy as np\n",
    "import matplotlib.pyplot as plt\n"
   ]
  },
  {
   "cell_type": "code",
   "execution_count": 2,
   "metadata": {},
   "outputs": [],
   "source": [
    "class SC2RDiscSpiralComparison(Experiment):\n",
    "    def __init__(self):\n",
    "        self._sc2r = SC2R()\n",
    "        self._disc_spiral = DiscSpiral()\n",
    "        super().__init__()\n",
    "\n",
    "    def _construct_free_parameters(self) -> dict[str, Widget]:\n",
    "        return {\n",
    "            'atp_adp_ratio': _DefaultFloatLogSlider(\n",
    "                value=1e2, min=0, max=4, readout_format='.1e',\n",
    "                description=\"[ATP]/[ADP]:\"),\n",
    "            'equilibrium_atp_adp_ratio': _DefaultFloatLogSlider(\n",
    "                value=1e-5, min=-7, max=-3, readout_format='.1e',\n",
    "                description=\"([ATP]/[ADP])|eq.:\"),\n",
    "            'K_d_atp': _DefaultFloatLogSlider(\n",
    "                value=0.1, description=\"K_d^ATP:\"),\n",
    "            'K_d_adp': _DefaultFloatLogSlider(description=\"K_d^ADP:\"),\n",
    "            'k_DT': _DefaultFloatLogSlider(description=\"k_DT:\"),\n",
    "            'k_h': _DefaultFloatLogSlider(description=\"k_h:\"),\n",
    "            'k_s': _DefaultFloatLogSlider(value=0.1, description=\"k_s:\"),\n",
    "            'k_up': _DefaultFloatLogSlider(description=\"k_↑:\"),\n",
    "            'n_protomers': _DefaultIntSlider(description=\"n_protomers:\"),\n",
    "            'k_extended_to_flat_up': _DefaultFloatLogSlider(description=\"k_⮫:\"),\n",
    "            'k_flat_to_extended_down': _DefaultFloatLogSlider(description=\"k_⮯:\"),\n",
    "            'k_flat_to_extended_up': _DefaultFloatLogSlider(description=\"k_⮭:\"),\n",
    "        }\n",
    "    \n",
    "    def _construct_constrained_parameters(self) -> dict[str, Widget]:\n",
    "        return {\n",
    "            'k_TD': HTML(description=\"k_TD:\"),\n",
    "            'k_down': HTML(description=\"k_↓:\"),\n",
    "            'k_h_bar': HTML(description=\"ꝁ_h:\"),\n",
    "            'k_flat_to_extended_down_bar': HTML(description=\"ꝁ_⮯:\"),\n",
    "            'k_extended_to_flat_down': HTML(description=\"k_⮩:\"),\n",
    "        }\n",
    "    \n",
    "    def _construct_gui(self) -> Widget:\n",
    "        gui_plot = Output()\n",
    "        gui_parameters = VBox([\n",
    "            HTML(value=\n",
    "                 \"<h1>SC/2R and Disc-Spiral ATP consumption rate comparison</h1>\"),\n",
    "\n",
    "            HTML(value=\"<b>General Physical Parameters</b>\"),\n",
    "            HBox([self._free_parameters['atp_adp_ratio'],\n",
    "                HTML(value=\"ATP/ADP concentration ratio\")]),\n",
    "            HBox([self._free_parameters['equilibrium_atp_adp_ratio'], \n",
    "                HTML(value=\"Equilibrium ATP/ADP concentration ratio\")]),\n",
    "            HBox([self._free_parameters['K_d_atp'],\n",
    "                HTML(value=\"Protomer-ATP dissociation constant\")]),\n",
    "            HBox([self._free_parameters['K_d_adp'],\n",
    "                HTML(value=\"Protomer-ADP dissociation constant\")]),\n",
    "            HBox([self._free_parameters['k_DT'],\n",
    "                HTML(value=\"Effective ADP->ATP exchange rate\")]),\n",
    "            HBox([self._constrained_parameters['k_TD'],\n",
    "                HTML(value=\"Effective ATP->ADP exchange rate \"\\\n",
    "                    \"(constrained by Protomer-ATP/ADP exchange model)\")]),\n",
    "            HBox([self._free_parameters['k_h'],\n",
    "                HTML(value=\"ATP Hydrolysis rate\")]),\n",
    "            HBox([self._free_parameters['k_s'],\n",
    "                HTML(value=\"ATP Synthesis rate\")]),\n",
    "\n",
    "            HTML(value=\"<b>SC2R Model Physical Parameters</b>\"),\n",
    "            HBox([self._free_parameters['k_up'],\n",
    "                HTML(value=\"Translocation up rate\")]),\n",
    "            HBox([self._constrained_parameters['k_down'],\n",
    "                HTML(value=\"Translocation down rate \"\\\n",
    "                    \"(constrained by detailed balance)\")]),\n",
    "\n",
    "            HTML(value=\"<b>Disc-Spiral Model Physical Parameters</b>\"),\n",
    "            HBox([self._free_parameters['n_protomers'],\n",
    "                HTML(value=\"Number of protomers\")]),\n",
    "            HBox([self._constrained_parameters['k_h_bar'],\n",
    "                HTML(value=\"Effective ATP hydrolysis rate\")]),\n",
    "            HBox([self._free_parameters['k_extended_to_flat_up'],\n",
    "                HTML(value=\"Spiral->disc up translocation rate\")]),\n",
    "            HBox([self._free_parameters['k_flat_to_extended_down'],\n",
    "                HTML(value=\"Disc->spiral down translocation rate\")]),\n",
    "            HBox([self._constrained_parameters['k_flat_to_extended_down_bar'],\n",
    "                HTML(value=\"Effective disc->spiral down translocation rate\")]),\n",
    "            HBox([self._free_parameters['k_flat_to_extended_up'],\n",
    "                HTML(value=\"Disc->spiral up translocation rate\")]),\n",
    "            HBox([self._constrained_parameters['k_extended_to_flat_down'],\n",
    "                HTML(value=\"Spiral->disc down rate \"\\\n",
    "                        \"(constrained by detailed balance)\")]),\n",
    "        ])\n",
    "\n",
    "        gui = HBox([gui_plot, gui_parameters], \n",
    "                   layout=Layout(align_items='center'))\n",
    "        \n",
    "        return gui\n",
    "    \n",
    "    def _run(self) -> None:\n",
    "        # Update GUI<->Models\n",
    "        models = [self._sc2r, self._disc_spiral]\n",
    "        self._update_models_free_parameters(models, self._free_parameters)\n",
    "        self._update_gui_constrained_parameters(models, \n",
    "                                                self._constrained_parameters)\n",
    "        \n",
    "        for model in models:\n",
    "            model.normalize_average_velocity(inplace=True)\n",
    "\n",
    "        n_steps = 100\n",
    "        n_simulations = 3\n",
    "        sc2r_trajectories = self._sc2r.gillespie(\n",
    "            n_steps=n_steps, \n",
    "            n_simulations=n_simulations,\n",
    "            cumulative_sums='position')\n",
    "        # TODO debug this shit\n",
    "        # When analytical, first value is NaN but not empirical, see why\n",
    "        sc2r_analytical_position_stats = self._sc2r.analytical_attribute_stats(\n",
    "            'position', sc2r_trajectories[0]['timestamp'])\n",
    "        sc2r_empirical_position_stats = self._sc2r.empirical_attribute_stats(\n",
    "            'position', n_steps=n_steps)\n",
    "        disc_spiral_trajectories = self._disc_spiral.gillespie(\n",
    "            n_steps=n_steps, \n",
    "            n_simulations=n_simulations,\n",
    "            cumulative_sums='position')\n",
    "        disc_spiral_analytical_position_stats = \\\n",
    "            self._disc_spiral.analytical_attribute_stats(\n",
    "                'position', disc_spiral_trajectories[0]['timestamp'])\n",
    "        disc_spiral_empirical_position_stats = \\\n",
    "            self._disc_spiral.empirical_attribute_stats(\n",
    "                'position', n_steps=n_steps)\n",
    "        # We cut all data that exceed the minmax empirical stats timestamp\n",
    "        # because empirical stats are the limiting factor\n",
    "        max_timestamp = min(\n",
    "            sc2r_empirical_position_stats['timestamp'].iat[-1],\n",
    "            disc_spiral_empirical_position_stats['timestamp'].iat[-1])\n",
    "        for trajectory in sc2r_trajectories + disc_spiral_trajectories:\n",
    "            trajectory.drop(\n",
    "                trajectory[trajectory['timestamp'] > max_timestamp].index,\n",
    "                inplace=True)\n",
    "        for empirical_stats in [\n",
    "            sc2r_empirical_position_stats,\n",
    "            disc_spiral_empirical_position_stats]:\n",
    "            empirical_stats.drop(\n",
    "                empirical_stats[\n",
    "                    empirical_stats['timestamp'] > max_timestamp].index,\n",
    "                inplace=True)\n",
    "        for analytical_stats in [\n",
    "            sc2r_analytical_position_stats,\n",
    "            disc_spiral_analytical_position_stats]:\n",
    "            analytical_stats.drop(\n",
    "                analytical_stats[\n",
    "                    analytical_stats['timestamp'] > max_timestamp].index,\n",
    "                inplace=True)\n",
    "        \n",
    "        gui_plot = self._gui.children[0]\n",
    "        with gui_plot:\n",
    "            gui_plot.clear_output(wait=True)\n",
    "            plt.close('SC2RDiscSpiralComparison')\n",
    "            fig = plt.figure('SC2RDiscSpiralComparison')\n",
    "            ax = fig.add_subplot(111)\n",
    "\n",
    "            ax.fill_between(\n",
    "                sc2r_analytical_position_stats['timestamp'],\n",
    "                sc2r_analytical_position_stats['mean'] - \\\n",
    "                    sc2r_analytical_position_stats['std'],\n",
    "                sc2r_analytical_position_stats['mean'] + \\\n",
    "                    sc2r_analytical_position_stats['std'],\n",
    "                color='#DDAA33', alpha=0.2)\n",
    "            ax.fill_between(\n",
    "                disc_spiral_analytical_position_stats['timestamp'],\n",
    "                disc_spiral_analytical_position_stats['mean'] - \\\n",
    "                    disc_spiral_analytical_position_stats['std'],\n",
    "                disc_spiral_analytical_position_stats['mean'] + \\\n",
    "                    disc_spiral_analytical_position_stats['std'],\n",
    "                color='#004488', alpha=0.2)\n",
    "            plt.show()\n",
    "        \n",
    "            \n",
    "        \n"
   ]
  },
  {
   "cell_type": "code",
   "execution_count": 3,
   "metadata": {},
   "outputs": [
    {
     "data": {
      "application/vnd.jupyter.widget-view+json": {
       "model_id": "c475c6db07e84667a99792e677a402ee",
       "version_major": 2,
       "version_minor": 0
      },
      "text/plain": [
       "HBox(children=(Output(), VBox(children=(HTML(value='<h1>SC/2R and Disc-Spiral ATP consumption rate comparison<…"
      ]
     },
     "metadata": {},
     "output_type": "display_data"
    },
    {
     "name": "stderr",
     "output_type": "stream",
     "text": [
      "No such comm: 1f2aac7d9d824e9d9a7dce5bc2a16bc1\n",
      "No such comm: 1f2aac7d9d824e9d9a7dce5bc2a16bc1\n",
      "No such comm: 1f2aac7d9d824e9d9a7dce5bc2a16bc1\n",
      "No such comm: 1f2aac7d9d824e9d9a7dce5bc2a16bc1\n",
      "No such comm: 1f2aac7d9d824e9d9a7dce5bc2a16bc1\n",
      "No such comm: 1f2aac7d9d824e9d9a7dce5bc2a16bc1\n",
      "No such comm: 1f2aac7d9d824e9d9a7dce5bc2a16bc1\n",
      "No such comm: 1f2aac7d9d824e9d9a7dce5bc2a16bc1\n",
      "No such comm: 1f2aac7d9d824e9d9a7dce5bc2a16bc1\n",
      "No such comm: 1f2aac7d9d824e9d9a7dce5bc2a16bc1\n",
      "No such comm: 1f2aac7d9d824e9d9a7dce5bc2a16bc1\n",
      "No such comm: 1f2aac7d9d824e9d9a7dce5bc2a16bc1\n",
      "No such comm: 1f2aac7d9d824e9d9a7dce5bc2a16bc1\n",
      "No such comm: 1f2aac7d9d824e9d9a7dce5bc2a16bc1\n",
      "No such comm: 1f2aac7d9d824e9d9a7dce5bc2a16bc1\n",
      "No such comm: 1f2aac7d9d824e9d9a7dce5bc2a16bc1\n",
      "No such comm: 1f2aac7d9d824e9d9a7dce5bc2a16bc1\n",
      "No such comm: 1f2aac7d9d824e9d9a7dce5bc2a16bc1\n",
      "No such comm: 1f2aac7d9d824e9d9a7dce5bc2a16bc1\n",
      "No such comm: 1f2aac7d9d824e9d9a7dce5bc2a16bc1\n"
     ]
    }
   ],
   "source": [
    "experiment = SC2RDiscSpiralComparison()"
   ]
  },
  {
   "cell_type": "code",
   "execution_count": 12,
   "metadata": {},
   "outputs": [
    {
     "data": {
      "application/vnd.jupyter.widget-view+json": {
       "model_id": "8ddbfa30f2be42be8dfd5e0f542c1946",
       "version_major": 2,
       "version_minor": 0
      },
      "text/plain": [
       "HBox(children=(Output(), FloatLogSlider(value=1.0)), layout=Layout(align_items='center'))"
      ]
     },
     "metadata": {},
     "output_type": "display_data"
    },
    {
     "data": {
      "application/vnd.jupyter.widget-view+json": {
       "model_id": "850503240f8f4e33a3ed1f85db1240c3",
       "version_major": 2,
       "version_minor": 0
      },
      "image/png": "[encoded data removed]",
      "text/html": [
       "\n",
       "            <div style=\"display: inline-block;\">\n",
       "                <div class=\"jupyter-widgets widget-label\" style=\"text-align: center;\">\n",
       "                    SC2RDiscSpiralComparison\n",
       "                </div>\n",
       "                <img src='data:image/png;base64,iVBORw0KGgoAAAANSUhEUgAAAoAAAAHgCAYAAAA10dzkAAAAOXRFWHRTb2Z0d2FyZQBNYXRwbG90bGliIHZlcnNpb24zLjguMCwgaHR0cHM6Ly9tYXRwbG90bGliLm9yZy81sbWrAAAACXBIWXMAAA9hAAAPYQGoP6dpAAAen0lEQVR4nO3df2zV9b348VehtFXvbRdhVhBksKsbG7nuUgKjXrLMqzVoXLjZjSzeiHo1WbPtIvS6Oxg3OsiSZruZuXMT3CZolqCX4K94k15H/7gXQbg/6C3LMkhchGthtpJibFG3IvD5/uGXfr9diwLSUzyvxyM5f5y3nw99nbytnyef0x4riqIoAgCANMaN9QAAAJSWAAQASEYAAgAkIwABAJIRgAAAyQhAAIBkBCAAQDICEAAgGQEIAJCMAAQASEYAAgAkIwABAJIRgAAAyQhAAIBkBCAAQDICEAAgGQEIAJCMAAQASEYAAgAkIwABAJIRgAAAyQhAAIBkBCAAQDICEAAgGQEIAJCMAAQASEYAAgAkIwABAJIRgAAAyQhAAIBkBCAAQDICEAAgGQEIAJCMAAQASEYAAgAkIwABAJIRgAAAyQhAAIBkBCAAQDICEAAgGQEIAJCMAAQASEYAAgAkIwABAJIRgAAAyQhAAIBkBCAAQDICEAAgGQEIAJCMAAQASEYAAgAkIwABAJIpmwB88cUX45ZbbokpU6ZERUVFPPfccx94zrZt26KhoSFqampi5syZ8cgjj4z+oAAAY6xsAvDtt9+Oa665Jn784x+f0fEHDhyIm266KRYuXBidnZ3x7W9/O5YtWxZPP/30KE8KADC2KoqiKMZ6iPOtoqIinn322Vi8ePFpj/nWt74Vzz//fOzbt29wrbm5OX75y1/Grl27SjAlAMDYKJs7gGdr165d0dTUNGTtxhtvjN27d8e77747RlMBAIy+yrEeYKz09PREfX39kLX6+vo4fvx49Pb2xuTJk4edMzAwEAMDA4PPT548GW+88UZMnDgxKioqRn1mAODDK4oijh49GlOmTIlx43LeC0sbgBExLNpOvRt+uphrbW2NNWvWjPpcAMDoO3jwYEydOnWsxxgTaQPw8ssvj56eniFrhw8fjsrKypg4ceKI56xatSpaWloGn/f19cWVV14ZBw8ejNra2lGdFwA4P/r7+2PatGnxx3/8x2M9yphJG4ALFiyIf/mXfxmytnXr1pg7d25MmDBhxHOqq6ujurp62Hptba0ABICPmMw/vlU2b3y/9dZbsWfPntizZ09EvPcxL3v27Imurq6IeO/u3dKlSwePb25ujldffTVaWlpi3759sXHjxtiwYUPcd999YzE+AEDJlM0dwN27d8cXv/jFween3qq944474vHHH4/u7u7BGIyImDFjRrS1tcWKFSvi4YcfjilTpsRDDz0UX/7yl0s+OwBAKZXl5wCWSn9/f9TV1UVfX5+3gAHgI8L1u4zeAgYA4MwIQACAZAQgAEAyAhAAIBkBCACQjAAEAEhGAAIAJCMAAQCSEYAAAMkIQACAZAQgAEAyAhAAIBkBCACQjAAEAEhGAAIAJCMAAQCSEYAAAMkIQACAZAQgAEAyAhAAIBkBCACQjAAEAEhGAAIAJCMAAQCSEYAAAMkIQACAZAQgAEAyAhAAIBkBCACQjAAEAEhGAAIAJCMAAQCSEYAAAMkIQACAZAQgAEAyAhAAIBkBCACQjAAEAEhGAAIAJCMAAQCSEYAAAMkIQACAZAQgAEAyAhAAIBkBCACQjAAEAEhGAAIAJCMAAQCSEYAAAMkIQACAZAQgAEAyAhAAIBkBCACQjAAEAEhGAAIAJCMAAQCSEYAAAMkIQACAZAQgAEAyAhAAIBkBCACQjAAEAEhGAAIAJFNWAbhu3bqYMWNG1NTURENDQ2zfvv19j9+0aVNcc801cfHFF8fkyZPjrrvuiiNHjpRoWgCAsVE2Abh58+ZYvnx5rF69Ojo7O2PhwoWxaNGi6OrqGvH4HTt2xNKlS+Puu++OX//617Fly5b47//+77jnnntKPDkAQGmVTQA++OCDcffdd8c999wTs2bNin/6p3+KadOmxfr160c8/j/+4z/iE5/4RCxbtixmzJgRf/7nfx5f/epXY/fu3SWeHACgtMoiAI8dOxYdHR3R1NQ0ZL2pqSl27tw54jmNjY1x6NChaGtri6Io4vXXX4+nnnoqbr755lKMDAAwZsoiAHt7e+PEiRNRX18/ZL2+vj56enpGPKexsTE2bdoUS5Ysiaqqqrj88svjYx/7WPzoRz867dcZGBiI/v7+IQ8AgI+asgjAUyoqKoY8L4pi2Nope/fujWXLlsX9998fHR0d8cILL8SBAweiubn5tH9+a2tr1NXVDT6mTZt2XucHACiFiqIoirEe4sM6duxYXHzxxbFly5b4y7/8y8H1e++9N/bs2RPbtm0bds7tt98ev//972PLli2Dazt27IiFCxfGa6+9FpMnTx52zsDAQAwMDAw+7+/vj2nTpkVfX1/U1tae51cFAIyG/v7+qKurS339Los7gFVVVdHQ0BDt7e1D1tvb26OxsXHEc955550YN27oyx8/fnxEvHfncCTV1dVRW1s75AEA8FFTFgEYEdHS0hKPPvpobNy4Mfbt2xcrVqyIrq6uwbd0V61aFUuXLh08/pZbbolnnnkm1q9fH/v374+XXnopli1bFvPmzYspU6aM1csAABh1lWM9wPmyZMmSOHLkSKxduza6u7tj9uzZ0dbWFtOnT4+IiO7u7iGfCXjnnXfG0aNH48c//nH83d/9XXzsYx+L6667Lr73ve+N1UsAACiJsvgZwLHiZwgA4KPH9buM3gIGAODMCEAAgGQEIABAMgIQACAZAQgAkIwABABIRgACACQjAAEAkhGAAADJCEAAgGQEIABAMgIQACAZAQgAkIwABABIRgACACQjAAEAkhGAAADJCEAAgGQEIABAMgIQACAZAQgAkIwABABIRgACACQjAAEAkhGAAADJCEAAgGQEIABAMgIQACAZAQgAkIwABABIRgACACQjAAEAkhGAAADJCEAAgGQEIABAMgIQACAZAQgAkIwABABIRgACACQjAAEAkhGAAADJCEAAgGQEIABAMgIQACAZAQgAkIwABABIRgACACQjAAEAkhGAAADJCEAAgGQEIABAMgIQACAZAQgAkIwABABIRgACACQjAAEAkhGAAADJCEAAgGQEIABAMgIQACAZAQgAkIwABABIRgACACRTVgG4bt26mDFjRtTU1ERDQ0Ns3779fY8fGBiI1atXx/Tp06O6ujo++clPxsaNG0s0LQDA2Kgc6wHOl82bN8fy5ctj3bp1ce2118ZPfvKTWLRoUezduzeuvPLKEc+59dZb4/XXX48NGzbEn/zJn8Thw4fj+PHjJZ4cAKC0KoqiKMZ6iPNh/vz5MWfOnFi/fv3g2qxZs2Lx4sXR2to67PgXXnghvvKVr8T+/fvj0ksvPaev2d/fH3V1ddHX1xe1tbXnPDsAUDqu32XyFvCxY8eio6Mjmpqahqw3NTXFzp07Rzzn+eefj7lz58b3v//9uOKKK+Lqq6+O++67L373u9+d9usMDAxEf3//kAcAwEdNWbwF3NvbGydOnIj6+voh6/X19dHT0zPiOfv3748dO3ZETU1NPPvss9Hb2xtf+9rX4o033jjtzwG2trbGmjVrzvv8AAClVBZ3AE+pqKgY8rwoimFrp5w8eTIqKipi06ZNMW/evLjpppviwQcfjMcff/y0dwFXrVoVfX19g4+DBw+e99cAADDayuIO4KRJk2L8+PHD7vYdPnx42F3BUyZPnhxXXHFF1NXVDa7NmjUriqKIQ4cOxVVXXTXsnOrq6qiurj6/wwMAlFhZ3AGsqqqKhoaGaG9vH7Le3t4ejY2NI55z7bXXxmuvvRZvvfXW4NrLL78c48aNi6lTp47qvAAAY6ksAjAioqWlJR599NHYuHFj7Nu3L1asWBFdXV3R3NwcEe+9fbt06dLB42+77baYOHFi3HXXXbF379548cUX45vf/Gb8zd/8TVx00UVj9TIAAEZdWbwFHBGxZMmSOHLkSKxduza6u7tj9uzZ0dbWFtOnT4+IiO7u7ujq6ho8/o/+6I+ivb09/vZv/zbmzp0bEydOjFtvvTW++93vjtVLAAAoibL5HMCx4HOEAOCjx/W7jN4CBgDgzAhAAIBkBCAAQDICEAAgGQEIAJCMAAQASEYAAgAkIwABAJIRgAAAyQhAAIBkBCAAQDICEAAgGQEIAJCMAAQASEYAAgAkIwABAJIRgAAAyQhAAIBkBCAAQDICEAAgGQEIAJCMAAQASEYAAgAkIwABAJIRgAAAyQhAAIBkBCAAQDICEAAgGQEIAJCMAAQASEYAAgAkIwABAJIRgAAAyQhAAIBkBCAAQDICEAAgGQEIAJCMAAQASEYAAgAkIwABAJIRgAAAyQhAAIBkBCAAQDICEAAgGQEIAJCMAAQASEYAAgAkIwABAJIRgAAAyQhAAIBkBCAAQDICEAAgGQEIAJCMAAQASEYAAgAkIwABAJIRgAAAyQhAAIBkBCAAQDICEAAgGQEIAJCMAAQASEYAAgAkU1YBuG7dupgxY0bU1NREQ0NDbN++/YzOe+mll6KysjI+97nPje6AAAAXgLIJwM2bN8fy5ctj9erV0dnZGQsXLoxFixZFV1fX+57X19cXS5cujb/4i78o0aQAAGOroiiKYqyHOB/mz58fc+bMifXr1w+uzZo1KxYvXhytra2nPe8rX/lKXHXVVTF+/Ph47rnnYs+ePWf8Nfv7+6Ouri76+vqitrb2w4wPAJSI63eZ3AE8duxYdHR0RFNT05D1pqam2Llz52nPe+yxx+KVV16JBx544Iy+zsDAQPT39w95AAB81JRFAPb29saJEyeivr5+yHp9fX309PSMeM5vfvObWLlyZWzatCkqKyvP6Ou0trZGXV3d4GPatGkfenYAgFIriwA8paKiYsjzoiiGrUVEnDhxIm677bZYs2ZNXH311Wf8569atSr6+voGHwcPHvzQMwMAlNqZ3fq6wE2aNCnGjx8/7G7f4cOHh90VjIg4evRo7N69Ozo7O+Mb3/hGREScPHkyiqKIysrK2Lp1a1x33XXDzquuro7q6urReREAACVSFncAq6qqoqGhIdrb24est7e3R2Nj47Dja2tr41e/+lXs2bNn8NHc3Byf+tSnYs+ePTF//vxSjQ4AUHJlcQcwIqKlpSVuv/32mDt3bixYsCB++tOfRldXVzQ3N0fEe2/f/va3v42f//znMW7cuJg9e/aQ8y+77LKoqakZtg4AUG7KJgCXLFkSR44cibVr10Z3d3fMnj072traYvr06RER0d3d/YGfCQgAkEHZfA7gWPA5QgDw0eP6XSY/AwgAwJkTgAAAyQhAAIBkBCAAQDICEAAgGQEIAJCMAAQASEYAAgAkIwABAJIRgAAAyQhAAIBkBCAAQDICEAAgGQEIAJCMAAQASEYAAgAkIwABAJIRgAAAyQhAAIBkBCAAQDICEAAgGQEIAJCMAAQASEYAAgAkIwABAJIRgAAAyQhAAIBkBCAAQDICEAAgGQEIAJCMAAQASEYAAgAkIwABAJIRgAAAyQhAAIBkBCAAQDICEAAgGQEIAJCMAAQASEYAAgAkIwABAJIRgAAAyQhAAIBkBCAAQDICEAAgGQEIAJCMAAQASEYAAgAkIwABAJIRgAAAyQhAAIBkBCAAQDICEAAgGQEIAJCMAAQASEYAAgAkIwABAJIRgAAAyQhAAIBkBCAAQDICEAAgGQEIAJCMAAQASKasAnDdunUxY8aMqKmpiYaGhti+fftpj33mmWfihhtuiI9//ONRW1sbCxYsiF/84hclnBYAYGyUTQBu3rw5li9fHqtXr47Ozs5YuHBhLFq0KLq6ukY8/sUXX4wbbrgh2traoqOjI774xS/GLbfcEp2dnSWeHACgtCqKoijGeojzYf78+TFnzpxYv3794NqsWbNi8eLF0draekZ/xmc/+9lYsmRJ3H///Wd0fH9/f9TV1UVfX1/U1tae09wAQGm5fpfJHcBjx45FR0dHNDU1DVlvamqKnTt3ntGfcfLkyTh69Ghceumlpz1mYGAg+vv7hzwAAD5qyiIAe3t748SJE1FfXz9kvb6+Pnp6es7oz/jBD34Qb7/9dtx6662nPaa1tTXq6uoGH9OmTftQcwMAjIWyCMBTKioqhjwvimLY2kiefPLJ+M53vhObN2+Oyy677LTHrVq1Kvr6+gYfBw8e/NAzAwCUWuVYD3A+TJo0KcaPHz/sbt/hw4eH3RX8Q5s3b4677747tmzZEtdff/37HltdXR3V1dUfel4AgLFUFncAq6qqoqGhIdrb24est7e3R2Nj42nPe/LJJ+POO++MJ554Im6++ebRHhMA4IJQFncAIyJaWlri9ttvj7lz58aCBQvipz/9aXR1dUVzc3NEvPf27W9/+9v4+c9/HhHvxd/SpUvjhz/8YXz+858fvHt40UUXRV1d3Zi9DgCA0VY2AbhkyZI4cuRIrF27Nrq7u2P27NnR1tYW06dPj4iI7u7uIZ8J+JOf/CSOHz8eX//61+PrX//64Podd9wRjz/+eKnHBwAombL5HMCx4HOEAOCjx/W7TH4GEACAMycAAQCSEYAAAMkIQACAZAQgAEAyAhAAIBkBCACQjAAEAEhGAAIAJCMAAQCSEYAAAMkIQACAZAQgAEAyAhAAIBkBCACQjAAEAEhGAAIAJCMAAQCSEYAAAMkIQACAZAQgAEAyAhAAIBkBCACQjAAEAEhGAAIAJCMAAQCSEYAAAMkIQACAZAQgAEAyAhAAIBkBCACQjAAEAEhGAAIAJCMAAQCSEYAAAMkIQACAZAQgAEAyAhAAIBkBCACQjAAEAEhGAAIAJCMAAQCSEYAAAMkIQACAZAQgAEAyAhAAIBkBCACQjAAEAEhGAAIAJCMAAQCSEYAAAMkIQACAZAQgAEAyAhAAIBkBCACQjAAEAEhGAAIAJCMAAQCSEYAAAMkIQACAZAQgAEAyAhAAIBkBCACQTFkF4Lp162LGjBlRU1MTDQ0NsX379vc9ftu2bdHQ0BA1NTUxc+bMeOSRR0o0KQDA2CmbANy8eXMsX748Vq9eHZ2dnbFw4cJYtGhRdHV1jXj8gQMH4qabboqFCxdGZ2dnfPvb345ly5bF008/XeLJAQBKq6IoimKshzgf5s+fH3PmzIn169cPrs2aNSsWL14cra2tw47/1re+Fc8//3zs27dvcK25uTl++ctfxq5du87oa/b390ddXV309fVFbW3th38RAMCoc/2OqBzrAc6HY8eORUdHR6xcuXLIelNTU+zcuXPEc3bt2hVNTU1D1m688cbYsGFDvPvuuzFhwoRh5wwMDMTAwMDg876+voh4718kAOCj4dR1u0zugZ2TsgjA3t7eOHHiRNTX1w9Zr6+vj56enhHP6enpGfH448ePR29vb0yePHnYOa2trbFmzZph69OmTfsQ0wMAY+HIkSNRV1c31mOMibIIwFMqKiqGPC+KYtjaBx0/0vopq1atipaWlsHnb775ZkyfPj26urrS/gt0oejv749p06bFwYMH097Ov1DYiwuL/bhw2IsLR19fX1x55ZVx6aWXjvUoY6YsAnDSpEkxfvz4YXf7Dh8+POwu3ymXX375iMdXVlbGxIkTRzynuro6qqurh63X1dX5Zr5A1NbW2osLhL24sNiPC4e9uHCMG1c2vwt71srilVdVVUVDQ0O0t7cPWW9vb4/GxsYRz1mwYMGw47du3Rpz584d8ef/AADKRVkEYERES0tLPProo7Fx48bYt29frFixIrq6uqK5uTki3nv7dunSpYPHNzc3x6uvvhotLS2xb9++2LhxY2zYsCHuu+++sXoJAAAlURZvAUdELFmyJI4cORJr166N7u7umD17drS1tcX06dMjIqK7u3vIZwLOmDEj2traYsWKFfHwww/HlClT4qGHHoovf/nLZ/w1q6ur44EHHhjxbWFKy15cOOzFhcV+XDjsxYXDXpTR5wACAHBmyuYtYAAAzowABABIRgACACQjAAEAkhGAH2DdunUxY8aMqKmpiYaGhti+ffv7Hr9t27ZoaGiImpqamDlzZjzyyCMlmrT8nc1ePPPMM3HDDTfExz/+8aitrY0FCxbEL37xixJOW97O9vvilJdeeikqKyvjc5/73OgOmMjZ7sXAwECsXr06pk+fHtXV1fHJT34yNm7cWKJpy9/Z7semTZvimmuuiYsvvjgmT54cd911Vxw5cqRE05anF198MW655ZaYMmVKVFRUxHPPPfeB56S8dhec1j//8z8XEyZMKH72s58Ve/fuLe69997ikksuKV599dURj9+/f39x8cUXF/fee2+xd+/e4mc/+1kxYcKE4qmnnirx5OXnbPfi3nvvLb73ve8V//Vf/1W8/PLLxapVq4oJEyYU//M//1PiycvP2e7FKW+++WYxc+bMoqmpqbjmmmtKM2yZO5e9+NKXvlTMnz+/aG9vLw4cOFD853/+Z/HSSy+VcOrydbb7sX379mLcuHHFD3/4w2L//v3F9u3bi89+9rPF4sWLSzx5eWlraytWr15dPP3000VEFM8+++z7Hp/12i0A38e8efOK5ubmIWuf/vSni5UrV454/N///d8Xn/70p4esffWrXy0+//nPj9qMWZztXozkM5/5TLFmzZrzPVo657oXS5YsKf7hH/6heOCBBwTgeXK2e/Gv//qvRV1dXXHkyJFSjJfO2e7HP/7jPxYzZ84csvbQQw8VU6dOHbUZszmTAMx67fYW8GkcO3YsOjo6oqmpach6U1NT7Ny5c8Rzdu3aNez4G2+8MXbv3h3vvvvuqM1a7s5lL/7QyZMn4+jRo6n/x9/nw7nuxWOPPRavvPJKPPDAA6M9YhrnshfPP/98zJ07N77//e/HFVdcEVdffXXcd9998bvf/a4UI5e1c9mPxsbGOHToULS1tUVRFPH666/HU089FTfffHMpRub/ynrtLpv/E8j51tvbGydOnIj6+voh6/X19dHT0zPiOT09PSMef/z48ejt7Y3JkyeP2rzl7Fz24g/94Ac/iLfffjtuvfXW0RgxjXPZi9/85jexcuXK2L59e1RW+k/O+XIue7F///7YsWNH1NTUxLPPPhu9vb3xta99Ld544w0/B/ghnct+NDY2xqZNm2LJkiXx+9//Po4fPx5f+tKX4kc/+lEpRub/ynrtdgfwA1RUVAx5XhTFsLUPOn6kdc7e2e7FKU8++WR85zvfic2bN8dll102WuOlcqZ7ceLEibjttttizZo1cfXVV5dqvFTO5vvi5MmTUVFREZs2bYp58+bFTTfdFA8++GA8/vjj7gKeJ2ezH3v37o1ly5bF/fffHx0dHfHCCy/EgQMHBv8f9pROxmu3v46fxqRJk2L8+PHD/uZ2+PDhYX9TOOXyyy8f8fjKysqYOHHiqM1a7s5lL07ZvHlz3H333bFly5a4/vrrR3PMFM52L44ePRq7d++Ozs7O+MY3vhER70VIURRRWVkZW7dujeuuu64ks5ebc/m+mDx5clxxxRVRV1c3uDZr1qwoiiIOHToUV1111ajOXM7OZT9aW1vj2muvjW9+85sREfGnf/qncckll8TChQvju9/9btneebrQZL12uwN4GlVVVdHQ0BDt7e1D1tvb26OxsXHEcxYsWDDs+K1bt8bcuXNjwoQJozZruTuXvYh4787fnXfeGU888YSfqTlPznYvamtr41e/+lXs2bNn8NHc3Byf+tSnYs+ePTF//vxSjV52zuX74tprr43XXnst3nrrrcG1l19+OcaNGxdTp04d1XnL3bnsxzvvvBPjxg29DI8fPz4i/t8dKEZf2mv3GP3yyUfCqV/p37BhQ7F3795i+fLlxSWXXFL87//+b1EURbFy5cri9ttvHzz+1K+Sr1ixoti7d2+xYcOGFL9KXgpnuxdPPPFEUVlZWTz88MNFd3f34OPNN98cq5dQNs52L/6Q3wI+f852L44ePVpMnTq1+Ku/+qvi17/+dbFt27biqquuKu65556xegll5Wz347HHHisqKyuLdevWFa+88kqxY8eOYu7cucW8efPG6iWUhaNHjxadnZ1FZ2dnERHFgw8+WHR2dg5+HI9r93sE4Ad4+OGHi+nTpxdVVVXFnDlzim3btg3+szvuuKP4whe+MOT4f//3fy/+7M/+rKiqqio+8YlPFOvXry/xxOXrbPbiC1/4QhERwx533HFH6QcvQ2f7ffH/E4Dn19nuxb59+4rrr7++uOiii4qpU6cWLS0txTvvvFPiqcvX2e7HQw89VHzmM58pLrroomLy5MnFX//1XxeHDh0q8dTl5d/+7d/e97//rt3vqSgK95kBADLxM4AAAMkIQACAZAQgAEAyAhAAIBkBCACQjAAEAEhGAAIAJCMAAQCSEYAAAMkIQACAZAQgAEAyAhAAIBkBCACQjAAEAEhGAAIAJCMAAQCSEYAAAMkIQACAZAQgAEAyAhAAIBkBCACQjAAEAEhGAAIAJCMAAQCSEYAAAMkIQACAZAQgAEAyAhAAIBkBCACQjAAEAEhGAAIAJPN/AHqFQA810DGSAAAAAElFTkSuQmCC' width=640.0/>\n",
       "            </div>\n",
       "        "
      ],
      "text/plain": [
       "Canvas(toolbar=Toolbar(toolitems=[('Home', 'Reset original view', 'home', 'home'), ('Back', 'Back to previous …"
      ]
     },
     "metadata": {},
     "output_type": "display_data"
    }
   ],
   "source": [
    "import pandas as pd\n",
    "data_frame = pd.DataFrame({'a': [1, 2, 3]})"
   ]
  },
  {
   "cell_type": "code",
   "execution_count": 13,
   "metadata": {},
   "outputs": [
    {
     "data": {
      "application/vnd.jupyter.widget-view+json": {
       "model_id": "d921b31642404247b94696d50a5ae2b7",
       "version_major": 2,
       "version_minor": 0
      },
      "text/plain": [
       "HBox(children=(Output(), VBox(children=(HTML(value='<h1>Velocity vs [ATP]/[ADP]</h1>'), HTML(value='<b>General…"
      ]
     },
     "metadata": {},
     "output_type": "display_data"
    },
    {
     "data": {
      "text/plain": [
       "<experiments.VelocityVSATPADPRatio at 0x7fb72e282b90>"
      ]
     },
     "execution_count": 13,
     "metadata": {},
     "output_type": "execute_result"
    }
   ],
   "source": [
    "from experiments import VelocityVSATPADPRatio\n",
    "\n",
    "VelocityVSATPADPRatio()"
   ]
  },
  {
   "cell_type": "code",
   "execution_count": 4,
   "metadata": {},
   "outputs": [
    {
     "name": "stdout",
     "output_type": "stream",
     "text": [
      "(array([         nan,  -0.96966059,  -1.93932118,  -2.90898177,\n",
      "        -3.87864236,  -4.84830295,  -5.81796354,  -6.78762413,\n",
      "        -7.75728472,  -8.72694531,  -9.6966059 , -10.66626649,\n",
      "       -11.63592709, -12.60558768, -13.57524827, -14.54490886,\n",
      "       -15.51456945, -16.48423004, -17.45389063, -18.42355122,\n",
      "       -19.39321181, -20.3628724 , -21.33253299, -22.30219358,\n",
      "       -23.27185417, -24.24151476, -25.21117535, -26.18083594,\n",
      "       -27.15049653, -28.12015712, -29.08981771, -30.0594783 ,\n",
      "       -31.02913889, -31.99879948, -32.96846008, -33.93812067,\n",
      "       -34.90778126, -35.87744185, -36.84710244, -37.81676303,\n",
      "       -38.78642362, -39.75608421, -40.7257448 , -41.69540539,\n",
      "       -42.66506598, -43.63472657, -44.60438716, -45.57404775,\n",
      "       -46.54370834, -47.51336893, -48.48302952, -49.45269011,\n",
      "       -50.4223507 , -51.39201129, -52.36167188, -53.33133247,\n",
      "       -54.30099306, -55.27065366, -56.24031425, -57.20997484,\n",
      "       -58.17963543, -59.14929602, -60.11895661, -61.0886172 ,\n",
      "       -62.05827779, -63.02793838, -63.99759897, -64.96725956,\n",
      "       -65.93692015, -66.90658074, -67.87624133, -68.84590192,\n",
      "       -69.81556251, -70.7852231 , -71.75488369, -72.72454428,\n",
      "       -73.69420487, -74.66386546, -75.63352605, -76.60318665,\n",
      "       -77.57284724, -78.54250783, -79.51216842, -80.48182901,\n",
      "       -81.4514896 , -82.42115019, -83.39081078, -84.36047137,\n",
      "       -85.33013196, -86.29979255, -87.26945314, -88.23911373,\n",
      "       -89.20877432, -90.17843491, -91.1480955 , -92.11775609,\n",
      "       -93.08741668, -94.05707727, -95.02673786, -95.99639845]), array([         nan,   2.98986261,   5.97972522,   8.96958783,\n",
      "        11.95945044,  14.94931305,  17.93917566,  20.92903827,\n",
      "        23.91890089,  26.9087635 ,  29.89862611,  32.88848872,\n",
      "        35.87835133,  38.86821394,  41.85807655,  44.84793916,\n",
      "        47.83780177,  50.82766438,  53.81752699,  56.8073896 ,\n",
      "        59.79725221,  62.78711482,  65.77697743,  68.76684004,\n",
      "        71.75670266,  74.74656527,  77.73642788,  80.72629049,\n",
      "        83.7161531 ,  86.70601571,  89.69587832,  92.68574093,\n",
      "        95.67560354,  98.66546615, 101.65532876, 104.64519137,\n",
      "       107.63505398, 110.62491659, 113.6147792 , 116.60464182,\n",
      "       119.59450443, 122.58436704, 125.57422965, 128.56409226,\n",
      "       131.55395487, 134.54381748, 137.53368009, 140.5235427 ,\n",
      "       143.51340531, 146.50326792, 149.49313053, 152.48299314,\n",
      "       155.47285575, 158.46271836, 161.45258097, 164.44244359,\n",
      "       167.4323062 , 170.42216881, 173.41203142, 176.40189403,\n",
      "       179.39175664, 182.38161925, 185.37148186, 188.36134447,\n",
      "       191.35120708, 194.34106969, 197.3309323 , 200.32079491,\n",
      "       203.31065752, 206.30052013, 209.29038275, 212.28024536,\n",
      "       215.27010797, 218.25997058, 221.24983319, 224.2396958 ,\n",
      "       227.22955841, 230.21942102, 233.20928363, 236.19914624,\n",
      "       239.18900885, 242.17887146, 245.16873407, 248.15859668,\n",
      "       251.14845929, 254.1383219 , 257.12818452, 260.11804713,\n",
      "       263.10790974, 266.09777235, 269.08763496, 272.07749757,\n",
      "       275.06736018, 278.05722279, 281.0470854 , 284.03694801,\n",
      "       287.02681062, 290.01667323, 293.00653584, 295.99639845]))\n",
      "     timestamp        mean         std      lower       upper\n",
      "0     0.000000    0.000000    0.000000        NaN         NaN\n",
      "1     1.010101    1.010101    1.010101  -0.969661    2.989863\n",
      "2     2.020202    2.020202    2.020202  -1.939321    5.979725\n",
      "3     3.030303    3.030303    3.030303  -2.908982    8.969588\n",
      "4     4.040404    4.040404    4.040404  -3.878642   11.959450\n",
      "..         ...         ...         ...        ...         ...\n",
      "95   95.959596   95.959596   95.959596 -92.117756  284.036948\n",
      "96   96.969697   96.969697   96.969697 -93.087417  287.026811\n",
      "97   97.979798   97.979798   97.979798 -94.057077  290.016673\n",
      "98   98.989899   98.989899   98.989899 -95.026738  293.006536\n",
      "99  100.000000  100.000000  100.000000 -95.996398  295.996398\n",
      "\n",
      "[100 rows x 5 columns]\n"
     ]
    },
    {
     "name": "stderr",
     "output_type": "stream",
     "text": [
      "/home/antoine/workspace/Projet-de-Master/.conda/lib/python3.11/site-packages/scipy/stats/_distn_infrastructure.py:2241: RuntimeWarning: invalid value encountered in multiply\n",
      "  lower_bound = _a * scale + loc\n",
      "/home/antoine/workspace/Projet-de-Master/.conda/lib/python3.11/site-packages/scipy/stats/_distn_infrastructure.py:2242: RuntimeWarning: invalid value encountered in multiply\n",
      "  upper_bound = _b * scale + loc\n"
     ]
    }
   ],
   "source": [
    "from scipy.stats import norm\n",
    "import pandas as pd\n",
    "\n",
    "data_frame = pd.DataFrame({\n",
    "    'timestamp': np.linspace(0, 100, 100),\n",
    "    'mean': np.linspace(0, 100, 100),\n",
    "    'std': np.linspace(0, 100, 100)\n",
    "})\n",
    "intervals = norm.interval(0.95, loc=data_frame['mean'], scale=data_frame['std'])\n",
    "print(intervals)\n",
    "data_frame[['lower', 'upper']] = pd.DataFrame(intervals).T\n",
    "print(data_frame)"
   ]
  }
 ],
 "metadata": {
  "kernelspec": {
   "display_name": "Python 3",
   "language": "python",
   "name": "python3"
  },
  "language_info": {
   "codemirror_mode": {
    "name": "ipython",
    "version": 3
   },
   "file_extension": ".py",
   "mimetype": "text/x-python",
   "name": "python",
   "nbconvert_exporter": "python",
   "pygments_lexer": "ipython3",
   "version": "3.11.7"
  }
 },
 "nbformat": 4,
 "nbformat_minor": 2
}
